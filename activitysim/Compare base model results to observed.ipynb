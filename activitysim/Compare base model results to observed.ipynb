{
 "cells": [
  {
   "cell_type": "markdown",
   "id": "involved-utility",
   "metadata": {},
   "source": [
    "# Compare base model results to observed\n",
    "\n",
    "Compare the results of the base ActivitySim run to observed values in Los Angeles area from the 2017 NHTS."
   ]
  },
  {
   "cell_type": "code",
   "execution_count": null,
   "id": "assumed-energy",
   "metadata": {},
   "outputs": [],
   "source": [
    "%matplotlib inline\n",
    "%config InlineBackend.figure_format = 'retina'\n",
    "\n",
    "import pandas as pd\n",
    "import numpy as np\n",
    "import matplotlib.pyplot as plt\n",
    "import openmatrix as omx\n",
    "import tables\n",
    "from matplotlib import ticker\n",
    "import nhts"
   ]
  },
  {
   "cell_type": "code",
   "execution_count": null,
   "id": "divided-reply",
   "metadata": {},
   "outputs": [],
   "source": [
    "plt.style.use('asu-light')"
   ]
  },
  {
   "cell_type": "code",
   "execution_count": null,
   "id": "expressed-composition",
   "metadata": {},
   "outputs": [],
   "source": [
    "skims = omx.open_file('../model_inputs/skims.omx', 'r')"
   ]
  },
  {
   "cell_type": "code",
   "execution_count": null,
   "id": "gross-passing",
   "metadata": {},
   "outputs": [],
   "source": [
    "abm_res = tables.open_file(\"/Volumes/Pheasant Ridge/diss_data/model_output/abm/base/pipeline.h5\")\n",
    "abmfn = \"/Volumes/Pheasant Ridge/diss_data/model_output/abm/base/pipeline.h5\""
   ]
  },
  {
   "cell_type": "code",
   "execution_count": null,
   "id": "eastern-factor",
   "metadata": {},
   "outputs": [],
   "source": [
    "trip_mode_choice = pd.read_hdf(abmfn, \"/trips/trip_mode_choice\")"
   ]
  },
  {
   "cell_type": "code",
   "execution_count": null,
   "id": "greatest-breach",
   "metadata": {},
   "outputs": [],
   "source": [
    "# save some memory\n",
    "total_mem_before = trip_mode_choice.memory_usage(deep=True)"
   ]
  },
  {
   "cell_type": "code",
   "execution_count": null,
   "id": "cooperative-favor",
   "metadata": {},
   "outputs": [],
   "source": [
    "total_mem_before_mb = total_mem_before.sum() // (1024**2)\n",
    "trip_mode_choice['primary_purpose'] = trip_mode_choice.primary_purpose.astype('category')\n",
    "trip_mode_choice['purpose'] = trip_mode_choice.purpose.astype('category')\n",
    "trip_mode_choice['trip_mode'] = trip_mode_choice.trip_mode.astype('category')\n",
    "assert not (trip_mode_choice.dtypes == 'object').any()\n",
    "total_mem_after = trip_mode_choice.memory_usage(deep=True)  # deep should not matter since no obj columns, but make it definitely comparable\n",
    "total_mem_after_mb = total_mem_after.sum() // (1024**2)\n",
    "print(f'data type conversion saved {total_mem_before_mb - total_mem_after_mb:,d}mb RAM (before {total_mem_before_mb:,d}mb, now {total_mem_after_mb:,d}mb)')"
   ]
  },
  {
   "cell_type": "code",
   "execution_count": null,
   "id": "union-dispute",
   "metadata": {},
   "outputs": [],
   "source": [
    "abm_res.list_nodes('/')"
   ]
  },
  {
   "cell_type": "code",
   "execution_count": null,
   "id": "sharing-lease",
   "metadata": {},
   "outputs": [],
   "source": [
    "# load the tour participation information\n",
    "tour_participation = pd.read_hdf(abmfn, '/joint_tour_participants/trip_mode_choice')"
   ]
  },
  {
   "cell_type": "code",
   "execution_count": null,
   "id": "express-measurement",
   "metadata": {},
   "outputs": [],
   "source": [
    "tour_participation"
   ]
  },
  {
   "cell_type": "code",
   "execution_count": null,
   "id": "fallen-luther",
   "metadata": {},
   "outputs": [],
   "source": [
    "n_on_tour = tour_participation.groupby('tour_id').size()"
   ]
  },
  {
   "cell_type": "code",
   "execution_count": null,
   "id": "respected-assignment",
   "metadata": {},
   "outputs": [],
   "source": [
    "n_on_tour.min()"
   ]
  },
  {
   "cell_type": "code",
   "execution_count": null,
   "id": "likely-alexandria",
   "metadata": {},
   "outputs": [],
   "source": [
    "trip_mode_choice = trip_mode_choice.merge(pd.DataFrame(n_on_tour.rename('n_on_tour')), left_on='tour_id', right_index=True, how='left')"
   ]
  },
  {
   "cell_type": "code",
   "execution_count": null,
   "id": "invalid-kruger",
   "metadata": {},
   "outputs": [],
   "source": [
    "# no 1 person tours appear in tour_participation\n",
    "trip_mode_choice['n_on_tour'] = trip_mode_choice.n_on_tour.fillna(1)"
   ]
  },
  {
   "cell_type": "markdown",
   "id": "another-conclusion",
   "metadata": {},
   "source": [
    "## Read NHTS"
   ]
  },
  {
   "cell_type": "code",
   "execution_count": null,
   "id": "southern-horse",
   "metadata": {},
   "outputs": [],
   "source": [
    "nhts_tr = pd.read_csv('../data/canhts/nhts17_caltrans_tsdc_download/survey_data/survey_trips.csv')\n",
    "# use 5-day weights since we simulated a weekday\n",
    "nhts_pwgt = pd.read_csv('../data/canhts/nhts17_caltrans_tsdc_download/survey_data/weights_person_5day.csv')\n",
    "nhts_hhwgt = pd.read_csv('../data/canhts/nhts17_caltrans_tsdc_download/survey_data/weights_household_5day.csv')\n",
    "nhts_hh = pd.read_csv('../data/canhts/nhts17_caltrans_tsdc_download/survey_data/survey_households.csv')\n",
    "nhts_hh = nhts_hh.dropna(how='all')  # get rid of blank lines\n",
    "nhts_loc = (\n",
    "    pd.read_csv('../data/canhts/nhts17_caltrans_tsdc_download/survey_data/survey_location.csv',\n",
    "                low_memory=False,\n",
    "               dtype={'statefips': 'str', 'cntyfips': 'str'}).set_index(['sampno', 'locno'])\n",
    ")"
   ]
  },
  {
   "cell_type": "code",
   "execution_count": null,
   "id": "reduced-truck",
   "metadata": {},
   "outputs": [],
   "source": [
    "nhts_loc['cntyfips'] = nhts_loc.cntyfips.str.zfill(3)\n",
    "nhts_loc['statefips'] = nhts_loc.statefips.str.zfill(2)"
   ]
  },
  {
   "cell_type": "code",
   "execution_count": null,
   "id": "solved-sauce",
   "metadata": {},
   "outputs": [],
   "source": [
    "nhts_loc.loc[pd.IndexSlice[:,100],:]"
   ]
  },
  {
   "cell_type": "code",
   "execution_count": null,
   "id": "obvious-organic",
   "metadata": {},
   "outputs": [],
   "source": [
    "nhts_tr = nhts_tr.merge(nhts_pwgt, on=['sampno', 'perno'], how='left', validate='m:1')\n",
    "nhts_tr = nhts_tr.merge(nhts_hhwgt, on='sampno', how='left', validate='m:1')\n",
    "nhts_tr = nhts_tr.merge(nhts_hh, on='sampno', how='left', validate='m:1')\n",
    "nhts_tr = nhts_tr.merge(nhts_loc.rename(columns='d_{}'.format), left_on=['sampno', 'locno'], right_index=True, how='left', validate='m:1')\n",
    "nhts_tr = nhts_tr.merge(nhts_loc.rename(columns='o_{}'.format), left_on=['sampno', 'o_locno'], right_index=True, how='left', validate='m:1')\n",
    "home_locs = nhts_loc.loc[pd.IndexSlice[:,100],:].copy()\n",
    "home_locs.index = home_locs.index.droplevel(1)\n",
    "nhts_tr = nhts_tr.merge(home_locs.rename(columns='h_{}'.format), left_on='sampno', right_index=True, how='left', validate='m:1')"
   ]
  },
  {
   "cell_type": "code",
   "execution_count": null,
   "id": "maritime-fraction",
   "metadata": {},
   "outputs": [],
   "source": [
    "# some have null weights - mostly weekends where it's expected, the few 2.0 and 5.0 values are probably holidays\n",
    "nhts_tr[nhts_tr.wttrdfin5d.isnull()].travday.value_counts()"
   ]
  },
  {
   "cell_type": "code",
   "execution_count": null,
   "id": "muslim-silence",
   "metadata": {},
   "outputs": [],
   "source": [
    "# bring this in line with our simulation\n",
    "nhts_tr = nhts_tr[\n",
    "    ~nhts_tr.wttrdfin5d.isnull() &\n",
    "    (nhts_tr.o_statefips == '06') &\n",
    "    nhts_tr.o_cntyfips.isin(['025', '037', '059', '065', '071', '111']) &\n",
    "    (nhts_tr.d_statefips == '06') &\n",
    "    nhts_tr.d_cntyfips.isin(['025', '037', '059', '065', '071', '111']) &\n",
    "    (nhts_tr.h_statefips == '06') &\n",
    "    nhts_tr.h_cntyfips.isin(['025', '037', '059', '065', '071', '111'])\n",
    "].copy()\n"
   ]
  },
  {
   "cell_type": "code",
   "execution_count": null,
   "id": "accepting-property",
   "metadata": {},
   "outputs": [],
   "source": [
    "len(nhts_tr)"
   ]
  },
  {
   "cell_type": "code",
   "execution_count": null,
   "id": "photographic-nancy",
   "metadata": {},
   "outputs": [],
   "source": [
    "# n households\n",
    "len(nhts_tr.sampno.unique())"
   ]
  },
  {
   "cell_type": "code",
   "execution_count": null,
   "id": "controversial-liquid",
   "metadata": {},
   "outputs": [],
   "source": [
    "# n persons\n",
    "len(nhts_tr[['sampno', 'perno']].drop_duplicates())"
   ]
  },
  {
   "cell_type": "markdown",
   "id": "mysterious-reasoning",
   "metadata": {},
   "source": [
    "## Trip length distribution\n",
    "\n",
    "Note that this is for _person_ trips."
   ]
  },
  {
   "cell_type": "code",
   "execution_count": null,
   "id": "compound-upset",
   "metadata": {},
   "outputs": [],
   "source": [
    "dist = np.array(skims['DIST'])\n",
    "dist = pd.DataFrame(dist, index=np.arange(dist.shape[0]), columns=np.arange(dist.shape[1])).stack()\n",
    "dist *= 1.609 # begone imperial units"
   ]
  },
  {
   "cell_type": "code",
   "execution_count": null,
   "id": "lucky-calvin",
   "metadata": {},
   "outputs": [],
   "source": [
    "trip_mode_choice = trip_mode_choice.merge(pd.DataFrame(dist.rename('trip_dist_km')), left_on=['origin', 'destination'], right_index=True, how='left', validate='m:1')"
   ]
  },
  {
   "cell_type": "code",
   "execution_count": null,
   "id": "attached-circular",
   "metadata": {},
   "outputs": [],
   "source": [
    "cumulative_trip_dist = np.sort(trip_mode_choice.trip_dist_km.to_numpy())[::1000]\n",
    "cumulative_trip_dist_prop = np.arange(len(cumulative_trip_dist)) / len(cumulative_trip_dist) * 100"
   ]
  },
  {
   "cell_type": "code",
   "execution_count": null,
   "id": "center-divorce",
   "metadata": {},
   "outputs": [],
   "source": [
    "# now, compute cumulative trip dist from nhts\n",
    "# sort unknows to start, then slice them off\n",
    "tr_miles_sort = np.argsort(nhts_tr.trpmiles.to_numpy())[(nhts_tr.trpmiles < 0).sum():]\n",
    "assert not (nhts_tr.trpmiles.iloc[tr_miles_sort] < 0).any()\n",
    "nhts_ctrpdist = (nhts_tr.trpmiles.iloc[tr_miles_sort] * 1.609)\n",
    "nhts_ctrpdist_prop = np.cumsum(nhts_tr.wttrdfin5d.iloc[tr_miles_sort]) / nhts_tr.wttrdfin5d.sum() * 100"
   ]
  },
  {
   "cell_type": "code",
   "execution_count": null,
   "id": "seventh-somalia",
   "metadata": {},
   "outputs": [],
   "source": [
    "f, ax = plt.subplots()\n",
    "plt.plot(nhts_ctrpdist, nhts_ctrpdist_prop, label='NHTS')\n",
    "plt.plot(cumulative_trip_dist, cumulative_trip_dist_prop, label='Simulated')\n",
    "plt.xlim(0, 100)\n",
    "#plt.xticks([0.1, 1, 10, 100], [0.1, 1, 10, 100])\n",
    "plt.legend()\n",
    "plt.xlabel('Trip length (km)')\n",
    "plt.ylabel('Cumulative proportion')\n",
    "ax.yaxis.set_major_formatter(ticker.FuncFormatter('{:.0f}%'.format))\n",
    "plt.savefig('../../dissertation/fig/abm/trip_length_fit.pdf', bbox_inches='tight')"
   ]
  },
  {
   "cell_type": "markdown",
   "id": "random-fossil",
   "metadata": {},
   "source": [
    "## Mode choice\n",
    "\n",
    "Again for person trips."
   ]
  },
  {
   "cell_type": "code",
   "execution_count": null,
   "id": "designing-mongolia",
   "metadata": {},
   "outputs": [],
   "source": [
    "# aggregate mode choices in ActivitySim output\n",
    "trip_mode_choice['smplmode'] = trip_mode_choice.trip_mode.map({\n",
    "    'BIKE': 'Bike',\n",
    "    'DRIVEALONEFREE': 'Drive alone',\n",
    "    'DRIVEALONEPAY': 'Drive alone',\n",
    "    'DRIVE_COM': 'Transit',\n",
    "    'DRIVE_EXP': 'Transit',\n",
    "    'DRIVE_HVY': 'Transit',\n",
    "    'DRIVE_LOC': 'Transit',\n",
    "    'DRIVE_LRF': 'Transit',\n",
    "    'SHARED2FREE': 'Carpool',\n",
    "    'SHARED2PAY': 'Carpool',\n",
    "    'SHARED3FREE': 'Carpool',\n",
    "    'SHARED3PAY': 'Carpool',\n",
    "    'TAXI': 'Taxi/TNC',\n",
    "    'TNC_SHARED': 'Taxi/TNC',\n",
    "    'TNC_SINGLE': 'Taxi/TNC',\n",
    "    'WALK': 'Walk',\n",
    "    'WALK_COM': 'Transit',\n",
    "    'WALK_EXP': 'Transit',\n",
    "    'WALK_HVY': 'Transit',\n",
    "    'WALK_LOC': 'Transit',\n",
    "    'WALK_LRF': 'Transit'\n",
    "}).astype('category')"
   ]
  },
  {
   "cell_type": "code",
   "execution_count": null,
   "id": "instructional-audit",
   "metadata": {},
   "outputs": [],
   "source": [
    "nhts_tr['smplmode'] = nhts_tr.trptrans.map({\n",
    "    -9: \"Other\",\n",
    "    -8: \"Other\",\n",
    "    -7: \"Other\",\n",
    "    -1: \"Other\",\n",
    "     1: \"Walk\",\n",
    "     2: \"Bike\",\n",
    "     3: \"Drive alone\",\n",
    "     4: \"Drive alone\",\n",
    "     5: \"Drive alone\",\n",
    "     6: \"Drive alone\",\n",
    "     7: \"Other\",\n",
    "     8: \"Other\",\n",
    "     9: \"Other\",\n",
    "    10: \"Other\",  # or maybe transit? not sure how ActivitySim handles school bus trips\n",
    "    11: \"Transit\",\n",
    "    12: \"Other\",\n",
    "    13: \"Transit\",\n",
    "    14: \"Other\",\n",
    "    15: \"Transit\",\n",
    "    16: \"Transit\",\n",
    "    17: \"Taxi/TNC\",\n",
    "    18: \"Other\",\n",
    "    19: \"Other\",\n",
    "    20: \"Other\",\n",
    "    97: \"Other\"\n",
    "}).astype('category').cat.add_categories([\"Carpool\"])"
   ]
  },
  {
   "cell_type": "code",
   "execution_count": null,
   "id": "random-harassment",
   "metadata": {},
   "outputs": [],
   "source": [
    "nhts_tr.loc[(nhts_tr.numontrp - nhts_tr.nonhhcnt >= 2) & (nhts_tr.smplmode == 'Drive alone'), 'smplmode'] = \"Carpool\""
   ]
  },
  {
   "cell_type": "code",
   "execution_count": null,
   "id": "reported-pillow",
   "metadata": {},
   "outputs": [],
   "source": [
    "sim_shares = trip_mode_choice.groupby('smplmode').size() / len(trip_mode_choice)\n",
    "nhts_shares = nhts_tr[nhts_tr.smplmode != 'Other'].groupby('smplmode').wttrdfin5d.sum() / nhts_tr.loc[nhts_tr.smplmode != \"Other\", 'wttrdfin5d'].sum()\n",
    "nhts_shares = nhts_shares.reindex(sim_shares.index)"
   ]
  },
  {
   "cell_type": "code",
   "execution_count": null,
   "id": "southwest-holmes",
   "metadata": {},
   "outputs": [],
   "source": [
    "f, ax = plt.subplots()\n",
    "plt.bar(np.arange(len(sim_shares)) - 0.2, nhts_shares * 100, width=0.4, label='NHTS')\n",
    "plt.bar(np.arange(len(sim_shares)) + 0.2, sim_shares * 100, width=0.4, label='Simulated')\n",
    "plt.xticks(np.arange(len(sim_shares)), sim_shares.index)\n",
    "plt.legend()\n",
    "ax.yaxis.set_major_formatter(ticker.FuncFormatter('{:.0f}%'.format))\n",
    "plt.savefig('../../dissertation/fig/abm/mode_choice_comparison.pdf', bbox_inches='tight')"
   ]
  },
  {
   "cell_type": "code",
   "execution_count": null,
   "id": "beautiful-grammar",
   "metadata": {},
   "outputs": [],
   "source": [
    "simhr = trip_mode_choice.groupby('depart').size() / len(trip_mode_choice) * 100"
   ]
  },
  {
   "cell_type": "code",
   "execution_count": null,
   "id": "little-import",
   "metadata": {},
   "outputs": [],
   "source": [
    "nhts_tr['starthr'] = nhts_tr.strttime // 100\n",
    "nhtshr = nhts_tr.groupby('starthr').wttrdfin5d.sum() / nhts_tr.wttrdfin5d.sum() * 100"
   ]
  },
  {
   "cell_type": "code",
   "execution_count": null,
   "id": "measured-bahrain",
   "metadata": {},
   "outputs": [],
   "source": [
    "simhr = simhr.reindex(nhtshr.index)\n",
    "f, ax = plt.subplots()\n",
    "plt.bar(np.arange(len(simhr)) - 0.2, nhtshr , width=0.4, label='NHTS')\n",
    "plt.bar(np.arange(len(simhr)) + 0.2, simhr, width=0.4, label='Simulated')\n",
    "plt.xticks([0, 3, 6, 9, 12, 15, 18, 21], ['12a', '3', '6', '9', '12p', '3p', '6p', '9p'])\n",
    "plt.legend()\n",
    "ax.yaxis.set_major_formatter(ticker.FuncFormatter('{:.0f}%'.format))\n",
    "plt.savefig('../../dissertation/fig/abm/departure_time_comparison.pdf', bbox_inches='tight')"
   ]
  },
  {
   "cell_type": "code",
   "execution_count": null,
   "id": "boolean-conditions",
   "metadata": {},
   "outputs": [],
   "source": [
    "np.sum((trip_mode_choice.trip_mode == 'SHARED3FREE') & (trip_mode_choice.depart.isin([5, 6, 7, 8, 9])))"
   ]
  },
  {
   "cell_type": "code",
   "execution_count": null,
   "id": "tribal-technician",
   "metadata": {},
   "outputs": [],
   "source": [
    "s"
   ]
  }
 ],
 "metadata": {
  "kernelspec": {
   "display_name": "Python 3",
   "language": "python",
   "name": "python3"
  },
  "language_info": {
   "codemirror_mode": {
    "name": "ipython",
    "version": 3
   },
   "file_extension": ".py",
   "mimetype": "text/x-python",
   "name": "python",
   "nbconvert_exporter": "python",
   "pygments_lexer": "ipython3",
   "version": "3.8.8"
  }
 },
 "nbformat": 4,
 "nbformat_minor": 5
}
