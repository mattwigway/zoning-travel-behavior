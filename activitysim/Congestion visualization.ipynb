{
 "cells": [
  {
   "cell_type": "code",
   "execution_count": null,
   "id": "34806794",
   "metadata": {},
   "outputs": [],
   "source": [
    "%matplotlib inline\n",
    "%config InlineBackend.figure_format = 'retina'\n",
    "\n",
    "import pandas as pd\n",
    "import numpy as np\n",
    "import matplotlib.pyplot as plt\n",
    "import matplotlib.patches as mpatch\n",
    "import geopandas as gp\n",
    "from shapely import wkt\n",
    "from shapely.geometry import LineString"
   ]
  },
  {
   "cell_type": "code",
   "execution_count": null,
   "id": "a6c63e2c",
   "metadata": {},
   "outputs": [],
   "source": [
    "plt.style.use('asu-light')"
   ]
  },
  {
   "cell_type": "code",
   "execution_count": null,
   "id": "c2a9b191",
   "metadata": {},
   "outputs": [],
   "source": [
    "base_pop = pd.read_csv('../model_inputs/base/persons.csv')\n",
    "scenario_pop = pd.read_csv('../model_inputs/npv_low_opcost/persons.csv')"
   ]
  },
  {
   "cell_type": "code",
   "execution_count": null,
   "id": "2bf0e27b",
   "metadata": {},
   "outputs": [],
   "source": [
    "base_flows = pd.read_csv('../data/congestion_results/base_am_flows.csv')\n",
    "npv_flows = pd.read_csv('../data/congestion_results/npv_am_flows.csv')\n",
    "graph = pd.read_csv('../data/congestion_results/base_am_flows.graph.csv')  # both base and npv use same graph"
   ]
  },
  {
   "cell_type": "code",
   "execution_count": null,
   "id": "5d1685c6",
   "metadata": {},
   "outputs": [],
   "source": [
    "base_flows = base_flows.merge(graph, left_on=['segment_id', 'target_segment_id'], right_on=['source_id', 'target_id'], validate='1:1')\n",
    "npv_flows = npv_flows.merge(graph, left_on=['segment_id', 'target_segment_id'], right_on=['source_id', 'target_id'], validate='1:1')"
   ]
  },
  {
   "cell_type": "code",
   "execution_count": null,
   "id": "cf952de2",
   "metadata": {},
   "outputs": [],
   "source": [
    "base_flows['freeflow_tt'] = base_flows.freeflow_traversal_time_secs + base_flows.turn_costs\n",
    "base_flows['congested_tt_ratio'] = base_flows.congested_travel_time_secs / base_flows.freeflow_tt\n",
    "npv_flows['freeflow_tt'] = npv_flows.freeflow_traversal_time_secs + npv_flows.turn_costs\n",
    "npv_flows['congested_tt_ratio'] = npv_flows.congested_travel_time_secs / npv_flows.freeflow_tt"
   ]
  },
  {
   "cell_type": "code",
   "execution_count": null,
   "id": "d7c68df2",
   "metadata": {},
   "outputs": [],
   "source": [
    "# b/c of how the SCAG cost functions work, motorway links may have congested travel time < freeflow travel time. Don't count those as negative\n",
    "# time in congestion\n",
    "base_time_in_congestion = np.sum(np.maximum(base_flows.congested_travel_time_secs - base_flows.freeflow_traversal_time_secs, 0) * base_flows.turn_flow) / 60 / len(base_pop)\n",
    "npv_time_in_congestion = np.sum(np.maximum(npv_flows.congested_travel_time_secs - npv_flows.freeflow_traversal_time_secs, 0) * npv_flows.turn_flow) / 60 / len(base_pop)\n",
    "print(f\"\"\"\n",
    "{base_time_in_congestion=}\n",
    "{npv_time_in_congestion=}\n",
    "\"\"\")"
   ]
  },
  {
   "cell_type": "markdown",
   "id": "5ec9325f",
   "metadata": {},
   "source": [
    "## Congestion maps"
   ]
  },
  {
   "cell_type": "code",
   "execution_count": null,
   "id": "a515eab6",
   "metadata": {},
   "outputs": [],
   "source": [
    "base_flows.head()"
   ]
  },
  {
   "cell_type": "code",
   "execution_count": null,
   "id": "94d6a1de",
   "metadata": {},
   "outputs": [],
   "source": [
    "# every edge with the same source represents the same road segment. combine them so they don't all sit on top of one another\n",
    "grpd = base_flows.groupby('segment_id')\n",
    "base_segments = pd.DataFrame({\n",
    "    'congested_tt_ratio': grpd.congested_tt_ratio.mean(),\n",
    "    'congested_travel_time_secs': grpd.congested_travel_time_secs.mean(),\n",
    "    'freeflow_tt': grpd.freeflow_tt.mean(),\n",
    "    'length_m': grpd.length_m.first(),\n",
    "    'rclass': grpd.rclass.first(),\n",
    "    'geom': grpd.geom.first()\n",
    "})\n",
    "base_segments['geom'] = base_segments.geom.map(wkt.loads)\n",
    "base_segments = gp.GeoDataFrame(base_segments, geometry='geom')\n",
    "base_segments.crs = {'init': 'epsg:4326'}"
   ]
  },
  {
   "cell_type": "code",
   "execution_count": null,
   "id": "638baa52",
   "metadata": {},
   "outputs": [],
   "source": [
    "base_segments = base_segments.to_crs(epsg=26911)  # so we can use simple math"
   ]
  },
  {
   "cell_type": "code",
   "execution_count": null,
   "id": "c1876e79",
   "metadata": {},
   "outputs": [],
   "source": [
    "def heading (pt1, pt2):\n",
    "    return np.arctan2((pt2[0] - pt1[0]), (pt2[1] - pt1[1]))"
   ]
  },
  {
   "cell_type": "code",
   "execution_count": null,
   "id": "5e1ab224",
   "metadata": {},
   "outputs": [],
   "source": [
    "# https://github.com/numpy/numpy/issues/5228\n",
    "def pol2cart(theta, rho):\n",
    "    x = rho * np.cos(theta + np.pi / 2)\n",
    "    y = rho * np.sin(theta + np.pi / 2)\n",
    "    return x, y"
   ]
  },
  {
   "cell_type": "code",
   "execution_count": null,
   "id": "91cff0ca",
   "metadata": {},
   "outputs": [],
   "source": [
    "def offset_geom_to_right(geom, distance=100):\n",
    "    if len(geom.coords) == 0:\n",
    "        return geom\n",
    "    else:\n",
    "        output_coords = []\n",
    "        # offset first coord 90 degrees right\n",
    "        # nb all calcs here in radians\n",
    "        initial_hdg = heading(geom.coords[0], geom.coords[1])\n",
    "        offset_hdg = initial_hdg + np.pi / 2\n",
    "        offx, offy = pol2cart(offset_hdg, distance)\n",
    "        output_coords.append([geom.coords[0][0] + offx, geom.coords[0][1] + offy])\n",
    "        \n",
    "        for prev, cur, nxt in zip(geom.coords[:-2], geom.coords[1:-1], geom.coords[2:]):\n",
    "            hdg = heading(prev, nxt)\n",
    "            offset_hdg = hdg + np.pi / 2\n",
    "            offx, offy = pol2cart(offset_hdg, distance)\n",
    "            output_coords.append([cur[0] + offx, cur[1] + offy])\n",
    "            \n",
    "        # and the final coord\n",
    "        final_hdg = heading(geom.coords[-2], geom.coords[-1])\n",
    "        offset_hdg = final_hdg + np.pi / 2\n",
    "        offx, offy = pol2cart(offset_hdg, distance)\n",
    "        output_coords.append([geom.coords[-1][0] + offx, geom.coords[-1][1] + offy])\n",
    "    \n",
    "        return LineString(output_coords)"
   ]
  },
  {
   "cell_type": "code",
   "execution_count": null,
   "id": "907e1f9b",
   "metadata": {},
   "outputs": [],
   "source": [
    "base_segments['geom'] = base_segments.geom.map(offset_geom_to_right)"
   ]
  },
  {
   "cell_type": "code",
   "execution_count": null,
   "id": "a1ad0404",
   "metadata": {},
   "outputs": [],
   "source": [
    "base_segments['congest_cat'] = pd.cut(base_segments.congested_tt_ratio, [0, 1.1, 1.25, 1.5, 2, np.inf], labels=['≤10%', '10%–25%', '25%–50%', '50%–100%', '>100%'])"
   ]
  },
  {
   "cell_type": "code",
   "execution_count": null,
   "id": "20849c6f",
   "metadata": {},
   "outputs": [],
   "source": [
    "land = gp.read_file('../../sorting/data/ne_10m_land.shp').to_crs(epsg=26911)"
   ]
  },
  {
   "cell_type": "code",
   "execution_count": null,
   "id": "1a3a2f94",
   "metadata": {},
   "outputs": [],
   "source": [
    "f, ax = plt.subplots(figsize=(16, 12))\n",
    "land.plot(color='#fafafa', ax=ax)\n",
    "cong_col = {\n",
    "    '≤10%': '#00a3e0',\n",
    "    '10%–25%': '#fef0d9',\n",
    "    '25%–50%': '#fdcc8a',\n",
    "    '50%–100%': '#fc8d59',\n",
    "    '>100%': '#d7301f'\n",
    "    \n",
    "}\n",
    "base_segments.plot(ax=ax, legend=False, lw=1, color=base_segments.congest_cat.replace(cong_col))\n",
    "\n",
    "plt.xlim(345_000, 500_000)\n",
    "plt.ylim(3_700_000, 3_810_000)\n",
    "plt.xticks([])\n",
    "plt.yticks([])\n",
    "\n",
    "patches = [mpatch.Patch(color=c) for c in cong_col.values()]\n",
    "labels = cong_col.keys()\n",
    "\n",
    "\n",
    "ax.legend(\n",
    "    patches,\n",
    "    labels,\n",
    "    loc='upper right',\n",
    "    title='Travel speed vs. freeflow',\n",
    "    framealpha=1,\n",
    "    fontsize='medium',\n",
    "    title_fontsize='medium'\n",
    ")\n",
    "plt.text(1, 0, 'Colors courtesy ColorBrewer', transform=ax.transAxes, ha='right', va='bottom')\n",
    "\n",
    "# label some things\n",
    "plt.text(460_000, 3_780_000, 'Inland Empire')\n",
    "plt.text(420_000, 3_720_000, 'Orange County')\n",
    "plt.text(381_000, 3_771_000, 'Central Los Angeles')\n",
    "\n",
    "plt.savefig('../../dissertation/fig/abm/congestion_base.png', dpi=600, bbox_inches='tight')"
   ]
  },
  {
   "cell_type": "markdown",
   "id": "35574c90",
   "metadata": {},
   "source": [
    "## Now change in congestion"
   ]
  },
  {
   "cell_type": "code",
   "execution_count": null,
   "id": "164983c9",
   "metadata": {},
   "outputs": [],
   "source": [
    "base_segments['scenario_tt'] = npv_flows.groupby('segment_id').congested_travel_time_secs.mean().reindex(base_segments.index)\n",
    "assert not base_segments.scenario_tt.isnull().any()"
   ]
  },
  {
   "cell_type": "code",
   "execution_count": null,
   "id": "113ca017",
   "metadata": {},
   "outputs": [],
   "source": [
    "base_segments['delta_tt'] = base_segments.scenario_tt / base_segments.congested_travel_time_secs - 1\n",
    "base_segments.delta_tt.describe()"
   ]
  },
  {
   "cell_type": "code",
   "execution_count": null,
   "id": "175ffb6e",
   "metadata": {},
   "outputs": [],
   "source": [
    "base_segments['delta_cat'] = pd.cut(base_segments.delta_tt, [-np.inf, -0.25, -0.05, 0.05, 0.25, np.inf], labels=['Decrease ≥25%', 'Decrease 5%–25%', 'Within 5%', 'Increase 5%–25%', 'Increase >25%'])"
   ]
  },
  {
   "cell_type": "code",
   "execution_count": null,
   "id": "eb84f852",
   "metadata": {},
   "outputs": [],
   "source": [
    "f, ax = plt.subplots(figsize=(16, 12))\n",
    "land.plot(color='#fafafa', ax=ax)\n",
    "cong_col = {\n",
    "'Increase >25%': '#a6611a',\n",
    "    'Increase 5%–25%': '#dfc27d',\n",
    "    'Within 5%': '#dddddd',\n",
    "    'Decrease 5%–25%': '#014B34',\n",
    "    'Decrease ≥25%': '#016644'\n",
    "}\n",
    "\n",
    "#dfc27d\n",
    "#f5f5f5\n",
    "#80cdc1\n",
    "#018571\n",
    "\n",
    "base_segments.plot(ax=ax, legend=False, lw=1, color=base_segments.delta_cat.replace(cong_col))\n",
    "\n",
    "plt.xlim(345_000, 500_000)\n",
    "plt.ylim(3_700_000, 3_810_000)\n",
    "plt.xticks([])\n",
    "plt.yticks([])\n",
    "\n",
    "patches = [mpatch.Patch(color=c) for c in cong_col.values()]\n",
    "labels = cong_col.keys()\n",
    "\n",
    "\n",
    "ax.legend(\n",
    "    patches,\n",
    "    labels,\n",
    "    loc='upper right',\n",
    "    title='Change in travel time',\n",
    "    framealpha=1,\n",
    "    fontsize='medium',\n",
    "    title_fontsize='medium'\n",
    ")\n",
    "plt.text(1, 0, 'Colors courtesy ColorBrewer', transform=ax.transAxes, ha='right', va='bottom')\n",
    "\n",
    "# label some things\n",
    "plt.text(460_000, 3_780_000, 'Inland Empire')\n",
    "plt.text(420_000, 3_720_000, 'Orange County')\n",
    "plt.text(381_000, 3_763_000, 'Central Los Angeles')\n",
    "\n",
    "plt.savefig('../../dissertation/fig/abm/congestion_delta.png', dpi=600, bbox_inches='tight')"
   ]
  },
  {
   "cell_type": "code",
   "execution_count": null,
   "id": "65b6c39f",
   "metadata": {},
   "outputs": [],
   "source": [
    "plt.hist(base_segments.congested_travel_time_secs / base_segments.freeflow_tt, weights=base_segments.length_m / base_segments.length_m.sum(), bins=np.arange(0, 3, 0.125), alpha=0.5, label=\"Base\")\n",
    "plt.hist(base_segments.scenario_tt / base_segments.freeflow_tt, weights=base_segments.length_m / base_segments.length_m.sum(), bins=np.arange(0, 3, 0.125), alpha=0.5, label=\"Low operating cost\")\n",
    "plt.xlim(0.75, 3)\n",
    "plt.yticks([])\n",
    "plt.xlabel(\"Ratio of congested to free-flow travel time\")\n",
    "plt.ylabel(\"Kilometers of roadway\")\n",
    "plt.legend()\n",
    "plt.savefig('../../dissertation/fig/abm/congestion_hist.pdf', bbox_inches='tight')"
   ]
  },
  {
   "cell_type": "code",
   "execution_count": null,
   "id": "91ed3d3d",
   "metadata": {},
   "outputs": [],
   "source": [
    "base_segments.loc[base_segments.delta_tt < 0, 'rclass'].value_counts()"
   ]
  },
  {
   "cell_type": "code",
   "execution_count": null,
   "id": "97d4d54a",
   "metadata": {},
   "outputs": [],
   "source": [
    "base_segments.loc[base_segments.rclass == 'motorway_link', 'delta_tt'].describe()"
   ]
  },
  {
   "cell_type": "code",
   "execution_count": null,
   "id": "d4554e09",
   "metadata": {},
   "outputs": [],
   "source": []
  },
  {
   "cell_type": "code",
   "execution_count": null,
   "id": "274e1c2a",
   "metadata": {},
   "outputs": [],
   "source": [
    "test_gdf = base_segments.iloc[[1, 1]].copy()"
   ]
  },
  {
   "cell_type": "code",
   "execution_count": null,
   "id": "c34e2cb4",
   "metadata": {},
   "outputs": [],
   "source": [
    "test_gdf.geom.iloc[1] = offset_geom_to_right(test_gdf.geom.iloc[0], 100)"
   ]
  },
  {
   "cell_type": "code",
   "execution_count": null,
   "id": "c2edb7e7",
   "metadata": {},
   "outputs": [],
   "source": [
    "test_gdf['idx'] = [1, 2]"
   ]
  },
  {
   "cell_type": "code",
   "execution_count": null,
   "id": "7e32209a",
   "metadata": {},
   "outputs": [],
   "source": [
    "test_gdf.plot(column='idx', legend=True)"
   ]
  },
  {
   "cell_type": "code",
   "execution_count": null,
   "id": "25b1adbb",
   "metadata": {},
   "outputs": [],
   "source": [
    "test_gdf.geom.iloc[1].coords[0]"
   ]
  },
  {
   "cell_type": "code",
   "execution_count": null,
   "id": "35a101bd",
   "metadata": {},
   "outputs": [],
   "source": [
    "heading([1, 1], [2, 1]) * 180 / np.pi"
   ]
  },
  {
   "cell_type": "code",
   "execution_count": null,
   "id": "35fe7724",
   "metadata": {},
   "outputs": [],
   "source": [
    "pol2cart(0, 1)"
   ]
  },
  {
   "cell_type": "code",
   "execution_count": null,
   "id": "0d38165b",
   "metadata": {},
   "outputs": [],
   "source": []
  }
 ],
 "metadata": {
  "kernelspec": {
   "display_name": "Python 3",
   "language": "python",
   "name": "python3"
  },
  "language_info": {
   "codemirror_mode": {
    "name": "ipython",
    "version": 3
   },
   "file_extension": ".py",
   "mimetype": "text/x-python",
   "name": "python",
   "nbconvert_exporter": "python",
   "pygments_lexer": "ipython3",
   "version": "3.8.8"
  }
 },
 "nbformat": 4,
 "nbformat_minor": 5
}
