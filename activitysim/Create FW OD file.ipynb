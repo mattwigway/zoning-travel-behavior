{
 "cells": [
  {
   "cell_type": "code",
   "execution_count": null,
   "id": "loose-czech",
   "metadata": {},
   "outputs": [],
   "source": [
    "import pandas as pd"
   ]
  },
  {
   "cell_type": "code",
   "execution_count": null,
   "id": "preliminary-marble",
   "metadata": {},
   "outputs": [],
   "source": [
    "tract_order = pd.read_parquet('../la_abm/data/skim_tracts.parquet')\n",
    "tract_centroids = pd.read_csv('../data/socal_tract_centroids.csv', dtype={'geoid': 'str'})"
   ]
  },
  {
   "cell_type": "code",
   "execution_count": null,
   "id": "collect-funds",
   "metadata": {},
   "outputs": [],
   "source": [
    "tract_centroids = tract_centroids.merge(tract_order, on='geoid', how='left', validate='1:1')\n",
    "assert not tract_centroids.idx.isnull().any()"
   ]
  },
  {
   "cell_type": "code",
   "execution_count": null,
   "id": "occasional-worse",
   "metadata": {},
   "outputs": [],
   "source": [
    "# some zones deleted by activitysim (I think the ones in the water)\n",
    "final_lu = pd.read_csv('/Volumes/Pheasant Ridge/diss_data/model_output/abm/npv_low_opcost/final_land_use.csv')"
   ]
  },
  {
   "cell_type": "code",
   "execution_count": null,
   "id": "rough-cornell",
   "metadata": {},
   "outputs": [],
   "source": [
    "tract_centroids = tract_centroids.set_index('idx')\n",
    "tract_centroids = tract_centroids.loc[final_lu.zone_id]"
   ]
  },
  {
   "cell_type": "code",
   "execution_count": null,
   "id": "conceptual-imperial",
   "metadata": {},
   "outputs": [],
   "source": [
    "tract_centroids"
   ]
  },
  {
   "cell_type": "code",
   "execution_count": null,
   "id": "neither-tooth",
   "metadata": {},
   "outputs": [],
   "source": [
    "tract_centroids.to_csv('../frankwolfe/od_npv_low_opcost.csv', index=False)"
   ]
  },
  {
   "cell_type": "code",
   "execution_count": null,
   "id": "detected-parker",
   "metadata": {},
   "outputs": [],
   "source": []
  },
  {
   "cell_type": "code",
   "execution_count": null,
   "id": "loaded-attitude",
   "metadata": {},
   "outputs": [],
   "source": []
  },
  {
   "cell_type": "code",
   "execution_count": null,
   "id": "turned-divorce",
   "metadata": {},
   "outputs": [],
   "source": []
  },
  {
   "cell_type": "code",
   "execution_count": null,
   "id": "mature-maker",
   "metadata": {},
   "outputs": [],
   "source": []
  }
 ],
 "metadata": {
  "kernelspec": {
   "display_name": "Python 3",
   "language": "python",
   "name": "python3"
  },
  "language_info": {
   "codemirror_mode": {
    "name": "ipython",
    "version": 3
   },
   "file_extension": ".py",
   "mimetype": "text/x-python",
   "name": "python",
   "nbconvert_exporter": "python",
   "pygments_lexer": "ipython3",
   "version": "3.8.8"
  }
 },
 "nbformat": 4,
 "nbformat_minor": 5
}
