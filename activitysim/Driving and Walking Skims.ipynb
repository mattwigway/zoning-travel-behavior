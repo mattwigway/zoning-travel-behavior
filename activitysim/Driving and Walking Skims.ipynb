{
 "cells": [
  {
   "cell_type": "markdown",
   "id": "worthy-jonathan",
   "metadata": {},
   "source": [
    "# Driving, walking, biking skims\n",
    "\n",
    "Compute driving time from every tract to every other tract in Los Angeles, using OSRM. Note that `--max-table-size=5000` or so is required when starting osrm-routed. This should be run first, followed by `Congestion model` and `Transit model`."
   ]
  },
  {
   "cell_type": "code",
   "execution_count": null,
   "id": "geographic-syndication",
   "metadata": {},
   "outputs": [],
   "source": [
    "%matplotlib inline\n",
    "%config InlineBackend.figure_format = 'retina'\n",
    "\n",
    "import pandas as pd\n",
    "import numpy as np\n",
    "import matplotlib.pyplot as plt\n",
    "import requests\n",
    "import geopandas as gp\n",
    "import openmatrix as omx\n",
    "\n",
    "DB_URI = 'postgresql://matthewc@localhost/matthewc'\n",
    "OSRM_DRIVE_URI = 'http://localhost:5000'\n",
    "OSRM_WALK_URI = 'http://localhost:5001'"
   ]
  },
  {
   "cell_type": "code",
   "execution_count": null,
   "id": "subtle-wagon",
   "metadata": {},
   "outputs": [],
   "source": [
    "# ORDER BY to force stable order \n",
    "tract_centroids = gp.read_postgis('''\n",
    "    SELECT geoid, ST_Centroid(geog)::geometry AS geom\n",
    "    FROM diss.ca_tracts\n",
    "    WHERE countyfp in ('025', '037', '059', '065', '071', '111')\n",
    "    ORDER BY geoid''', DB_URI)"
   ]
  },
  {
   "cell_type": "markdown",
   "id": "fifth-history",
   "metadata": {},
   "source": [
    "## Initialize OpenMatrix file"
   ]
  },
  {
   "cell_type": "code",
   "execution_count": null,
   "id": "going-sailing",
   "metadata": {},
   "outputs": [],
   "source": [
    "skims = omx.open_file('../la_abm/data/skims.omx', 'w')  # overwrite"
   ]
  },
  {
   "cell_type": "code",
   "execution_count": null,
   "id": "generic-gossip",
   "metadata": {},
   "outputs": [],
   "source": [
    "tract_centroids['idx'] = np.arange(len(tract_centroids))"
   ]
  },
  {
   "cell_type": "code",
   "execution_count": null,
   "id": "continuous-delivery",
   "metadata": {},
   "outputs": [],
   "source": [
    "tract_centroids[['geoid', 'idx']].to_parquet('../la_abm/data/skim_tracts.parquet')"
   ]
  },
  {
   "cell_type": "markdown",
   "id": "other-softball",
   "metadata": {},
   "source": [
    "## Retrieve distance and free-flow travel time for driving"
   ]
  },
  {
   "cell_type": "code",
   "execution_count": null,
   "id": "outer-closure",
   "metadata": {},
   "outputs": [],
   "source": [
    "request_url = f'{OSRM_DRIVE_URI}/table/v1/driving/' + ';'.join(map(lambda x: '{},{}'.format(*x), zip(tract_centroids.geom.x, tract_centroids.geom.y))) + '?annotations=duration,distance'\n",
    "print(request_url[:500])"
   ]
  },
  {
   "cell_type": "code",
   "execution_count": null,
   "id": "double-acceptance",
   "metadata": {},
   "outputs": [],
   "source": [
    "%time raw_dmat = requests.get(request_url).json()"
   ]
  },
  {
   "cell_type": "code",
   "execution_count": null,
   "id": "primary-indiana",
   "metadata": {},
   "outputs": [],
   "source": [
    "# create base dmat and convert to minutes\n",
    "# TODO what about distances?\n",
    "base_dmat = np.array(raw_dmat['durations']) / 60"
   ]
  },
  {
   "cell_type": "code",
   "execution_count": null,
   "id": "removed-laser",
   "metadata": {},
   "outputs": [],
   "source": [
    "skims['car_freeflow'] = base_dmat"
   ]
  },
  {
   "cell_type": "code",
   "execution_count": null,
   "id": "silent-medicaid",
   "metadata": {},
   "outputs": [],
   "source": [
    "skims['car_distance_km'] = np.array(raw_dmat['distances']) / 1000"
   ]
  },
  {
   "cell_type": "code",
   "execution_count": null,
   "id": "several-butterfly",
   "metadata": {},
   "outputs": [],
   "source": [
    "np.array(skims['car_distance_km'])"
   ]
  },
  {
   "cell_type": "markdown",
   "id": "exclusive-warning",
   "metadata": {},
   "source": [
    "## Retrieve distance and free-flow times for walking"
   ]
  },
  {
   "cell_type": "code",
   "execution_count": null,
   "id": "peaceful-viewer",
   "metadata": {},
   "outputs": [],
   "source": [
    "request_url = f'{OSRM_WALK_URI}/table/v1/walking/' + ';'.join(map(lambda x: '{},{}'.format(*x), zip(tract_centroids.geom.x, tract_centroids.geom.y))) + '?annotations=duration,distance'\n",
    "%time raw_dmat = requests.get(request_url).json()\n",
    "# astype because there are some Nones here, make them nans\n",
    "skims['walk'] = np.array(raw_dmat['durations']).astype('float64') / 60\n",
    "skims['walk_dist_km'] = np.array(raw_dmat['distances']).astype('float64') / 1000"
   ]
  },
  {
   "cell_type": "code",
   "execution_count": null,
   "id": "frequent-circumstances",
   "metadata": {},
   "outputs": [],
   "source": [
    "skims.close()"
   ]
  },
  {
   "cell_type": "code",
   "execution_count": null,
   "id": "dress-niagara",
   "metadata": {},
   "outputs": [],
   "source": []
  }
 ],
 "metadata": {
  "kernelspec": {
   "display_name": "Python 3",
   "language": "python",
   "name": "python3"
  },
  "language_info": {
   "codemirror_mode": {
    "name": "ipython",
    "version": 3
   },
   "file_extension": ".py",
   "mimetype": "text/x-python",
   "name": "python",
   "nbconvert_exporter": "python",
   "pygments_lexer": "ipython3",
   "version": "3.8.8"
  }
 },
 "nbformat": 4,
 "nbformat_minor": 5
}
