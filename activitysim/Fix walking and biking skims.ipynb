{
 "cells": [
  {
   "cell_type": "markdown",
   "id": "endless-action",
   "metadata": {},
   "source": [
    "# Fix walking and biking skims\n",
    "\n",
    "There are two Census tracts that are disconnected from the biking/walking network (and thus most likely from the transit network as well): 2372 (06037980031), which is Terminal Island, and 3737 (06071010417), which is Palm Wells, CA. It is actually not possible to bike, walk, or take transit to Terminal Island - there are no bus stops, and the island is connected to the mainland only by three freeway bridges. It is theoretically possible to walk or bike to Palm Wells, but it's really in the middle of nowhere so assume no one does. There is one transit route to Palm Wells, operated by the [MBTA](https://www.transit.land/routes/r-9qj1-12#summary) (not the one you think), but we don't have that agency in our transit network anyhow."
   ]
  },
  {
   "cell_type": "code",
   "execution_count": null,
   "id": "ahead-throat",
   "metadata": {},
   "outputs": [],
   "source": [
    "import numpy as np\n",
    "import openmatrix as omx"
   ]
  },
  {
   "cell_type": "code",
   "execution_count": null,
   "id": "brief-german",
   "metadata": {},
   "outputs": [],
   "source": [
    "skims = omx.open_file('../model_inputs/skims.omx', mode='a')"
   ]
  },
  {
   "cell_type": "code",
   "execution_count": null,
   "id": "professional-script",
   "metadata": {},
   "outputs": [],
   "source": [
    "walk = np.array(skims['DISTWALK'])"
   ]
  },
  {
   "cell_type": "code",
   "execution_count": null,
   "id": "bright-modern",
   "metadata": {},
   "outputs": [],
   "source": [
    "walk[:,3737]"
   ]
  },
  {
   "cell_type": "code",
   "execution_count": null,
   "id": "norwegian-moscow",
   "metadata": {},
   "outputs": [],
   "source": [
    "# set these to very high travel times, to effectively make their probability 0 (since TT has a negative coef)\n",
    "walk[2372,:] = 42_000\n",
    "walk[:,2372] = 42_000\n",
    "walk[3737,:] = 42_000\n",
    "walk[:,3737] = 42_000"
   ]
  },
  {
   "cell_type": "code",
   "execution_count": null,
   "id": "useful-survival",
   "metadata": {},
   "outputs": [],
   "source": [
    "# but allow within-tract trips\n",
    "avg_within_tract_dist = np.mean(np.diag(walk)[np.r_[:2372,2373:3737,3738:walk.shape[0]]])\n",
    "walk[2372,2372] = avg_within_tract_dist\n",
    "walk[3737,3737] = avg_within_tract_dist"
   ]
  },
  {
   "cell_type": "code",
   "execution_count": null,
   "id": "liked-tyler",
   "metadata": {},
   "outputs": [],
   "source": [
    "assert np.min(walk) >= 0"
   ]
  },
  {
   "cell_type": "code",
   "execution_count": null,
   "id": "actual-tackle",
   "metadata": {},
   "outputs": [],
   "source": [
    "skims.remove_node('/data/DISTWALK')"
   ]
  },
  {
   "cell_type": "code",
   "execution_count": null,
   "id": "approximate-myrtle",
   "metadata": {},
   "outputs": [],
   "source": [
    "skims['DISTWALK'] = walk"
   ]
  },
  {
   "cell_type": "code",
   "execution_count": null,
   "id": "included-production",
   "metadata": {},
   "outputs": [],
   "source": [
    "# and for biking\n",
    "bike = np.array(skims['DISTBIKE'])"
   ]
  },
  {
   "cell_type": "code",
   "execution_count": null,
   "id": "possible-german",
   "metadata": {},
   "outputs": [],
   "source": [
    "bike[2372,:] = 42_000\n",
    "bike[:,2372] = 42_000\n",
    "bike[3737,:] = 42_000\n",
    "bike[:,3737] = 42_000"
   ]
  },
  {
   "cell_type": "code",
   "execution_count": null,
   "id": "christian-camel",
   "metadata": {},
   "outputs": [],
   "source": [
    "avg_within_tract_dist = np.mean(np.diag(bike)[np.r_[:2372,2373:3737,3738:bike.shape[0]]])\n",
    "bike[2372,2372] = avg_within_tract_dist\n",
    "bike[3737,3737] = avg_within_tract_dist"
   ]
  },
  {
   "cell_type": "code",
   "execution_count": null,
   "id": "enclosed-thousand",
   "metadata": {},
   "outputs": [],
   "source": [
    "assert np.min(bike) >= 0"
   ]
  },
  {
   "cell_type": "code",
   "execution_count": null,
   "id": "isolated-slovak",
   "metadata": {},
   "outputs": [],
   "source": [
    "skims.remove_node('/data/DISTBIKE')"
   ]
  },
  {
   "cell_type": "code",
   "execution_count": null,
   "id": "anonymous-calculation",
   "metadata": {},
   "outputs": [],
   "source": [
    "skims['DISTBIKE'] = bike"
   ]
  },
  {
   "cell_type": "code",
   "execution_count": null,
   "id": "complex-austria",
   "metadata": {},
   "outputs": [],
   "source": [
    "skims.close()"
   ]
  },
  {
   "cell_type": "code",
   "execution_count": null,
   "id": "russian-copyright",
   "metadata": {},
   "outputs": [],
   "source": []
  }
 ],
 "metadata": {
  "kernelspec": {
   "display_name": "Python 3",
   "language": "python",
   "name": "python3"
  },
  "language_info": {
   "codemirror_mode": {
    "name": "ipython",
    "version": 3
   },
   "file_extension": ".py",
   "mimetype": "text/x-python",
   "name": "python",
   "nbconvert_exporter": "python",
   "pygments_lexer": "ipython3",
   "version": "3.8.8"
  }
 },
 "nbformat": 4,
 "nbformat_minor": 5
}
