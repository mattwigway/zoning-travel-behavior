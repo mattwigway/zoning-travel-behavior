{
 "cells": [
  {
   "cell_type": "markdown",
   "id": "bigger-august",
   "metadata": {},
   "source": [
    "# Congestion model\n",
    "\n",
    "Uber Movement provides travel time data for Los Angeles, but not for the entire Southern California region. Use a random forest to extrapolate."
   ]
  },
  {
   "cell_type": "code",
   "execution_count": null,
   "id": "dominant-spirituality",
   "metadata": {},
   "outputs": [],
   "source": [
    "%reload_ext ipy_blink1"
   ]
  },
  {
   "cell_type": "code",
   "execution_count": null,
   "id": "tender-cathedral",
   "metadata": {},
   "outputs": [],
   "source": [
    "%matplotlib inline\n",
    "%config InlineBackend.figure_format = 'retina'\n",
    "\n",
    "import pandas as pd\n",
    "import numpy as np\n",
    "import matplotlib.pyplot as plt\n",
    "import geopandas as gp\n",
    "import cenpy\n",
    "import rtree\n",
    "import tqdm\n",
    "import shapely\n",
    "import threading\n",
    "import queue\n",
    "import multiprocessing\n",
    "\n",
    "DB_URI = 'postgresql://matthewc@localhost/matthewc'"
   ]
  },
  {
   "cell_type": "markdown",
   "id": "affected-spectrum",
   "metadata": {},
   "source": [
    "## Load Uber Movement data"
   ]
  },
  {
   "cell_type": "code",
   "execution_count": null,
   "id": "small-newcastle",
   "metadata": {},
   "outputs": [],
   "source": [
    "uber = pd.read_csv('../data/los_angeles-censustracts-2019-4-OnlyWeekdays-HourlyAggregate.csv', dtype={'sourceid': 'str', 'dstid': 'str'})"
   ]
  },
  {
   "cell_type": "code",
   "execution_count": null,
   "id": "therapeutic-moisture",
   "metadata": {},
   "outputs": [],
   "source": [
    "uber_geo = gp.read_file('../data/uber_tracts_la.json').to_crs(epsg=26911)"
   ]
  },
  {
   "cell_type": "code",
   "execution_count": null,
   "id": "upper-buffer",
   "metadata": {},
   "outputs": [],
   "source": [
    "# Figure out which county each Uber tract is in, because that data is missing from the provided file\n",
    "uber_geo['geometry'] = uber_geo.centroid"
   ]
  },
  {
   "cell_type": "code",
   "execution_count": null,
   "id": "extreme-borough",
   "metadata": {},
   "outputs": [],
   "source": [
    "counties = gp.read_file('../../sorting/data/counties/tl_2019_us_county.shp').to_crs(epsg=26911)"
   ]
  },
  {
   "cell_type": "code",
   "execution_count": null,
   "id": "early-terry",
   "metadata": {},
   "outputs": [],
   "source": [
    "counties = counties[(counties.STATEFP == '06') & counties.COUNTYFP.isin(('025', '037', '059', '065', '071', '111'))].copy()"
   ]
  },
  {
   "cell_type": "code",
   "execution_count": null,
   "id": "economic-homeless",
   "metadata": {},
   "outputs": [],
   "source": [
    "uber_geo = gp.sjoin(uber_geo, counties, op='within', how='left')"
   ]
  },
  {
   "cell_type": "code",
   "execution_count": null,
   "id": "entire-albert",
   "metadata": {},
   "outputs": [],
   "source": [
    "assert not uber_geo.COUNTYFP.isnull().any()"
   ]
  },
  {
   "cell_type": "code",
   "execution_count": null,
   "id": "banner-windows",
   "metadata": {},
   "outputs": [],
   "source": [
    "uber_geo['geoid'] = uber_geo.STATEFP.str.cat(uber_geo.COUNTYFP).str.cat(uber_geo.TRACT)"
   ]
  },
  {
   "cell_type": "code",
   "execution_count": null,
   "id": "short-interface",
   "metadata": {},
   "outputs": [],
   "source": [
    "uber_geo = uber_geo.set_index('MOVEMENT_ID')"
   ]
  },
  {
   "cell_type": "code",
   "execution_count": null,
   "id": "backed-delhi",
   "metadata": {},
   "outputs": [],
   "source": [
    "uber['source_geoid'] = uber_geo.loc[uber.sourceid, 'geoid'].to_numpy()\n",
    "uber['target_geoid'] = uber_geo.loc[uber.dstid, 'geoid'].to_numpy()"
   ]
  },
  {
   "cell_type": "code",
   "execution_count": null,
   "id": "manufactured-formula",
   "metadata": {},
   "outputs": [],
   "source": [
    "uber"
   ]
  },
  {
   "cell_type": "code",
   "execution_count": null,
   "id": "loaded-baking",
   "metadata": {},
   "outputs": [],
   "source": [
    "uber = uber.set_index(['source_geoid', 'target_geoid', 'hod'])"
   ]
  },
  {
   "cell_type": "code",
   "execution_count": null,
   "id": "sensitive-moses",
   "metadata": {},
   "outputs": [],
   "source": [
    "# some tracts are in multiple pieces. average together\n",
    "uber = uber.drop(columns=['sourceid', 'dstid']).groupby(level=[0, 1, 2]).mean()"
   ]
  },
  {
   "cell_type": "code",
   "execution_count": null,
   "id": "verbal-thomson",
   "metadata": {},
   "outputs": [],
   "source": [
    "assert not uber.index.duplicated().any()"
   ]
  },
  {
   "cell_type": "markdown",
   "id": "gorgeous-jacksonville",
   "metadata": {},
   "source": [
    "## Create the dependent variable\n",
    "\n",
    "The dependent variable is the ratio of congested travel time at a particular hour to free-flow travel time. I assume average travel times 10 PM-5 AM is free-flow travel time."
   ]
  },
  {
   "cell_type": "code",
   "execution_count": null,
   "id": "worth-victim",
   "metadata": {},
   "outputs": [],
   "source": [
    "np.r_[0:5,22:24]"
   ]
  },
  {
   "cell_type": "code",
   "execution_count": null,
   "id": "played-harassment",
   "metadata": {},
   "outputs": [],
   "source": [
    "fftt = uber.loc[pd.IndexSlice[:,:,np.r_[0:5,22:24]]].groupby(level=[0, 1]).mean_travel_time.min()"
   ]
  },
  {
   "cell_type": "code",
   "execution_count": null,
   "id": "creative-tribe",
   "metadata": {},
   "outputs": [],
   "source": [
    "uber['congested_tt_ratio'] = uber.mean_travel_time / fftt.reindex(uber.index)"
   ]
  },
  {
   "cell_type": "code",
   "execution_count": null,
   "id": "retained-muscle",
   "metadata": {},
   "outputs": [],
   "source": [
    "uber.congested_tt_ratio.isnull().mean()"
   ]
  },
  {
   "cell_type": "code",
   "execution_count": null,
   "id": "dying-spring",
   "metadata": {},
   "outputs": [],
   "source": [
    "# save for other analysis\n",
    "uber.to_parquet('../data/uber_with_tracts.parquet')"
   ]
  },
  {
   "cell_type": "code",
   "execution_count": null,
   "id": "studied-repair",
   "metadata": {},
   "outputs": [],
   "source": [
    "# useful and I want to put in my diss, but takes forever\n",
    "# uber.groupby(level=2).boxplot(column='congested_tt_ratio', subplots=False)\n",
    "# plt.ylim(0, 4)\n",
    "# plt.xticks(np.arange(24), np.arange(24))"
   ]
  },
  {
   "cell_type": "markdown",
   "id": "atomic-yugoslavia",
   "metadata": {},
   "source": [
    "## Prepare the covariates for the random forest model"
   ]
  },
  {
   "cell_type": "code",
   "execution_count": null,
   "id": "weighted-restaurant",
   "metadata": {},
   "outputs": [],
   "source": [
    "# ORDER BY to force stable order \n",
    "tract_centroids = gp.read_postgis('''\n",
    "    SELECT geoid, aland, ST_Centroid(geog)::geometry AS geom\n",
    "    FROM diss.ca_tracts\n",
    "    WHERE countyfp in ('025', '037', '059', '065', '071', '111')\n",
    "    ORDER BY geoid''', DB_URI).set_index('geoid')"
   ]
  },
  {
   "cell_type": "code",
   "execution_count": null,
   "id": "expressed-handbook",
   "metadata": {},
   "outputs": [],
   "source": [
    "acs5 = cenpy.products.ACS(2017)"
   ]
  },
  {
   "cell_type": "code",
   "execution_count": null,
   "id": "impressed-stupid",
   "metadata": {},
   "outputs": [],
   "source": [
    "tract_pop = pd.concat([\n",
    "    acs5.from_county(county, level='tract', variables=['^B01003'], return_geometry=False)\n",
    "    for county in ['Los Angeles, CA', 'Riverside, CA', 'San Bernardino, CA', 'Ventura, CA', 'Imperial, CA', 'Orange, CA']\n",
    "], ignore_index=True)"
   ]
  },
  {
   "cell_type": "code",
   "execution_count": null,
   "id": "homeless-angel",
   "metadata": {},
   "outputs": [],
   "source": [
    "tract_centroids = tract_centroids.merge(tract_pop.rename(columns={'B01003_001E': 'total_pop'}), left_index=True, right_on='GEOID', how='left', validate='1:1')\n",
    "assert not tract_centroids.total_pop.isnull().any()"
   ]
  },
  {
   "cell_type": "code",
   "execution_count": null,
   "id": "connected-pierce",
   "metadata": {},
   "outputs": [],
   "source": [
    "# load up LODES\n",
    "lodes = pd.read_csv('../data/ca_wac_S000_JT00_2017.csv', dtype={'w_geocode': 'str'})"
   ]
  },
  {
   "cell_type": "code",
   "execution_count": null,
   "id": "worth-overview",
   "metadata": {},
   "outputs": [],
   "source": [
    "lodes['tract_geoid'] = lodes.w_geocode.str.slice(0, 11)\n",
    "total_jobs = lodes.groupby('tract_geoid', as_index=False).C000.sum()"
   ]
  },
  {
   "cell_type": "code",
   "execution_count": null,
   "id": "connected-algorithm",
   "metadata": {},
   "outputs": [],
   "source": [
    "tract_centroids = tract_centroids.merge(total_jobs.rename(columns={'C000': 'total_jobs'}), left_on='GEOID', right_on='tract_geoid', how='left', validate='1:1')\n",
    "tract_centroids['total_jobs'] = tract_centroids.total_jobs.fillna(0)"
   ]
  },
  {
   "cell_type": "code",
   "execution_count": null,
   "id": "peaceful-cameroon",
   "metadata": {},
   "outputs": [],
   "source": [
    "tract_centroids = tract_centroids.to_crs(epsg=26911)"
   ]
  },
  {
   "cell_type": "code",
   "execution_count": null,
   "id": "stylish-evolution",
   "metadata": {},
   "outputs": [],
   "source": [
    "tract_centroids['pop_dens_sqkm'] = tract_centroids.total_pop / (tract_centroids.aland / 1000**2)\n",
    "tract_centroids['job_dens_sqkm'] = tract_centroids.total_jobs / (tract_centroids.aland / 1000**2)"
   ]
  },
  {
   "cell_type": "code",
   "execution_count": null,
   "id": "recorded-discipline",
   "metadata": {},
   "outputs": [],
   "source": [
    "tract_centroids"
   ]
  },
  {
   "cell_type": "markdown",
   "id": "southern-immigration",
   "metadata": {},
   "source": [
    "## Create bands around each tract"
   ]
  },
  {
   "cell_type": "code",
   "execution_count": null,
   "id": "progressive-discipline",
   "metadata": {},
   "outputs": [],
   "source": [
    "tract_idx = rtree.index.Index()\n",
    "for idx, x, y in zip(tract_centroids.index, tract_centroids.geom.x, tract_centroids.geom.y):\n",
    "    tract_idx.insert(idx, (x, y, x, y))"
   ]
  },
  {
   "cell_type": "code",
   "execution_count": null,
   "id": "silver-coupon",
   "metadata": {},
   "outputs": [],
   "source": [
    "%%time\n",
    "densbands = {}\n",
    "\n",
    "# create bands\n",
    "for i, idx, geom, x, y in zip(range(len(tract_centroids)), tract_centroids.index, tract_centroids.geom, tract_centroids.geom.x, tract_centroids.geom.y):\n",
    "    if i % 500 == 0:\n",
    "        print(f'{i}..', end='')\n",
    "        \n",
    "    # find candidate tracts within 8 km\n",
    "    candidate_tracts = tract_idx.intersection((x - 8000, y - 8000, x + 8000, y + 8000))\n",
    "    distances = tract_centroids.loc[candidate_tracts].distance(geom)\n",
    "    # 1e-5 so self is not included\n",
    "    for low, high in [(1e-5, 2), (2, 4), (4, 6), (6, 8)]:\n",
    "        tracts_in_dist = tract_centroids.loc[distances[(distances > (low * 1000)) & (distances <= (high * 1000))].index]\n",
    "        if len(tracts_in_dist) == 0:\n",
    "            continue\n",
    "            \n",
    "        densbands[idx, f'({low}, {high}]'] = pd.Series(\n",
    "            np.concatenate([\n",
    "                np.percentile(tracts_in_dist.pop_dens_sqkm, [25, 50, 75, 95]),\n",
    "                np.percentile(tracts_in_dist.job_dens_sqkm, [25, 50, 75, 95]),\n",
    "            ]),\n",
    "            index=[\n",
    "                'pop_dens_sqkm_25',\n",
    "                'pop_dens_sqkm_50',\n",
    "                'pop_dens_sqkm_75',\n",
    "                'pop_dens_sqkm_95',\n",
    "                'job_dens_sqkm_25',\n",
    "                'job_dens_sqkm_50',\n",
    "                'job_dens_sqkm_75',\n",
    "                'job_dens_sqkm_95'\n",
    "            ]\n",
    "        )        \n",
    "\n",
    "densbands = pd.DataFrame(densbands).transpose().unstack()\n",
    "densbands.columns = list(map('_'.join, densbands.columns))\n",
    "densbands = densbands.fillna(-1)"
   ]
  },
  {
   "cell_type": "code",
   "execution_count": null,
   "id": "common-function",
   "metadata": {},
   "outputs": [],
   "source": [
    "tract_centroids = tract_centroids.join(densbands.reindex(tract_centroids.index, fill_value=-1))"
   ]
  },
  {
   "cell_type": "code",
   "execution_count": null,
   "id": "headed-covering",
   "metadata": {},
   "outputs": [],
   "source": [
    "# save out to be processed into along-route bands\n",
    "tract_centroids.to_file('../data/tract_centroids_density.json', driver='GeoJSON')"
   ]
  }
 ],
 "metadata": {
  "kernelspec": {
   "display_name": "Python 3",
   "language": "python",
   "name": "python3"
  },
  "language_info": {
   "codemirror_mode": {
    "name": "ipython",
    "version": 3
   },
   "file_extension": ".py",
   "mimetype": "text/x-python",
   "name": "python",
   "nbconvert_exporter": "python",
   "pygments_lexer": "ipython3",
   "version": "3.8.8"
  }
 },
 "nbformat": 4,
 "nbformat_minor": 5
}
