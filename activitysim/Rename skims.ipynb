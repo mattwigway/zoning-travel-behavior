{
 "cells": [
  {
   "cell_type": "markdown",
   "id": "aggressive-perfume",
   "metadata": {},
   "source": [
    "# Rename skims\n",
    "\n",
    "The skims were not created with names in ActivitySim convention format. Rename them."
   ]
  },
  {
   "cell_type": "code",
   "execution_count": null,
   "id": "built-cross",
   "metadata": {},
   "outputs": [],
   "source": [
    "import numpy as np\n",
    "import openmatrix as omx"
   ]
  },
  {
   "cell_type": "code",
   "execution_count": null,
   "id": "paperback-tissue",
   "metadata": {},
   "outputs": [],
   "source": [
    "orig = omx.open_file('../la_abm/data/skims_wrong_names.omx')"
   ]
  },
  {
   "cell_type": "code",
   "execution_count": null,
   "id": "varying-density",
   "metadata": {},
   "outputs": [],
   "source": [
    "new = omx.open_file('../la_abm/data/skims.omx', 'w')"
   ]
  },
  {
   "cell_type": "code",
   "execution_count": null,
   "id": "dress-relationship",
   "metadata": {},
   "outputs": [],
   "source": [
    "orig.list_matrices()"
   ]
  },
  {
   "cell_type": "code",
   "execution_count": null,
   "id": "standing-passage",
   "metadata": {},
   "outputs": [],
   "source": [
    "new['car__EA'] = np.array(orig['car_EA'])\n",
    "new['car__AM'] = np.array(orig['car_AM'])\n",
    "new['car__MD'] = np.array(orig['car_MD'])\n",
    "new['car__PM'] = np.array(orig['car_PM'])\n",
    "new['car__EV'] = np.array(orig['car_EV'])\n",
    "new['DIST'] = np.array(orig['car_distance_km']) / 1.609  # put things back in imperial units for ASim\n",
    "new['DISTWALK'] = np.array(orig['walk_dist_km']) / 1.609\n",
    "\n",
    "for percentile in [5, 25, 50, 75, 95]:\n",
    "    for tp in ['EA', 'AM', 'MD', 'PM', 'EV']:\n",
    "        new[f'transit_p{percentile:02d}__{tp}'] = np.array(orig[f'transit_{tp}_p{percentile:02d}'])"
   ]
  },
  {
   "cell_type": "code",
   "execution_count": null,
   "id": "flexible-donor",
   "metadata": {},
   "outputs": [],
   "source": [
    "orig.close()\n",
    "new.close()"
   ]
  }
 ],
 "metadata": {
  "kernelspec": {
   "display_name": "Python 3",
   "language": "python",
   "name": "python3"
  },
  "language_info": {
   "codemirror_mode": {
    "name": "ipython",
    "version": 3
   },
   "file_extension": ".py",
   "mimetype": "text/x-python",
   "name": "python",
   "nbconvert_exporter": "python",
   "pygments_lexer": "ipython3",
   "version": "3.8.8"
  }
 },
 "nbformat": 4,
 "nbformat_minor": 5
}
