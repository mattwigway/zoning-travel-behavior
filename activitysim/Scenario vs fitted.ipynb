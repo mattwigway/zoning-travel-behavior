{
 "cells": [
  {
   "cell_type": "markdown",
   "id": "entire-leather",
   "metadata": {},
   "source": [
    "# Scenario comparison\n",
    "\n",
    "Compare model outputs from the scenario with those from the base."
   ]
  },
  {
   "cell_type": "code",
   "execution_count": null,
   "id": "optimum-shirt",
   "metadata": {},
   "outputs": [],
   "source": [
    "%matplotlib inline\n",
    "%config InlineBackend.figure_format = 'retina'\n",
    "\n",
    "import pandas as pd\n",
    "import numpy as np\n",
    "import matplotlib.pyplot as plt\n",
    "import openmatrix as omx\n",
    "import tables\n",
    "from matplotlib import ticker\n",
    "import nhts\n",
    "\n",
    "INFLATION_2000_2017 = 1.44"
   ]
  },
  {
   "cell_type": "code",
   "execution_count": null,
   "id": "adopted-cartridge",
   "metadata": {},
   "outputs": [],
   "source": [
    "plt.style.use('asu-light')"
   ]
  },
  {
   "cell_type": "code",
   "execution_count": null,
   "id": "demonstrated-improvement",
   "metadata": {},
   "outputs": [],
   "source": [
    "skims = omx.open_file('../model_inputs/skims.omx', 'r')"
   ]
  },
  {
   "cell_type": "code",
   "execution_count": null,
   "id": "sharing-first",
   "metadata": {},
   "outputs": [],
   "source": [
    "dist = np.array(skims['DIST'])\n",
    "dist = pd.DataFrame(dist, index=np.arange(dist.shape[0]), columns=np.arange(dist.shape[1])).stack()\n",
    "dist *= 1.609 # begone imperial units"
   ]
  },
  {
   "cell_type": "code",
   "execution_count": null,
   "id": "lovely-first",
   "metadata": {},
   "outputs": [],
   "source": [
    "base_pop = pd.read_csv('../model_inputs/base/persons.csv')\n",
    "scenario_pop = pd.read_csv('../model_inputs/npv_low_opcost/persons.csv')"
   ]
  },
  {
   "cell_type": "code",
   "execution_count": null,
   "id": "awful-perspective",
   "metadata": {},
   "outputs": [],
   "source": [
    "base_hh = pd.read_csv('../model_inputs/base/households.csv')\n",
    "scenario_hh = pd.read_csv('../model_inputs/npv_low_opcost/households.csv')"
   ]
  },
  {
   "cell_type": "code",
   "execution_count": null,
   "id": "durable-economics",
   "metadata": {},
   "outputs": [],
   "source": [
    "def get_mode_choice(abmfn):\n",
    "    #abmfn = \"/Volumes/Pheasant Ridge/diss_data/model_output/abm/base/pipeline.h5\"\n",
    "\n",
    "    trip_mode_choice = pd.read_hdf(abmfn, \"/trips/trip_mode_choice\")\n",
    "\n",
    "    # save some memory\n",
    "    total_mem_before = trip_mode_choice.memory_usage(deep=True)\n",
    "\n",
    "    total_mem_before_mb = total_mem_before.sum() // (1024**2)\n",
    "    trip_mode_choice['primary_purpose'] = trip_mode_choice.primary_purpose.astype('category')\n",
    "    trip_mode_choice['purpose'] = trip_mode_choice.purpose.astype('category')\n",
    "    trip_mode_choice['trip_mode'] = trip_mode_choice.trip_mode.astype('category')\n",
    "    assert not (trip_mode_choice.dtypes == 'object').any()\n",
    "    total_mem_after = trip_mode_choice.memory_usage(deep=True)  # deep should not matter since no obj columns, but make it definitely comparable\n",
    "    total_mem_after_mb = total_mem_after.sum() // (1024**2)\n",
    "    print(f'data type conversion saved {total_mem_before_mb - total_mem_after_mb:,d}mb RAM (before {total_mem_before_mb:,d}mb, now {total_mem_after_mb:,d}mb)')\n",
    "\n",
    "    # load the tour participation information\n",
    "    tour_participation = pd.read_hdf(abmfn, '/joint_tour_participants/trip_mode_choice')\n",
    "\n",
    "    tour_participation\n",
    "\n",
    "    n_on_tour = tour_participation.groupby('tour_id').size()\n",
    "\n",
    "    n_on_tour.min()\n",
    "\n",
    "    trip_mode_choice = trip_mode_choice.merge(pd.DataFrame(n_on_tour.rename('n_on_tour')), left_on='tour_id', right_index=True, how='left')\n",
    "\n",
    "    # no 1 person tours appear in tour_participation\n",
    "    trip_mode_choice['n_on_tour'] = trip_mode_choice.n_on_tour.fillna(1)\n",
    "    \n",
    "    trip_mode_choice = trip_mode_choice.merge(pd.DataFrame(dist.rename('trip_dist_km')), left_on=['origin', 'destination'], right_index=True, how='left', validate='m:1')\n",
    "    \n",
    "    return trip_mode_choice"
   ]
  },
  {
   "cell_type": "code",
   "execution_count": null,
   "id": "according-purple",
   "metadata": {},
   "outputs": [],
   "source": [
    "base_trips = get_mode_choice('/Volumes/Pheasant Ridge/diss_data/model_output/abm/base/pipeline.h5')"
   ]
  },
  {
   "cell_type": "code",
   "execution_count": null,
   "id": "intermediate-healing",
   "metadata": {},
   "outputs": [],
   "source": [
    "scenario_trips = get_mode_choice('/Volumes/Pheasant Ridge/diss_data/model_output/abm/npv_low_opcost/pipeline.h5')"
   ]
  },
  {
   "cell_type": "code",
   "execution_count": null,
   "id": "adjacent-parking",
   "metadata": {},
   "outputs": [],
   "source": [
    "drive_modes = {'DRIVEALONEFREE', 'DRIVEALONEPAY', 'SHARED2FREE', 'SHARED2PAY', 'SHARED3FREE', 'SHARED3PAY'}"
   ]
  },
  {
   "cell_type": "code",
   "execution_count": null,
   "id": "every-architecture",
   "metadata": {},
   "outputs": [],
   "source": [
    "base_drive_trips = base_trips[base_trips.trip_mode.isin(drive_modes)]\n",
    "scenario_drive_trips = scenario_trips[scenario_trips.trip_mode.isin(drive_modes)]"
   ]
  },
  {
   "cell_type": "code",
   "execution_count": null,
   "id": "automated-slovak",
   "metadata": {},
   "outputs": [],
   "source": [
    "# adjust person to vehicle trips\n",
    "base_vkt_per_capita = np.sum(base_drive_trips.trip_dist_km / base_drive_trips.n_on_tour) / len(base_pop)\n",
    "scenario_vkt_per_capita = np.sum(scenario_drive_trips.trip_dist_km / scenario_drive_trips.n_on_tour) / len(scenario_pop)"
   ]
  },
  {
   "cell_type": "code",
   "execution_count": null,
   "id": "resistant-chick",
   "metadata": {},
   "outputs": [],
   "source": [
    "print(f\"\"\"\n",
    "Base: {base_vkt_per_capita:.4f} vkt/capita/day\n",
    "Scenario: {scenario_vkt_per_capita:.4f} vkt/capita/day\n",
    "\"\"\")"
   ]
  },
  {
   "cell_type": "code",
   "execution_count": null,
   "id": "thorough-pacific",
   "metadata": {},
   "outputs": [],
   "source": [
    "# plot for defense presentation\n",
    "plt.figure(figsize=(6, 2.5))\n",
    "plt.barh([1, 0], [base_vkt_per_capita, scenario_vkt_per_capita], color=['C0', 'C1'])\n",
    "plt.yticks([1, 0], ['Base', 'Low operating cost'])\n",
    "plt.xlabel('Daily vehicle kilometers traveled per capita')\n",
    "plt.savefig('../../defense/vkt.pdf', bbox_inches='tight')"
   ]
  },
  {
   "cell_type": "markdown",
   "id": "identical-chambers",
   "metadata": {},
   "source": [
    "## What about mode choice?"
   ]
  },
  {
   "cell_type": "code",
   "execution_count": null,
   "id": "portable-birth",
   "metadata": {},
   "outputs": [],
   "source": [
    "# aggregate mode choices in ActivitySim output\n",
    "mode_choice_map = {\n",
    "    'BIKE': 'Bike',\n",
    "    'DRIVEALONEFREE': 'Drive alone',\n",
    "    'DRIVEALONEPAY': 'Drive alone',\n",
    "    'DRIVE_COM': 'Transit',\n",
    "    'DRIVE_EXP': 'Transit',\n",
    "    'DRIVE_HVY': 'Transit',\n",
    "    'DRIVE_LOC': 'Transit',\n",
    "    'DRIVE_LRF': 'Transit',\n",
    "    'SHARED2FREE': 'Carpool',\n",
    "    'SHARED2PAY': 'Carpool',\n",
    "    'SHARED3FREE': 'Carpool',\n",
    "    'SHARED3PAY': 'Carpool',\n",
    "    'TAXI': 'Taxi/TNC',\n",
    "    'TNC_SHARED': 'Taxi/TNC',\n",
    "    'TNC_SINGLE': 'Taxi/TNC',\n",
    "    'WALK': 'Walk',\n",
    "    'WALK_COM': 'Transit',\n",
    "    'WALK_EXP': 'Transit',\n",
    "    'WALK_HVY': 'Transit',\n",
    "    'WALK_LOC': 'Transit',\n",
    "    'WALK_LRF': 'Transit'\n",
    "}\n",
    "\n",
    "base_trips['smplmode'] = base_trips.trip_mode.map(mode_choice_map).astype('category')\n",
    "scenario_trips['smplmode'] = scenario_trips.trip_mode.map(mode_choice_map).astype('category')\n",
    "assert not base_trips.smplmode.isnull().any()\n",
    "assert not scenario_trips.smplmode.isnull().any()"
   ]
  },
  {
   "cell_type": "code",
   "execution_count": null,
   "id": "accepted-tribune",
   "metadata": {},
   "outputs": [],
   "source": [
    "base_shares = base_trips.groupby('smplmode').size() / len(base_trips)\n",
    "scenario_shares = (scenario_trips.groupby('smplmode').size() / len(scenario_trips)).reindex(base_shares.index)"
   ]
  },
  {
   "cell_type": "code",
   "execution_count": null,
   "id": "digital-transformation",
   "metadata": {},
   "outputs": [],
   "source": [
    "f, ax = plt.subplots()\n",
    "plt.bar(np.arange(len(base_shares)) - 0.2, base_shares * 100, width=0.4, label='Base')\n",
    "plt.bar(np.arange(len(base_shares)) + 0.2, scenario_shares * 100, width=0.4, label='Low operating cost')\n",
    "plt.xticks(np.arange(len(base_shares)), base_shares.index)\n",
    "plt.legend()\n",
    "ax.yaxis.set_major_formatter(ticker.FuncFormatter('{:.0f}%'.format))\n",
    "plt.savefig('../../dissertation/fig/abm/mode_choice_scenario.pdf', bbox_inches='tight')"
   ]
  },
  {
   "cell_type": "markdown",
   "id": "known-teens",
   "metadata": {},
   "source": [
    "Ideally we'd also look at this for residents of new housing, but I didn't propagate that information through the population synthesis process."
   ]
  },
  {
   "cell_type": "markdown",
   "id": "current-metallic",
   "metadata": {},
   "source": [
    "## Disaggregate by income"
   ]
  },
  {
   "cell_type": "code",
   "execution_count": null,
   "id": "caring-difference",
   "metadata": {},
   "outputs": [],
   "source": [
    "base_hh['income2017'] = base_hh.income * INFLATION_2000_2017\n",
    "base_hh['inccat'] = pd.cut(base_hh.income2017, [-np.inf, 35000, 50000, 75000, 100000, 150000, 200000, np.inf])\n",
    "base_trips = base_trips.merge(base_hh[['household_id', 'inccat']], on='household_id', how='left', validate='m:1')\n",
    "assert not base_trips.inccat.isnull().any()"
   ]
  },
  {
   "cell_type": "code",
   "execution_count": null,
   "id": "other-meaning",
   "metadata": {},
   "outputs": [],
   "source": [
    "scenario_hh['income2017'] = scenario_hh.income * INFLATION_2000_2017\n",
    "scenario_hh['inccat'] = pd.cut(scenario_hh.income2017, [-np.inf, 35000, 50000, 75000, 100000, 150000, 200000, np.inf])\n",
    "scenario_trips = scenario_trips.merge(scenario_hh[['household_id', 'inccat']], on='household_id', how='left', validate='m:1')\n",
    "assert not scenario_trips.inccat.isnull().any()"
   ]
  },
  {
   "cell_type": "code",
   "execution_count": null,
   "id": "unavailable-interstate",
   "metadata": {},
   "outputs": [],
   "source": [
    "# add inccat to pop, we need to calculate vmt/capita\n",
    "base_pop = base_pop.merge(base_hh, on='household_id', how='left', validate='m:1')\n",
    "assert not base_pop.inccat.isnull().any()\n",
    "\n",
    "scenario_pop = scenario_pop.merge(scenario_hh, on='household_id', how='left', validate='m:1')\n",
    "assert not scenario_pop.inccat.isnull().any()"
   ]
  },
  {
   "cell_type": "code",
   "execution_count": null,
   "id": "interpreted-tobacco",
   "metadata": {},
   "outputs": [],
   "source": [
    "# compute vmt by income category\n",
    "base_vkt_by_income = (\n",
    "    base_trips[base_trips.trip_mode.isin(drive_modes)].groupby('inccat')\n",
    "        .apply(lambda df: np.sum(df.trip_dist_km / df.n_on_tour) / np.sum(base_pop.inccat == df.name))\n",
    ")\n",
    "scenario_vkt_by_income = (\n",
    "    scenario_trips[scenario_trips.trip_mode.isin(drive_modes)].groupby('inccat')\n",
    "        .apply(lambda df: np.sum(df.trip_dist_km / df.n_on_tour) / np.sum(scenario_pop.inccat == df.name))\n",
    ")"
   ]
  },
  {
   "cell_type": "code",
   "execution_count": null,
   "id": "packed-colleague",
   "metadata": {},
   "outputs": [],
   "source": [
    "scenario_vkt_by_income = scenario_vkt_by_income.reindex(base_vkt_by_income.index)"
   ]
  },
  {
   "cell_type": "code",
   "execution_count": null,
   "id": "interim-standard",
   "metadata": {},
   "outputs": [],
   "source": [
    "scenario_vkt_by_income"
   ]
  },
  {
   "cell_type": "code",
   "execution_count": null,
   "id": "virtual-killer",
   "metadata": {},
   "outputs": [],
   "source": [
    "f, ax = plt.subplots(figsize=(6, 5))\n",
    "plt.bar(np.arange(len(base_vkt_by_income)) - 0.2, base_vkt_by_income, width=0.4, label='Base')\n",
    "plt.bar(np.arange(len(base_vkt_by_income)) + 0.2, scenario_vkt_by_income, width=0.4, label='Low operating cost')\n",
    "plt.xticks(np.arange(len(base_vkt_by_income)), [\n",
    "    f'\\\\${int(c.left):,d}–\\\\${int(c.right):,d}'\n",
    "    if np.isfinite(c.left) and np.isfinite(c.right)\n",
    "    else (f'≤\\\\${int(c.right):,d}' if np.isfinite(c.right) else f'>\\\\${int(c.left):,d}') \n",
    "    for c in base_vkt_by_income.index], rotation=45, ha='right')\n",
    "plt.legend()\n",
    "plt.xlabel('Annual household income (2017 dollars)')\n",
    "plt.ylabel('Daily VKT per capita')\n",
    "plt.tight_layout()\n",
    "#ax.yaxis.set_major_formatter(ticker.FuncFormatter('{:.0f}%'.format))\n",
    "plt.savefig('../../dissertation/fig/abm/vkt_income_scenario.pdf', bbox_inches='tight')"
   ]
  },
  {
   "cell_type": "code",
   "execution_count": null,
   "id": "outer-address",
   "metadata": {},
   "outputs": [],
   "source": []
  }
 ],
 "metadata": {
  "kernelspec": {
   "display_name": "Python 3",
   "language": "python",
   "name": "python3"
  },
  "language_info": {
   "codemirror_mode": {
    "name": "ipython",
    "version": 3
   },
   "file_extension": ".py",
   "mimetype": "text/x-python",
   "name": "python",
   "nbconvert_exporter": "python",
   "pygments_lexer": "ipython3",
   "version": "3.8.8"
  }
 },
 "nbformat": 4,
 "nbformat_minor": 5
}
