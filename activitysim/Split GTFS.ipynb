{
 "cells": [
  {
   "cell_type": "markdown",
   "id": "latter-capacity",
   "metadata": {},
   "source": [
    "# Split LA Metro GTFS\n",
    "\n",
    "Splits the LA Metro GTFS feeds into local bus, express bus, light rail, and heavy rail."
   ]
  },
  {
   "cell_type": "code",
   "execution_count": null,
   "id": "vocational-gravity",
   "metadata": {},
   "outputs": [],
   "source": [
    "import partridge as ptg"
   ]
  },
  {
   "cell_type": "markdown",
   "id": "nasty-grant",
   "metadata": {},
   "source": [
    "## Metro Bus GTFS"
   ]
  },
  {
   "cell_type": "code",
   "execution_count": null,
   "id": "institutional-intake",
   "metadata": {},
   "outputs": [],
   "source": [
    "bus = ptg.load_feed('../transit/data/to_split/los-angeles-metro-bus.zip')"
   ]
  },
  {
   "cell_type": "code",
   "execution_count": null,
   "id": "advance-sender",
   "metadata": {},
   "outputs": [],
   "source": [
    "bus.routes.route_long_name.unique()"
   ]
  },
  {
   "cell_type": "code",
   "execution_count": null,
   "id": "decimal-moderator",
   "metadata": {},
   "outputs": [],
   "source": [
    "bus.routes[bus.routes.route_long_name == 'Metro Limited Line']"
   ]
  },
  {
   "cell_type": "code",
   "execution_count": null,
   "id": "nasty-twins",
   "metadata": {},
   "outputs": [],
   "source": [
    "ptg.extract_feed(\n",
    "    '../transit/data/to_split/los-angeles-metro-bus.zip',\n",
    "    '../transit/data/local_bus/los-angeles-metro-local-bus.zip',\n",
    "    # everything but metro express\n",
    "    { 'routes.txt': { 'route_long_name': ['Metro Local Line', 'Metro Limited Line',\n",
    "       'Metro Rapid Line', 'Metro Orange Line  (901)',\n",
    "       'Metro Silver Line  (910/950)']}}\n",
    ")"
   ]
  },
  {
   "cell_type": "code",
   "execution_count": null,
   "id": "tamil-filling",
   "metadata": {},
   "outputs": [],
   "source": [
    "ptg.extract_feed(\n",
    "    '../transit/data/to_split/los-angeles-metro-bus.zip',\n",
    "    '../transit/data/express_bus/los-angeles-metro-express-bus.zip',\n",
    "    # everything but metro express\n",
    "    { 'routes.txt': { 'route_long_name': ['Metro Express Line']}}\n",
    ")"
   ]
  },
  {
   "cell_type": "markdown",
   "id": "grand-stone",
   "metadata": {},
   "source": [
    "## Foothill Transit"
   ]
  },
  {
   "cell_type": "code",
   "execution_count": null,
   "id": "retired-cyprus",
   "metadata": {},
   "outputs": [],
   "source": [
    "ft = ptg.load_feed('../transit/data/to_split/foothill-transit.zip')"
   ]
  },
  {
   "cell_type": "code",
   "execution_count": null,
   "id": "tribal-publicity",
   "metadata": {},
   "outputs": [],
   "source": [
    "express_route_ids = ft.routes.loc[ft.routes.route_long_name.str.contains('Express'), 'route_id'].to_numpy().tolist()\n",
    "local_route_ids = ft.routes.loc[~ft.routes.route_long_name.str.contains('Express'), 'route_id'].to_numpy().tolist()"
   ]
  },
  {
   "cell_type": "code",
   "execution_count": null,
   "id": "careful-spending",
   "metadata": {},
   "outputs": [],
   "source": [
    "express_route_ids"
   ]
  },
  {
   "cell_type": "code",
   "execution_count": null,
   "id": "wired-breakdown",
   "metadata": {},
   "outputs": [],
   "source": [
    "local_route_ids[:10]"
   ]
  },
  {
   "cell_type": "code",
   "execution_count": null,
   "id": "after-green",
   "metadata": {},
   "outputs": [],
   "source": [
    "ptg.extract_feed(\n",
    "    '../transit/data/to_split/foothill-transit.zip',\n",
    "    '../transit/data/local_bus/foothill_local_bus.zip',\n",
    "    { 'routes.txt': {'route_id': local_route_ids}}\n",
    ")"
   ]
  },
  {
   "cell_type": "code",
   "execution_count": null,
   "id": "regulated-portuguese",
   "metadata": {},
   "outputs": [],
   "source": [
    "ptg.extract_feed(\n",
    "    '../transit/data/to_split/foothill-transit.zip',\n",
    "    '../transit/data/express_bus/foothill_express_bus.zip',\n",
    "    { 'routes.txt': {'route_id': express_route_ids}}\n",
    ")"
   ]
  },
  {
   "cell_type": "markdown",
   "id": "operating-speaker",
   "metadata": {},
   "source": [
    "## Metro Rail"
   ]
  },
  {
   "cell_type": "code",
   "execution_count": null,
   "id": "federal-difference",
   "metadata": {},
   "outputs": [],
   "source": [
    "rail = ptg.load_feed('../transit/data/to_split/los-angeles-metro-rail.zip')\n",
    "rail.routes"
   ]
  },
  {
   "cell_type": "code",
   "execution_count": null,
   "id": "balanced-internet",
   "metadata": {},
   "outputs": [],
   "source": [
    "ptg.extract_feed(\n",
    "    '../transit/data/to_split/los-angeles-metro-rail.zip',\n",
    "    '../transit/data/light_rail/los-angeles-metro-lrt.zip',\n",
    "    { 'routes.txt': {'route_type': [0]}}\n",
    ")"
   ]
  },
  {
   "cell_type": "code",
   "execution_count": null,
   "id": "instrumental-visiting",
   "metadata": {},
   "outputs": [],
   "source": [
    "ptg.extract_feed(\n",
    "    '../transit/data/to_split/los-angeles-metro-rail.zip',\n",
    "    '../transit/data/heavy_rail/los-angeles-metro-hrt.zip',\n",
    "    { 'routes.txt': {'route_type': [1]}}\n",
    ")"
   ]
  },
  {
   "cell_type": "code",
   "execution_count": null,
   "id": "centered-playback",
   "metadata": {},
   "outputs": [],
   "source": []
  }
 ],
 "metadata": {
  "kernelspec": {
   "display_name": "Python 3",
   "language": "python",
   "name": "python3"
  },
  "language_info": {
   "codemirror_mode": {
    "name": "ipython",
    "version": 3
   },
   "file_extension": ".py",
   "mimetype": "text/x-python",
   "name": "python",
   "nbconvert_exporter": "python",
   "pygments_lexer": "ipython3",
   "version": "3.8.8"
  }
 },
 "nbformat": 4,
 "nbformat_minor": 5
}
