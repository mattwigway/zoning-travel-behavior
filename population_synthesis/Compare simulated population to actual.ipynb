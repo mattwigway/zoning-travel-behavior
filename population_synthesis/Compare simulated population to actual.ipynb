{
 "cells": [
  {
   "cell_type": "markdown",
   "id": "distributed-beach",
   "metadata": {},
   "source": [
    "# Compare simulated population to actual\n",
    "\n",
    "See how well our population synthesis reproduces the actual population in the base/fitted case."
   ]
  },
  {
   "cell_type": "code",
   "execution_count": null,
   "id": "increasing-passion",
   "metadata": {},
   "outputs": [],
   "source": [
    "%matplotlib inline\n",
    "%config InlineBackend.figure_format = 'retina'\n",
    "\n",
    "import pandas as pd\n",
    "import numpy as np\n",
    "import matplotlib.pyplot as plt\n",
    "import matplotlib.patches as mpatch\n",
    "import cenpy\n",
    "import re"
   ]
  },
  {
   "cell_type": "code",
   "execution_count": null,
   "id": "confidential-handy",
   "metadata": {},
   "outputs": [],
   "source": [
    "plt.style.use('asu-light')"
   ]
  },
  {
   "cell_type": "code",
   "execution_count": null,
   "id": "flush-testament",
   "metadata": {},
   "outputs": [],
   "source": [
    "spop = pd.read_csv('../model_inputs/base/persons.csv')\n",
    "shh = pd.read_csv('../model_inputs/base/households.csv')"
   ]
  },
  {
   "cell_type": "code",
   "execution_count": null,
   "id": "unusual-acquisition",
   "metadata": {},
   "outputs": [],
   "source": [
    "# give the TAZs back their tract IDs\n",
    "tract_ids = pd.read_parquet('../la_abm/data/skim_tracts.parquet')\n",
    "shh = shh.merge(tract_ids, left_on='TAZ', right_on='idx', how='left')\n",
    "assert not shh.geoid.isnull().any()\n",
    "# and county IDs\n",
    "shh['county'] = shh.geoid.str.slice(0, 5)"
   ]
  },
  {
   "cell_type": "code",
   "execution_count": null,
   "id": "dimensional-support",
   "metadata": {},
   "outputs": [],
   "source": [
    "spop = spop.merge(shh, on=\"household_id\", how=\"left\", validate=\"m:1\")"
   ]
  },
  {
   "cell_type": "markdown",
   "id": "expected-operator",
   "metadata": {},
   "source": [
    "## First, distributions across the region"
   ]
  },
  {
   "cell_type": "code",
   "execution_count": null,
   "id": "declared-reasoning",
   "metadata": {},
   "outputs": [],
   "source": [
    "acs = cenpy.products.ACS(year=2017)"
   ]
  },
  {
   "cell_type": "code",
   "execution_count": null,
   "id": "closed-bowling",
   "metadata": {},
   "outputs": [],
   "source": [
    "pd.api.types.is_numeric_dtype"
   ]
  },
  {
   "cell_type": "code",
   "execution_count": null,
   "id": "valued-future",
   "metadata": {},
   "outputs": [],
   "source": [
    "# regional age distributions\n",
    "counties = ['Los Angeles, CA', 'Orange, CA', 'Riverside, CA', 'San Bernardino, CA', 'Ventura, CA', 'Imperial, CA']\n",
    "\n",
    "acs_age = acs.from_state('CA', '^B01001_', level='county', return_geometry=False).set_index('GEOID')\n"
   ]
  },
  {
   "cell_type": "code",
   "execution_count": null,
   "id": "labeled-brazilian",
   "metadata": {},
   "outputs": [],
   "source": [
    "acs_age = acs_age.apply(lambda c: c / acs_age.B01001_001E if pd.api.types.is_numeric_dtype(c) else c)\n",
    "acs_age.columns = [acs.variables.loc[c, 'label'] if c in acs.variables.index else c for c in acs_age.columns]"
   ]
  },
  {
   "cell_type": "code",
   "execution_count": null,
   "id": "mature-point",
   "metadata": {},
   "outputs": [],
   "source": [
    "# fold categories down\n",
    "acs_age['male_under_18'] = acs_age[[\n",
    "    'Estimate!!Total!!Male!!Under 5 years',\n",
    "       'Estimate!!Total!!Male!!5 to 9 years',\n",
    "       'Estimate!!Total!!Male!!10 to 14 years',\n",
    "       'Estimate!!Total!!Male!!15 to 17 years']].sum(axis=1)\n",
    "acs_age['male_18_34'] = acs_age[[\n",
    "     'Estimate!!Total!!Male!!18 and 19 years',\n",
    "       'Estimate!!Total!!Male!!20 years',\n",
    "       'Estimate!!Total!!Male!!21 years',\n",
    "       'Estimate!!Total!!Male!!22 to 24 years',\n",
    "       'Estimate!!Total!!Male!!25 to 29 years',\n",
    "       'Estimate!!Total!!Male!!30 to 34 years',\n",
    "]].sum(axis=1)\n",
    "acs_age['male_35_49'] = acs_age[[\n",
    "     'Estimate!!Total!!Male!!35 to 39 years',\n",
    "       'Estimate!!Total!!Male!!40 to 44 years',\n",
    "       'Estimate!!Total!!Male!!45 to 49 years',\n",
    "]].sum(axis=1)\n",
    "\n",
    "acs_age['male_50_64'] = acs_age[[\n",
    "    'Estimate!!Total!!Male!!50 to 54 years',\n",
    "       'Estimate!!Total!!Male!!55 to 59 years',\n",
    "       'Estimate!!Total!!Male!!60 and 61 years',\n",
    "       'Estimate!!Total!!Male!!62 to 64 years'\n",
    "]].sum(axis=1)\n",
    "\n",
    "acs_age['male_65_plus'] = acs_age[[\n",
    "    'Estimate!!Total!!Male!!65 and 66 years',\n",
    "       'Estimate!!Total!!Male!!67 to 69 years',\n",
    "       'Estimate!!Total!!Male!!70 to 74 years',\n",
    "       'Estimate!!Total!!Male!!75 to 79 years',\n",
    "       'Estimate!!Total!!Male!!80 to 84 years',\n",
    "       'Estimate!!Total!!Male!!85 years and over',\n",
    "]].sum(axis=1)\n",
    "\n",
    "# fold categories down\n",
    "acs_age['female_under_18'] = acs_age[[\n",
    "    'Estimate!!Total!!Female!!Under 5 years',\n",
    "       'Estimate!!Total!!Female!!5 to 9 years',\n",
    "       'Estimate!!Total!!Female!!10 to 14 years',\n",
    "       'Estimate!!Total!!Female!!15 to 17 years']].sum(axis=1)\n",
    "acs_age['female_18_34'] = acs_age[[\n",
    "     'Estimate!!Total!!Female!!18 and 19 years',\n",
    "       'Estimate!!Total!!Female!!20 years',\n",
    "       'Estimate!!Total!!Female!!21 years',\n",
    "       'Estimate!!Total!!Female!!22 to 24 years',\n",
    "       'Estimate!!Total!!Female!!25 to 29 years',\n",
    "       'Estimate!!Total!!Female!!30 to 34 years',\n",
    "]].sum(axis=1)\n",
    "acs_age['female_35_49'] = acs_age[[\n",
    "     'Estimate!!Total!!Female!!35 to 39 years',\n",
    "       'Estimate!!Total!!Female!!40 to 44 years',\n",
    "       'Estimate!!Total!!Female!!45 to 49 years',\n",
    "]].sum(axis=1)\n",
    "\n",
    "acs_age['female_50_64'] = acs_age[[\n",
    "    'Estimate!!Total!!Female!!50 to 54 years',\n",
    "       'Estimate!!Total!!Female!!55 to 59 years',\n",
    "       'Estimate!!Total!!Female!!60 and 61 years',\n",
    "       'Estimate!!Total!!Female!!62 to 64 years'\n",
    "]].sum(axis=1)\n",
    "\n",
    "acs_age['female_65_plus'] = acs_age[[\n",
    "    'Estimate!!Total!!Female!!65 and 66 years',\n",
    "       'Estimate!!Total!!Female!!67 to 69 years',\n",
    "       'Estimate!!Total!!Female!!70 to 74 years',\n",
    "       'Estimate!!Total!!Female!!75 to 79 years',\n",
    "       'Estimate!!Total!!Female!!80 to 84 years',\n",
    "       'Estimate!!Total!!Female!!85 years and over',\n",
    "]].sum(axis=1)\n",
    "\n"
   ]
  },
  {
   "cell_type": "code",
   "execution_count": null,
   "id": "chubby-storm",
   "metadata": {},
   "outputs": [],
   "source": [
    "# derive an age distribution from the population\n",
    "spop['census_age_cat'] = pd.cut(spop.age, [0, 17, 34, 49, 64, 122], right=True, include_lowest=True, labels=['under_18', '18_34', '35_49', '50_64', '65_plus'])"
   ]
  },
  {
   "cell_type": "code",
   "execution_count": null,
   "id": "steady-killing",
   "metadata": {},
   "outputs": [],
   "source": [
    "# sanity check\n",
    "spop.groupby('census_age_cat').age.agg([min, max])"
   ]
  },
  {
   "cell_type": "code",
   "execution_count": null,
   "id": "hazardous-fashion",
   "metadata": {},
   "outputs": [],
   "source": [
    "spop['census_sex'] = spop.sex.map({1: 'male', 2: 'female'})"
   ]
  },
  {
   "cell_type": "code",
   "execution_count": null,
   "id": "amino-deviation",
   "metadata": {},
   "outputs": [],
   "source": [
    "# make the table like the census one\n",
    "spop_age = spop.groupby(['county', 'census_age_cat', 'census_sex']).size()\n",
    "spop_age /= spop.groupby('county').size().reindex(spop_age.index, level='county')\n",
    "spop_age = spop_age.unstack().unstack()\n",
    "spop_age.columns = [f'{sex}_{age}' for sex, age in spop_age.columns]\n",
    "spop_age *= 100"
   ]
  },
  {
   "cell_type": "code",
   "execution_count": null,
   "id": "alien-cleanup",
   "metadata": {},
   "outputs": [],
   "source": [
    "acs_age *= 100"
   ]
  },
  {
   "cell_type": "code",
   "execution_count": null,
   "id": "civil-gibraltar",
   "metadata": {},
   "outputs": [],
   "source": [
    "male_cols = [c for c in spop_age.columns if c.startswith('male_')]\n",
    "female_cols = [c for c in spop_age.columns if c.startswith('female_')]"
   ]
  },
  {
   "cell_type": "code",
   "execution_count": null,
   "id": "harmful-privacy",
   "metadata": {},
   "outputs": [],
   "source": [
    "county_names = {\n",
    "    '06025': 'Imperial County',\n",
    "    '06037': 'Los Angeles County',\n",
    "    '06059': 'Orange County',\n",
    "    '06065': 'Riverside County',\n",
    "    '06071': 'San Bernardino County',\n",
    "    '06111': 'Ventura County'\n",
    "}"
   ]
  },
  {
   "cell_type": "code",
   "execution_count": null,
   "id": "juvenile-mouse",
   "metadata": {},
   "outputs": [],
   "source": [
    "spop_age"
   ]
  },
  {
   "cell_type": "code",
   "execution_count": null,
   "id": "formal-congress",
   "metadata": {},
   "outputs": [],
   "source": [
    "assert np.allclose(acs_age[[*male_cols, *female_cols]].sum(axis=1), 100)"
   ]
  },
  {
   "cell_type": "markdown",
   "id": "informational-contamination",
   "metadata": {},
   "source": [
    "acs_age"
   ]
  },
  {
   "cell_type": "code",
   "execution_count": null,
   "id": "fantastic-jungle",
   "metadata": {},
   "outputs": [],
   "source": []
  },
  {
   "cell_type": "code",
   "execution_count": null,
   "id": "sapphire-consent",
   "metadata": {},
   "outputs": [],
   "source": [
    "f, axs = plt.subplots(6, 3, figsize=(8.5, 9), gridspec_kw={\"width_ratios\": [2, 2, 1]})\n",
    "\n",
    "for ctyidx, county in enumerate(spop_age.index):\n",
    "    county_name = county_names[county]\n",
    "    for lbl, cols in [('Male', male_cols), ('Female', female_cols)]:\n",
    "        ax = axs[ctyidx, 1 if lbl == 'Female' else 0]\n",
    "        #ax.set_axis_off()\n",
    "        \n",
    "        if ctyidx == 0:\n",
    "            ax.set_title(lbl)\n",
    "            \n",
    "        if lbl == 'Male':\n",
    "            ax.set_ylabel(county_name)\n",
    "        \n",
    "        ax.bar(np.arange(len(cols)) + 0.2, spop_age.loc[county, cols], width=0.4, color='C1', label='Synthesized')\n",
    "        ax.bar(np.arange(len(cols)) - 0.2, acs_age.loc[county, cols], width=0.4, color='C0', label='ACS')\n",
    "        \n",
    "        ax.set_xticks(np.arange(5))\n",
    "        ax.set_xticklabels(['<18', '18–34', '35–49', '50–64', '≥65'])\n",
    "        \n",
    "        ax.set_ylim(0, 17)\n",
    "        ax.set_yticks([0, 5, 10, 15])\n",
    "        ax.set_yticklabels(['0%', '5%', '10%', '15%'])\n",
    "        \n",
    "# make legend\n",
    "# https://matplotlib.org/stable/gallery/subplots_axes_and_figures/gridspec_and_subplots.html\n",
    "gs = axs[0, 2].get_gridspec()\n",
    "\n",
    "for ax in axs[:,2]:\n",
    "    ax.remove()\n",
    "\n",
    "legax = f.add_subplot(gs[:, 2])\n",
    "legax.set_axis_off()\n",
    "legax.legend(handles=[\n",
    "    mpatch.Patch(color='C0', label='ACS'),\n",
    "    mpatch.Patch(color='C1', label='Synthesized'),\n",
    "], loc='upper center')\n",
    "\n",
    "\n",
    "plt.tight_layout()\n",
    "plt.savefig('../../dissertation/fig/popsyn/cmp_age_sex.pdf', bbox_inches='tight')"
   ]
  },
  {
   "cell_type": "markdown",
   "id": "classified-industry",
   "metadata": {},
   "source": [
    "## Income"
   ]
  },
  {
   "cell_type": "code",
   "execution_count": null,
   "id": "south-bangladesh",
   "metadata": {},
   "outputs": [],
   "source": [
    "acs_inc = acs.from_state('CA', '^B19001_', level='county', return_geometry=False).set_index('GEOID')\n",
    "acs_inc = acs_inc.apply(lambda c: c / acs_inc.B19001_001E * 100 if pd.api.types.is_numeric_dtype(c) else c)\n",
    "acs_inc.columns = [acs.variables.loc[c, 'label'] if c in acs.variables.index else c for c in acs_inc.columns]"
   ]
  },
  {
   "cell_type": "code",
   "execution_count": null,
   "id": "positive-payroll",
   "metadata": {},
   "outputs": [],
   "source": [
    "acs_inc['under_15k'] = acs_inc[['Estimate!!Total!!Less than $10,000',\n",
    "       'Estimate!!Total!!$10,000 to $14,999']].sum(axis=1)\n",
    "acs_inc['15_25k'] = acs_inc[['Estimate!!Total!!$15,000 to $19,999',\n",
    "       'Estimate!!Total!!$20,000 to $24,999',]].sum(axis=1)\n",
    "acs_inc['25_50k'] = acs_inc[[\n",
    "    'Estimate!!Total!!$25,000 to $29,999',\n",
    "       'Estimate!!Total!!$30,000 to $34,999',\n",
    "       'Estimate!!Total!!$35,000 to $39,999',\n",
    "       'Estimate!!Total!!$40,000 to $44,999',\n",
    "       'Estimate!!Total!!$45,000 to $49,999',\n",
    "]].sum(axis=1)\n",
    "acs_inc[['50_100k']] = acs_inc[[\n",
    "    'Estimate!!Total!!$50,000 to $59,999',\n",
    "       'Estimate!!Total!!$60,000 to $74,999',\n",
    "       'Estimate!!Total!!$75,000 to $99,999',\n",
    "]].sum(axis=1)\n",
    "acs_inc['over100k'] = acs_inc[[\n",
    "    'Estimate!!Total!!$100,000 to $124,999',\n",
    "       'Estimate!!Total!!$125,000 to $149,999',\n",
    "       'Estimate!!Total!!$150,000 to $199,999',\n",
    "       'Estimate!!Total!!$200,000 or more'\n",
    "]].sum(axis=1)"
   ]
  },
  {
   "cell_type": "code",
   "execution_count": null,
   "id": "correct-belle",
   "metadata": {},
   "outputs": [],
   "source": [
    "# income is in 2000 dollars for ASIM, rescale to 2017\n",
    "shh['inc17'] = shh.income * 1.44"
   ]
  },
  {
   "cell_type": "code",
   "execution_count": null,
   "id": "voluntary-recipient",
   "metadata": {},
   "outputs": [],
   "source": [
    "shh['inccat'] = pd.cut(shh.inc17, [-np.inf, 14999, 24999, 49999, 99999, np.inf], labels=['under_15k', '15_25k', '25_50k', '50_100k', 'over100k'], right=True)\n",
    "shh.groupby('inccat').inc17.agg([min, max]).round()"
   ]
  },
  {
   "cell_type": "code",
   "execution_count": null,
   "id": "centered-display",
   "metadata": {},
   "outputs": [],
   "source": [
    "shh_inc = shh.groupby(['county', 'inccat']).size().fillna(0)\n",
    "shh_inc /= shh.groupby('county').size().reindex(shh_inc.index, level='county')\n",
    "shh_inc *= 100\n",
    "shh_inc = shh_inc.unstack()\n",
    "shh_inc"
   ]
  },
  {
   "cell_type": "code",
   "execution_count": null,
   "id": "joint-agency",
   "metadata": {},
   "outputs": [],
   "source": [
    "cols = ['under_15k', '15_25k', '25_50k', '50_100k', 'over100k']"
   ]
  },
  {
   "cell_type": "code",
   "execution_count": null,
   "id": "related-sunday",
   "metadata": {},
   "outputs": [],
   "source": [
    "assert np.allclose(acs_inc[cols].sum(axis=1), 100)\n",
    "assert np.allclose(shh_inc[cols].sum(axis=1), 100)"
   ]
  },
  {
   "cell_type": "code",
   "execution_count": null,
   "id": "indian-delhi",
   "metadata": {},
   "outputs": [],
   "source": [
    "f, allaxs = plt.subplots(3, 3, figsize=(8.5, 9), gridspec_kw={\"width_ratios\": [2, 2, 1]})\n",
    "\n",
    "axs = allaxs[:,:2].reshape(-1)\n",
    "\n",
    "\n",
    "for ax, cnty in zip(axs, shh_inc.index):\n",
    "    ax.set_title(county_names[cnty])\n",
    "    ax.bar(np.arange(5) - 0.2, acs_inc.loc[cnty, cols], color='C0', width=0.4)\n",
    "    ax.bar(np.arange(5) + 0.2, shh_inc.loc[cnty, cols], color='C1', width=0.4)\n",
    "\n",
    "    ax.set_ylim(0, 46)\n",
    "    ax.set_yticks([0, 10, 20, 30, 40])\n",
    "    ax.set_yticklabels(['0%', '10%', '20%', '30%', '40%'])\n",
    "    \n",
    "    ax.set_xticks(np.arange(5))\n",
    "    ax.set_xticklabels(['<\\\\$15k', '15–25k', '25–50k', '50–100k', '≥100k'])\n",
    "\n",
    "gs = allaxs[0, 2].get_gridspec()\n",
    "\n",
    "for ax in allaxs[:,2]:\n",
    "    ax.remove()\n",
    "\n",
    "legax = f.add_subplot(gs[:, 2])\n",
    "legax.set_axis_off()\n",
    "legax.legend(handles=[\n",
    "    mpatch.Patch(color='C0', label='ACS'),\n",
    "    mpatch.Patch(color='C1', label='Synthesized'),\n",
    "], loc='upper center')\n",
    "    \n",
    "plt.tight_layout()\n",
    "\n",
    "plt.savefig('../../dissertation/fig/popsyn/cmp_inc.pdf')"
   ]
  },
  {
   "cell_type": "markdown",
   "id": "contained-bracket",
   "metadata": {},
   "source": [
    "## hh size"
   ]
  },
  {
   "cell_type": "code",
   "execution_count": null,
   "id": "adolescent-bracket",
   "metadata": {},
   "outputs": [],
   "source": [
    "acs_hhs = acs.from_state('CA', '^B25009_', level='county', return_geometry=False).set_index('GEOID')\n",
    "acs_hhs = acs_hhs.apply(lambda c: c / acs_hhs.B25009_001E * 100 if pd.api.types.is_numeric_dtype(c) else c)\n",
    "acs_hhs.columns = [acs.variables.loc[c, 'label'] if c in acs.variables.index else c for c in acs_hhs.columns]"
   ]
  },
  {
   "cell_type": "code",
   "execution_count": null,
   "id": "described-capital",
   "metadata": {},
   "outputs": [],
   "source": [
    "acs_hhs.columns"
   ]
  },
  {
   "cell_type": "code",
   "execution_count": null,
   "id": "periodic-option",
   "metadata": {},
   "outputs": [],
   "source": [
    "acs_hhs['ownocc_1pers'] = acs_hhs['Estimate!!Total!!Owner occupied!!1-person household']\n",
    "acs_hhs['ownocc_2pers'] = acs_hhs['Estimate!!Total!!Owner occupied!!2-person household']\n",
    "acs_hhs['ownocc_3pers'] = acs_hhs['Estimate!!Total!!Owner occupied!!3-person household']\n",
    "acs_hhs['ownocc_4pers'] = acs_hhs['Estimate!!Total!!Owner occupied!!4-person household']\n",
    "acs_hhs['ownocc_5pluspers'] = acs_hhs[[\n",
    "     'Estimate!!Total!!Owner occupied!!5-person household',\n",
    "       'Estimate!!Total!!Owner occupied!!6-person household',\n",
    "       'Estimate!!Total!!Owner occupied!!7-or-more person household',\n",
    "]].sum(axis=1)\n",
    "\n",
    "acs_hhs['rent_1pers'] = acs_hhs['Estimate!!Total!!Renter occupied!!1-person household']\n",
    "acs_hhs['rent_2pers'] = acs_hhs['Estimate!!Total!!Renter occupied!!2-person household']\n",
    "acs_hhs['rent_3pers'] = acs_hhs['Estimate!!Total!!Renter occupied!!3-person household']\n",
    "acs_hhs['rent_4pers'] = acs_hhs['Estimate!!Total!!Renter occupied!!4-person household']\n",
    "acs_hhs['rent_5pluspers'] = acs_hhs[[\n",
    "     'Estimate!!Total!!Renter occupied!!5-person household',\n",
    "       'Estimate!!Total!!Renter occupied!!6-person household',\n",
    "       'Estimate!!Total!!Renter occupied!!7-or-more person household',\n",
    "]].sum(axis=1)"
   ]
  },
  {
   "cell_type": "code",
   "execution_count": null,
   "id": "parliamentary-brain",
   "metadata": {},
   "outputs": [],
   "source": [
    "own_cols = ['ownocc_1pers', 'ownocc_2pers', 'ownocc_3pers', 'ownocc_4pers', 'ownocc_5pluspers']\n",
    "rent_cols = ['rent_1pers', 'rent_2pers', 'rent_3pers', 'rent_4pers', 'rent_5pluspers']"
   ]
  },
  {
   "cell_type": "code",
   "execution_count": null,
   "id": "formed-february",
   "metadata": {},
   "outputs": [],
   "source": [
    "shh['hhsize_cat'] = np.minimum(shh.hhsize, 5)\n",
    "shh['tencat'] = shh.rent.map({\n",
    "    False: 'ownocc',\n",
    "    True: 'rent'\n",
    "})"
   ]
  },
  {
   "cell_type": "code",
   "execution_count": null,
   "id": "fallen-sacramento",
   "metadata": {},
   "outputs": [],
   "source": [
    "shh_hhs = shh.groupby(['county', 'tencat', 'hhsize_cat']).size()\n",
    "shh_hhs = shh_hhs / shh.groupby('county').size().reindex(shh_hhs.index, level='county')\n",
    "shh_hhs = shh_hhs.unstack().unstack()\n",
    "shh_hhs.columns = [f'{ten}_{hhs}pers' if hhs < 5 else f'{ten}_5pluspers' for hhs, ten in shh_hhs.columns]\n",
    "shh_hhs *= 100"
   ]
  },
  {
   "cell_type": "code",
   "execution_count": null,
   "id": "matched-exploration",
   "metadata": {},
   "outputs": [],
   "source": [
    "assert np.allclose(acs_hhs[[*own_cols, *rent_cols]].sum(axis=1), 100)\n",
    "assert np.allclose(shh_hhs[[*own_cols, *rent_cols]].sum(axis=1), 100)"
   ]
  },
  {
   "cell_type": "code",
   "execution_count": null,
   "id": "valued-essex",
   "metadata": {},
   "outputs": [],
   "source": [
    "f, axs = plt.subplots(6, 3, figsize=(8.5, 9), gridspec_kw={\"width_ratios\": [2, 2, 1]})\n",
    "\n",
    "for ctyidx, county in enumerate(spop_age.index):\n",
    "    county_name = county_names[county]\n",
    "    for lbl, cols in [('Rent', rent_cols), ('Own', own_cols)]:\n",
    "        ax = axs[ctyidx, 1 if lbl == 'Own' else 0]\n",
    "        #ax.set_axis_off()\n",
    "        \n",
    "        if ctyidx == 0:\n",
    "            ax.set_title(lbl)\n",
    "            \n",
    "        if lbl == 'Rent':\n",
    "            ax.set_ylabel(county_name)\n",
    "        \n",
    "        ax.bar(np.arange(len(cols)) + 0.2, shh_hhs.loc[county, cols], width=0.4, color='C1', label='Synthesized')\n",
    "        ax.bar(np.arange(len(cols)) - 0.2, acs_hhs.loc[county, cols], width=0.4, color='C0', label='ACS')\n",
    "        \n",
    "        ax.set_xticks(np.arange(5))\n",
    "        ax.set_xticklabels(['1', '2', '3', '4', '≥5'])\n",
    "        \n",
    "        ax.set_ylim(0, 22)\n",
    "        ax.set_yticks([0, 10, 20])\n",
    "        ax.set_yticklabels(['0%', '10%', '20%'])\n",
    "        \n",
    "# make legend\n",
    "# https://matplotlib.org/stable/gallery/subplots_axes_and_figures/gridspec_and_subplots.html\n",
    "gs = axs[0, 2].get_gridspec()\n",
    "\n",
    "for ax in axs[:,2]:\n",
    "    ax.remove()\n",
    "\n",
    "legax = f.add_subplot(gs[:, 2])\n",
    "legax.set_axis_off()\n",
    "legax.legend(handles=[\n",
    "    mpatch.Patch(color='C0', label='ACS'),\n",
    "    mpatch.Patch(color='C1', label='Synthesized'),\n",
    "], loc='upper center')\n",
    "\n",
    "\n",
    "plt.tight_layout()\n",
    "plt.savefig('../../dissertation/fig/popsyn/cmp_tenure_hhsize.pdf', bbox_inches='tight')"
   ]
  },
  {
   "cell_type": "markdown",
   "id": "enormous-battlefield",
   "metadata": {},
   "source": [
    "## Vehicle ownership"
   ]
  },
  {
   "cell_type": "code",
   "execution_count": null,
   "id": "little-melbourne",
   "metadata": {},
   "outputs": [],
   "source": [
    "acs_veh = acs.from_state('CA', '^B08201_', level='county', return_geometry=False).set_index('GEOID')\n",
    "acs_veh = acs_veh.apply(lambda c: c / acs_veh.B08201_001E * 100 if pd.api.types.is_numeric_dtype(c) else c)\n",
    "acs_veh.columns = [acs.variables.loc[c, 'label'] if c in acs.variables.index else c for c in acs_veh.columns]"
   ]
  },
  {
   "cell_type": "code",
   "execution_count": null,
   "id": "civil-mailman",
   "metadata": {},
   "outputs": [],
   "source": [
    "acs_veh.columns"
   ]
  },
  {
   "cell_type": "code",
   "execution_count": null,
   "id": "individual-netherlands",
   "metadata": {},
   "outputs": [],
   "source": [
    "acs_veh['0veh'] = acs_veh['Estimate!!Total!!No vehicle available']\n",
    "acs_veh['1veh'] = acs_veh['Estimate!!Total!!1 vehicle available']\n",
    "acs_veh['2veh'] = acs_veh['Estimate!!Total!!2 vehicles available']\n",
    "acs_veh['3veh'] = acs_veh['Estimate!!Total!!3 vehicles available']\n",
    "acs_veh['4veh'] = acs_veh['Estimate!!Total!!4 or more vehicles available']"
   ]
  },
  {
   "cell_type": "code",
   "execution_count": null,
   "id": "similar-bangkok",
   "metadata": {},
   "outputs": [],
   "source": [
    "shh['acsveh'] = np.minimum(shh.auto_ownership, 4)\n",
    "shh['acsveh'] = shh.acsveh.astype('str') + 'veh'"
   ]
  },
  {
   "cell_type": "code",
   "execution_count": null,
   "id": "attended-lover",
   "metadata": {},
   "outputs": [],
   "source": [
    "shh_veh = shh.groupby(['county', 'acsveh']).size()\n",
    "shh_veh = shh_veh / shh.groupby('county').size().reindex(shh_veh.index, level='county')\n",
    "shh_veh *= 100\n",
    "shh_veh = shh_veh.unstack()\n",
    "shh_veh"
   ]
  },
  {
   "cell_type": "code",
   "execution_count": null,
   "id": "collected-deviation",
   "metadata": {},
   "outputs": [],
   "source": [
    "veh_cols = ['0veh', '1veh', '2veh', '3veh', '4veh']\n",
    "assert np.allclose(acs_veh[veh_cols].sum(axis=1), 100)\n",
    "assert np.allclose(shh_veh[veh_cols].sum(axis=1), 100)"
   ]
  },
  {
   "cell_type": "code",
   "execution_count": null,
   "id": "distinct-prophet",
   "metadata": {},
   "outputs": [],
   "source": [
    "f, allaxs = plt.subplots(3, 3, figsize=(8.5, 9), gridspec_kw={\"width_ratios\": [2, 2, 1]})\n",
    "\n",
    "axs = allaxs[:,:2].reshape(-1)\n",
    "\n",
    "\n",
    "for ax, cnty in zip(axs, shh_inc.index):\n",
    "    ax.set_title(county_names[cnty])\n",
    "    ax.bar(np.arange(5) - 0.2, acs_veh.loc[cnty, veh_cols], color='C0', width=0.4)\n",
    "    ax.bar(np.arange(5) + 0.2, shh_veh.loc[cnty, veh_cols], color='C1', width=0.4)\n",
    "\n",
    "    ax.set_ylim(0, 43)\n",
    "    ax.set_yticks([0, 10, 20, 30, 40])\n",
    "    ax.set_yticklabels(['0%', '10%', '20%', '30%', '40%'])\n",
    "    \n",
    "    ax.set_xticks(np.arange(5))\n",
    "    ax.set_xticklabels(['0', '1', '2', '3', '≥4'])\n",
    "\n",
    "gs = allaxs[0, 2].get_gridspec()\n",
    "\n",
    "for ax in allaxs[:,2]:\n",
    "    ax.remove()\n",
    "\n",
    "legax = f.add_subplot(gs[:, 2])\n",
    "legax.set_axis_off()\n",
    "legax.legend(handles=[\n",
    "    mpatch.Patch(color='C0', label='ACS'),\n",
    "    mpatch.Patch(color='C1', label='Synthesized'),\n",
    "], loc='upper center')\n",
    "    \n",
    "plt.tight_layout()\n",
    "\n",
    "plt.savefig('../../dissertation/fig/popsyn/cmp_veh.pdf')"
   ]
  },
  {
   "cell_type": "markdown",
   "id": "dominant-effects",
   "metadata": {},
   "source": [
    "## Tract level analysis\n",
    "\n",
    "Just going to look at income for brevity."
   ]
  },
  {
   "cell_type": "code",
   "execution_count": null,
   "id": "bizarre-badge",
   "metadata": {},
   "outputs": [],
   "source": [
    "# table S1902, not available from CenPy\n",
    "acs_meaninc = pd.read_csv('../data/acs_mean_income.csv')\n",
    "acs_meaninc['geoid'] = acs_meaninc.id.str.slice(-11)\n",
    "acs_meaninc = acs_meaninc.set_index('geoid')\n",
    "acs_meaninc.head()"
   ]
  },
  {
   "cell_type": "code",
   "execution_count": null,
   "id": "exclusive-remove",
   "metadata": {},
   "outputs": [],
   "source": [
    "acs_meaninc['meaninc'] = acs_meaninc['Estimate!!Mean income (dollars)!!HOUSEHOLD INCOME!!All households'].replace({'-': np.nan, 'N': np.nan}).astype('float64')"
   ]
  },
  {
   "cell_type": "code",
   "execution_count": null,
   "id": "burning-equipment",
   "metadata": {},
   "outputs": [],
   "source": [
    "shh_mean_inc = shh.groupby('geoid').inc17.mean()"
   ]
  },
  {
   "cell_type": "code",
   "execution_count": null,
   "id": "statutory-victim",
   "metadata": {},
   "outputs": [],
   "source": [
    "shh_mean_inc"
   ]
  },
  {
   "cell_type": "code",
   "execution_count": null,
   "id": "finite-bunny",
   "metadata": {},
   "outputs": [],
   "source": [
    "mean_inc = pd.DataFrame({'acs': acs_meaninc.meaninc.reindex(shh_mean_inc.index), 'synthesized': shh_mean_inc})"
   ]
  },
  {
   "cell_type": "code",
   "execution_count": null,
   "id": "hazardous-multiple",
   "metadata": {},
   "outputs": [],
   "source": [
    "tss = np.sum((mean_inc.acs - mean_inc.acs.mean()) ** 2)\n",
    "rss = np.sum((mean_inc.acs - mean_inc.synthesized) ** 2)\n",
    "r2 = 1 - rss / tss\n",
    "\n",
    "f, ax = plt.subplots()\n",
    "\n",
    "plt.scatter(mean_inc.acs, mean_inc.synthesized, s=0.5, alpha=0.25, color='black')\n",
    "plt.plot([0, 1000000], [0, 1000000])\n",
    "plt.xlim(0, 200000)\n",
    "plt.ylim(0, 200000)\n",
    "plt.xlabel('Mean income (ACS, 2017 dollars)')\n",
    "plt.ylabel('Mean income (synthesized, 2017 dollars)')\n",
    "\n",
    "plt.text(1000, 190000, f'$R^2$: {r2:.2f}')\n",
    "ax.xaxis.set_major_formatter('{x:,.0f}')\n",
    "ax.yaxis.set_major_formatter('{x:,.0f}')\n",
    "plt.savefig('../../dissertation/fig/popsyn/cmp_inc_tract.pdf', bbox_inches='tight')"
   ]
  },
  {
   "cell_type": "code",
   "execution_count": null,
   "id": "widespread-stretch",
   "metadata": {},
   "outputs": [],
   "source": []
  },
  {
   "cell_type": "code",
   "execution_count": null,
   "id": "regulated-subsection",
   "metadata": {},
   "outputs": [],
   "source": []
  }
 ],
 "metadata": {
  "kernelspec": {
   "display_name": "Python 3",
   "language": "python",
   "name": "python3"
  },
  "language_info": {
   "codemirror_mode": {
    "name": "ipython",
    "version": 3
   },
   "file_extension": ".py",
   "mimetype": "text/x-python",
   "name": "python",
   "nbconvert_exporter": "python",
   "pygments_lexer": "ipython3",
   "version": "3.8.8"
  }
 },
 "nbformat": 4,
 "nbformat_minor": 5
}
