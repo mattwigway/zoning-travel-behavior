{
 "cells": [
  {
   "cell_type": "markdown",
   "id": "manufactured-architecture",
   "metadata": {},
   "source": [
    "# Cap rates\n",
    "\n",
    "Compute a cap rate based on rents and recent single family home sales."
   ]
  },
  {
   "cell_type": "code",
   "execution_count": null,
   "id": "mexican-softball",
   "metadata": {},
   "outputs": [],
   "source": [
    "%matplotlib inline\n",
    "%config InlineBackend.figure_format = 'retina'\n",
    "%load_ext ipy_blink1\n",
    "\n",
    "import pandas as pd\n",
    "import numpy as np\n",
    "import matplotlib.pyplot as plt\n",
    "from pandas.tseries.offsets import MonthEnd\n",
    "\n",
    "SCALE_FACTOR = 1.8031293436149882\n",
    "VACANCY_RATE = 0.04\n",
    "discount_rate_new = 0.08\n",
    "discount_rate_ex = 0.04125\n",
    "cap_rate = 0.0479\n",
    "appreciation = 0.014\n",
    "op_cost = 0.45"
   ]
  },
  {
   "cell_type": "code",
   "execution_count": null,
   "id": "suitable-brazilian",
   "metadata": {},
   "outputs": [],
   "source": [
    "# read paired estimated values and sales\n",
    "sales =  pd.read_sql(\"\"\"\n",
    "SELECT \"Main_SalesPriceAmount\" AS price, \"Main_RecordingDate\" AS date, gid, total_rent, p.Building_PropertyLandUseStndCode\n",
    "FROM diss.ztrans t\n",
    "INNER JOIN diss.gp16 p ON (t.\"PropertyInfo_ImportParcelID\" = p.Main_ImportParcelID)\n",
    "WHERE SUBSTRING(t.\"Main_RecordingDate\", 1, 4) IN ('2013', '2014', '2015', '2016', '2017')\n",
    "WHERE Building_PropertyLandUseStndCode == \n",
    "\"\"\", \"postgres://matthewc@localhost/matthewc\")"
   ]
  },
  {
   "cell_type": "code",
   "execution_count": null,
   "id": "european-insertion",
   "metadata": {},
   "outputs": [],
   "source": [
    "sales = sales.dropna(subset=['price', 'total_rent']).copy()\n",
    "sales = sales[sales.price > 5000].copy()"
   ]
  },
  {
   "cell_type": "code",
   "execution_count": null,
   "id": "derived-republic",
   "metadata": {},
   "outputs": [],
   "source": [
    "# make sure we only have SFHs here\n",
    "assert (sales.building_propertylandusestndcode == 'RR101').all()"
   ]
  },
  {
   "cell_type": "code",
   "execution_count": null,
   "id": "demographic-jackson",
   "metadata": {},
   "outputs": [],
   "source": [
    "# apply inflation using Zillow Home Value Index for LA, SFR only\n",
    "# https://www.zillow.com/research/data/\n",
    "zhvi = pd.read_csv('../data/Metro_zhvi_uc_sfr_tier_0.33_0.67_sm_sa_mon.csv')\n",
    "zhvi_la = zhvi.loc[zhvi.RegionName == 'Los Angeles-Long Beach-Anaheim, CA', [i for i in zhvi.columns if i.startswith('20')]].iloc[0]\n",
    "# scale to appropriate scale factors\n",
    "zhvi_la /= zhvi_la.loc['2017-12-31'] # this is the end of the ZTrans data and also the end of the PUMS data used to estimate rents"
   ]
  },
  {
   "cell_type": "code",
   "execution_count": null,
   "id": "supported-committee",
   "metadata": {},
   "outputs": [],
   "source": [
    "# make sure this doesn't skip to the next month by mistake\n",
    "assert str(pd.to_datetime('2012-07-02') + MonthEnd(0)).startswith('2012-07-31')\n",
    "assert str(pd.to_datetime('2012-07-31') + MonthEnd(0)).startswith('2012-07-31')"
   ]
  },
  {
   "cell_type": "code",
   "execution_count": null,
   "id": "rural-front",
   "metadata": {},
   "outputs": [],
   "source": [
    "sales['date'] = pd.to_datetime(sales.date)\n",
    "\n",
    "sales['month'] = (sales.date + MonthEnd(0)).astype(str)\n",
    "\n",
    "sales.date.max()"
   ]
  },
  {
   "cell_type": "code",
   "execution_count": null,
   "id": "administrative-outdoors",
   "metadata": {},
   "outputs": [],
   "source": [
    "sales['zhvi'] = zhvi_la.loc[sales.month].values\n",
    "assert not sales.zhvi.isnull().any()\n",
    "sales['price17'] = sales.price / sales.zhvi"
   ]
  },
  {
   "cell_type": "code",
   "execution_count": null,
   "id": "theoretical-commonwealth",
   "metadata": {},
   "outputs": [],
   "source": [
    "sales['noi'] = sales.total_rent * (1 - op_cost) * 12 * SCALE_FACTOR * (1 - VACANCY_RATE)\n",
    "sales['noi_to_value'] = sales.noi / sales.price17 * 100"
   ]
  },
  {
   "cell_type": "code",
   "execution_count": null,
   "id": "settled-planet",
   "metadata": {},
   "outputs": [],
   "source": [
    "sales.noi_to_value.describe()"
   ]
  },
  {
   "cell_type": "code",
   "execution_count": null,
   "id": "moderate-binary",
   "metadata": {},
   "outputs": [],
   "source": [
    "# 2% trimmed mean\n",
    "sales.loc[(sales.noi_to_value >= np.percentile(sales.noi_to_value, 2)) & (sales.noi_to_value <= np.percentile(sales.noi_to_value, 98)), 'noi_to_value'].mean()"
   ]
  },
  {
   "cell_type": "code",
   "execution_count": null,
   "id": "sought-marks",
   "metadata": {},
   "outputs": [],
   "source": [
    "np.percentile(sales.noi_to_value, 2)"
   ]
  },
  {
   "cell_type": "code",
   "execution_count": null,
   "id": "burning-emission",
   "metadata": {},
   "outputs": [],
   "source": [
    "np.percentile(sales.noi_to_value, 98)"
   ]
  },
  {
   "cell_type": "code",
   "execution_count": null,
   "id": "muslim-litigation",
   "metadata": {},
   "outputs": [],
   "source": []
  }
 ],
 "metadata": {
  "kernelspec": {
   "display_name": "Python 3",
   "language": "python",
   "name": "python3"
  },
  "language_info": {
   "codemirror_mode": {
    "name": "ipython",
    "version": 3
   },
   "file_extension": ".py",
   "mimetype": "text/x-python",
   "name": "python",
   "nbconvert_exporter": "python",
   "pygments_lexer": "ipython3",
   "version": "3.8.8"
  }
 },
 "nbformat": 4,
 "nbformat_minor": 5
}
