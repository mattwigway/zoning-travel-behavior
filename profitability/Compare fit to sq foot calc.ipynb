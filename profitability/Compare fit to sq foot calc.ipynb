{
 "cells": [
  {
   "cell_type": "markdown",
   "id": "5001a2e8",
   "metadata": {},
   "source": [
    "# Compare fit to square foot calculation\n",
    "\n",
    "How much did the prototype buildings approach really improve things relative to just using lot area?"
   ]
  },
  {
   "cell_type": "code",
   "execution_count": null,
   "id": "808ea526",
   "metadata": {},
   "outputs": [],
   "source": [
    "%matplotlib inline\n",
    "%config InlineBackend.figure_format = 'retina'\n",
    "\n",
    "import pandas as pd\n",
    "import geopandas as gp\n",
    "import matplotlib.pyplot as plt"
   ]
  },
  {
   "cell_type": "code",
   "execution_count": null,
   "id": "5842cb5f",
   "metadata": {},
   "outputs": [],
   "source": [
    "plt.style.use('asu-light')"
   ]
  },
  {
   "cell_type": "code",
   "execution_count": null,
   "id": "0624b2bf",
   "metadata": {},
   "outputs": [],
   "source": [
    "# Get the buildable areas and existing feasibility\n",
    "data = pd.read_sql(\"\"\"\n",
    "SELECT f.*, ST_Area(ba.geog)\n",
    "FROM diss.building_fit f\n",
    "LEFT JOIN diss.buildable_areas ba USING (gid)\n",
    "LEFT JOIN diss.gp16 p USING (gid)\n",
    " WHERE p.scag_zn_co IN (\n",
    "            '1110', -- single family residential\n",
    "            '1111', -- high dens SF residential\n",
    "            '1112', -- med dens SF residential\n",
    "            '1113', -- low dens SF residential\n",
    "            '1150'  -- rural residential\n",
    "        )\n",
    "        AND p.Building_PropertyLandUseStndCode IN ('RR101', 'VL101')\n",
    "        AND (total_rent IS NOT NULL OR vacant_npv IS NOT NULL)\n",
    "        AND p.puma IS NOT NULL\n",
    "\"\"\", \"postgresql://matthewc@localhost/matthewc\")"
   ]
  },
  {
   "cell_type": "code",
   "execution_count": null,
   "id": "8c5217af",
   "metadata": {},
   "outputs": [],
   "source": [
    "data['simple_fit_sfh_duplex'] = data.st_area >= (12 * 10)\n",
    "data['simple_fit_threeplex'] = data.st_area >= (16 * 11)\n",
    "data['simple_fit_sixplex'] = data.st_area >= (21 * 10)"
   ]
  },
  {
   "cell_type": "code",
   "execution_count": null,
   "id": "ffd7e780",
   "metadata": {},
   "outputs": [],
   "source": [
    "# make sure that the simple fit is (almost) an upper bound\n",
    "assert (~data.loc[data.fit_sfh_duplex, 'simple_fit_sfh_duplex']).sum() <= 100\n",
    "assert (~data.loc[data.fit_fourplex, 'simple_fit_threeplex']).sum() <= 500  # a few right on the edge of feasibility have some rasterization error\n",
    "assert (~data.loc[data.fit_sixplex, 'simple_fit_sixplex']).sum() <= 500  # same"
   ]
  },
  {
   "cell_type": "code",
   "execution_count": null,
   "id": "5406e85b",
   "metadata": {},
   "outputs": [],
   "source": [
    "(~data.loc[data.fit_sfh_duplex, 'simple_fit_sfh_duplex']).sum()"
   ]
  },
  {
   "cell_type": "code",
   "execution_count": null,
   "id": "478d9660",
   "metadata": {},
   "outputs": [],
   "source": [
    "(~data.loc[data.fit_sixplex, 'simple_fit_sixplex']).sum()"
   ]
  },
  {
   "cell_type": "code",
   "execution_count": null,
   "id": "b17875d7",
   "metadata": {},
   "outputs": [],
   "source": [
    "data.loc[data.fit_sixplex & ~data.simple_fit_sixplex, ['gid', 'st_area']]"
   ]
  },
  {
   "cell_type": "markdown",
   "id": "fc3f7c09",
   "metadata": {},
   "source": [
    "Originally 0.13929388180671326, data used here is corrected (see note on page 34 of dissertation)."
   ]
  },
  {
   "cell_type": "code",
   "execution_count": null,
   "id": "85c83a42",
   "metadata": {},
   "outputs": [],
   "source": [
    "(\n",
    "    (data.simple_fit_sfh_duplex & ~data.fit_sfh_duplex) |\n",
    "    (data.simple_fit_threeplex & ~data.fit_fourplex) |\n",
    "    (data.simple_fit_sixplex & ~data.fit_sixplex)\n",
    ").mean()"
   ]
  },
  {
   "cell_type": "code",
   "execution_count": null,
   "id": "d7a7b7d7",
   "metadata": {},
   "outputs": [],
   "source": [
    "wrd = data.loc[(\n",
    "    (~data.simple_fit_sfh_duplex & data.fit_sfh_duplex) |\n",
    "    (~data.simple_fit_threeplex & data.fit_fourplex) |\n",
    "    (~data.simple_fit_sixplex & data.fit_sixplex)\n",
    "), 'gid'].sample(100)"
   ]
  },
  {
   "cell_type": "code",
   "execution_count": null,
   "id": "4aa2db45",
   "metadata": {},
   "outputs": [],
   "source": [
    "wrdg = gp.read_postgis(\"SELECT gid, ST_Transform(geog::geometry, 26911) AS geom FROM diss.gp16 WHERE gid IN ({})\".format(','.join(map(str, wrd))), \"postgresql://matthewc@localhost/matthewc\")"
   ]
  },
  {
   "cell_type": "code",
   "execution_count": null,
   "id": "7ed0a8ac",
   "metadata": {},
   "outputs": [],
   "source": [
    "wrdg.geom.iloc[3]"
   ]
  },
  {
   "cell_type": "code",
   "execution_count": null,
   "id": "58341861",
   "metadata": {},
   "outputs": [],
   "source": [
    "wrdg.iloc[3]"
   ]
  },
  {
   "cell_type": "code",
   "execution_count": null,
   "id": "174c9a11",
   "metadata": {},
   "outputs": [],
   "source": [
    "wrdg.iloc[[34]].plot()\n",
    "plt.xticks([])\n",
    "plt.yticks([])"
   ]
  },
  {
   "cell_type": "code",
   "execution_count": null,
   "id": "af90f462",
   "metadata": {},
   "outputs": [],
   "source": [
    "wrdg.iloc[[34]].to_crs(epsg=4326)"
   ]
  },
  {
   "cell_type": "code",
   "execution_count": null,
   "id": "8e073e15",
   "metadata": {},
   "outputs": [],
   "source": [
    "data[data.gid == 921834]"
   ]
  },
  {
   "cell_type": "code",
   "execution_count": null,
   "id": "495f7cb4",
   "metadata": {},
   "outputs": [],
   "source": []
  }
 ],
 "metadata": {
  "kernelspec": {
   "display_name": "Python 3",
   "language": "python",
   "name": "python3"
  },
  "language_info": {
   "codemirror_mode": {
    "name": "ipython",
    "version": 3
   },
   "file_extension": ".py",
   "mimetype": "text/x-python",
   "name": "python",
   "nbconvert_exporter": "python",
   "pygments_lexer": "ipython3",
   "version": "3.8.5"
  }
 },
 "nbformat": 4,
 "nbformat_minor": 5
}
