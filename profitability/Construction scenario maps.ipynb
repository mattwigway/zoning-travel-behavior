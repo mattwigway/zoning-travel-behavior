{
 "cells": [
  {
   "cell_type": "markdown",
   "id": "d321cbc2",
   "metadata": {},
   "source": [
    "# Construction scenario maps\n",
    "\n",
    "Maps of the results of the construction scenarios."
   ]
  },
  {
   "cell_type": "code",
   "execution_count": null,
   "id": "7b8c7a78",
   "metadata": {},
   "outputs": [],
   "source": [
    "%matplotlib inline\n",
    "%config InlineBackend.figure_format = 'retina'\n",
    "\n",
    "import shapely\n",
    "import pandas as pd\n",
    "import numpy as np\n",
    "import geopandas as gp\n",
    "import matplotlib.pyplot as plt\n",
    "import matplotlib.patches as mpatch\n",
    "from census import Census\n",
    "import os\n",
    "from glob import glob"
   ]
  },
  {
   "cell_type": "code",
   "execution_count": null,
   "id": "6a639568",
   "metadata": {},
   "outputs": [],
   "source": [
    "plt.style.use('asu-light')"
   ]
  },
  {
   "cell_type": "code",
   "execution_count": null,
   "id": "7a08acb0",
   "metadata": {},
   "outputs": [],
   "source": [
    "capi = Census(os.environ['CENSUS_API_KEY'])"
   ]
  },
  {
   "cell_type": "code",
   "execution_count": null,
   "id": "d1e8a786",
   "metadata": {},
   "outputs": [],
   "source": [
    "base_npvs = pd.read_parquet('../data/Current appreciation_net_present_value.parquet')"
   ]
  },
  {
   "cell_type": "code",
   "execution_count": null,
   "id": "14364b2f",
   "metadata": {},
   "outputs": [],
   "source": [
    "# figure out which were vacant (needed to calculate unit change)\n",
    "gid_info = pd.read_sql('SELECT gid, tract, building_propertylandusestndcode FROM diss.gp16', 'postgresql://matthewc@localhost/matthewc')"
   ]
  },
  {
   "cell_type": "code",
   "execution_count": null,
   "id": "d1e8005c",
   "metadata": {},
   "outputs": [],
   "source": [
    "base_npvs = base_npvs.merge(gid_info, left_index=True, right_on='gid', how='left', validate='1:1')\n",
    "base_npvs['vacant'] = base_npvs.building_propertylandusestndcode == 'VL101'"
   ]
  },
  {
   "cell_type": "code",
   "execution_count": null,
   "id": "54da58d6",
   "metadata": {},
   "outputs": [],
   "source": [
    "def calculate_redevelopment (npvs):\n",
    "    npvs = npvs.copy()\n",
    "    npvs['most_profitable'] = npvs[['duplex', 'sfh', 'sixplex', 'threeplex', 'existing']].idxmax(axis=1)\n",
    "    \n",
    "    assert not (npvs.most_profitable == 'sfh').any()  # this assumption is important when computing effects for people in new housing\n",
    "\n",
    "    npvs = npvs.merge(gid_info, left_index=True, right_on='gid', how='left', validate='1:1')\n",
    "\n",
    "    assert not npvs.building_propertylandusestndcode.isnull().any()\n",
    "\n",
    "    npvs['vacant'] = npvs.building_propertylandusestndcode == 'VL101'\n",
    "\n",
    "    # one less unit to account for teardown\n",
    "    npvs['new_units'] = npvs.most_profitable.replace({\n",
    "        'existing': 0,\n",
    "        'sfh': 1,\n",
    "        'duplex': 2,\n",
    "        'threeplex': 3,\n",
    "        'sixplex': 6\n",
    "    })\n",
    "\n",
    "    npvs['destroyed_units'] = 0\n",
    "    # one unit assumed destroyed, except on vacant lots\n",
    "    npvs.loc[~npvs.vacant & (npvs.most_profitable != 'existing'), 'destroyed_units'] = 1\n",
    "\n",
    "    # create table\n",
    "    row = {\n",
    "        'Non-redeveloped parcels': (npvs.most_profitable == 'existing').sum(),\n",
    "        'Non-redeveloped parcels %': '{:.1f}%'.format((npvs.most_profitable == 'existing').mean() * 100),\n",
    "        'Single-family home': npvs.loc[npvs.most_profitable == 'sfh', 'new_units'].sum(),\n",
    "        'Duplex': npvs.loc[npvs.most_profitable == 'duplex', 'new_units'].sum(),\n",
    "        'Threeplex': npvs.loc[npvs.most_profitable == 'threeplex', 'new_units'].sum(),\n",
    "        'Sixplex': npvs.loc[npvs.most_profitable == 'sixplex', 'new_units'].sum(),\n",
    "        'Total': npvs.new_units.sum(),\n",
    "        'Teardowns': npvs.destroyed_units.sum(),\n",
    "        'Marginal units': npvs.new_units.sum() - npvs.destroyed_units.sum()\n",
    "    }\n",
    "    \n",
    "    npvs['marginal_units'] = npvs.new_units - npvs.destroyed_units\n",
    "    by_tract = npvs.groupby('tract').marginal_units.sum()\n",
    "    \n",
    "    return row, by_tract"
   ]
  },
  {
   "cell_type": "code",
   "execution_count": null,
   "id": "cd7cf53d",
   "metadata": {},
   "outputs": [],
   "source": [
    "rows = {}\n",
    "tract_totals = {}\n",
    "\n",
    "for npvf in glob('../data/*_net_present_value.parquet'):\n",
    "    scenario = npvf[8:-26].replace('_hqta', ' (HQTA)').replace('Base', 'Low appreciation')\n",
    "    print(scenario)\n",
    "    rows[scenario], tract_totals[scenario] = calculate_redevelopment(pd.read_parquet(npvf))"
   ]
  },
  {
   "cell_type": "code",
   "execution_count": null,
   "id": "3d385e23",
   "metadata": {},
   "outputs": [],
   "source": [
    "order = [\n",
    "    'Current appreciation',\n",
    "    'Low appreciation',\n",
    "    'Low operating cost (25%)',\n",
    "    'High construction cost',\n",
    "    'Low discount rate',\n",
    "    'Equal discount rate (8% existing and new)'\n",
    "]\n",
    "\n",
    "result_table = pd.DataFrame(rows).transpose().loc[[\n",
    "    *order,\n",
    "    *map('{} (HQTA)'.format, order)\n",
    "]]\n",
    "\n",
    "result_table.to_parquet('../data/profitability_table.parquet')\n",
    "\n",
    "for col in result_table.columns:\n",
    "    if col != 'Non-redeveloped parcels %':\n",
    "        result_table[col] = (result_table[col].astype('int64') / 1000).round().astype('int64').apply('{:,d}'.format)\n",
    "\n",
    "result_table.loc['Total candidate parcels', 'Non-redeveloped parcels %'] = len(base_npvs)\n",
    "result_table"
   ]
  },
  {
   "cell_type": "code",
   "execution_count": null,
   "id": "9956b28f",
   "metadata": {},
   "outputs": [],
   "source": [
    "print(result_table.drop(columns=['Non-redeveloped parcels']).fillna('').to_latex())"
   ]
  },
  {
   "cell_type": "code",
   "execution_count": null,
   "id": "504210bc",
   "metadata": {},
   "outputs": [],
   "source": [
    "# hacky, but just copied manually from the property sales notebook\n",
    "non_hqta_sales = pd.Series({\n",
    "    'Low appreciation': 2,\n",
    "    'Current appreciation': 45,\n",
    "    'Equal discount rate (8%)': 190,\n",
    "    'High construction cost': 0,\n",
    "    'Low discount rate': 36,\n",
    "    'Low operating cost': 644\n",
    "}).sort_values()\n",
    "plt.barh(-np.arange(len(non_hqta_sales)), non_hqta_sales)\n",
    "plt.yticks(-np.arange(len(non_hqta_sales)), non_hqta_sales.index)\n",
    "plt.xlabel('Marginal new units (thousands)')\n",
    "plt.savefig('../../defense/const_sales.pdf', bbox_inches='tight')"
   ]
  },
  {
   "cell_type": "code",
   "execution_count": null,
   "id": "bf3f1149",
   "metadata": {},
   "outputs": [],
   "source": [
    "non_hqta_sales"
   ]
  },
  {
   "cell_type": "markdown",
   "id": "b893415f",
   "metadata": {},
   "source": [
    "## Maps"
   ]
  },
  {
   "cell_type": "code",
   "execution_count": null,
   "id": "c87ea899",
   "metadata": {},
   "outputs": [],
   "source": [
    "tracts = gp.read_postgis(\"SELECT gid, statefp, countyfp, tractce, aland, geog::geometry as geom FROM diss.ca_tracts WHERE countyfp IN ('025', '037', '059', '065', '071', '111')\", 'postgresql://matthewc@localhost/matthewc')"
   ]
  },
  {
   "cell_type": "code",
   "execution_count": null,
   "id": "861a7003",
   "metadata": {},
   "outputs": [],
   "source": [
    "tracts['geoid'] = tracts.statefp.str.cat(tracts.countyfp).str.cat(tracts.tractce)"
   ]
  },
  {
   "cell_type": "markdown",
   "id": "c0b1bb03",
   "metadata": {},
   "source": [
    "### Housing unit counts by tract for normalization"
   ]
  },
  {
   "cell_type": "code",
   "execution_count": null,
   "id": "547ad83a",
   "metadata": {},
   "outputs": [],
   "source": [
    "hu_count = base_npvs.groupby('tract').size()"
   ]
  },
  {
   "cell_type": "code",
   "execution_count": null,
   "id": "22f7a995",
   "metadata": {},
   "outputs": [],
   "source": [
    "hu_count = capi.acs5.state_county_tract(['B25001_001E'], '06', Census.ALL, Census.ALL, year=2017)"
   ]
  },
  {
   "cell_type": "code",
   "execution_count": null,
   "id": "c62697d8",
   "metadata": {},
   "outputs": [],
   "source": [
    "hu_count = pd.DataFrame(hu_count)"
   ]
  },
  {
   "cell_type": "code",
   "execution_count": null,
   "id": "a983a41c",
   "metadata": {},
   "outputs": [],
   "source": [
    "hu_count['geoid'] = hu_count.state.str.cat(hu_count.county).str.cat(hu_count.tract)\n",
    "hu_count = hu_count.set_index('geoid')"
   ]
  },
  {
   "cell_type": "code",
   "execution_count": null,
   "id": "9ef82a15",
   "metadata": {},
   "outputs": [],
   "source": [
    "tracts = tracts.to_crs(epsg=26911).set_index('geoid')"
   ]
  },
  {
   "cell_type": "code",
   "execution_count": null,
   "id": "2dee34c4",
   "metadata": {},
   "outputs": [],
   "source": [
    "# TODO don't we need to refer to the column name here?\n",
    "tracts['hu_count'] = hu_count.B25001_001E.reindex(tracts.index, fill_value=0)"
   ]
  },
  {
   "cell_type": "code",
   "execution_count": null,
   "id": "b3e24b33",
   "metadata": {},
   "outputs": [],
   "source": [
    "hqta = gp.read_postgis('SELECT geog::geometry as geom FROM diss.hqta', 'postgresql://matthewc@localhost/matthewc').to_crs(26911)\n",
    "\n",
    "land = gp.read_file('../../sorting/data/ne_10m_land.shp').to_crs(epsg=26911)\n",
    "\n",
    "roads = pd.concat([gp.read_file(i).to_crs(epsg=26911) for i in glob('../../sorting/data/tl_roads/*.shp')], ignore_index=True)\n",
    "\n",
    "counties = gp.read_file('../../sorting/data/counties/tl_2019_us_county.shp').to_crs(26911)\n",
    "counties = counties[(counties.STATEFP == '06') & counties.NAME.isin(['Los Angeles', 'Ventura', 'Orange', 'Riverside', 'San Bernardino', 'Imperial'])]"
   ]
  },
  {
   "cell_type": "code",
   "execution_count": null,
   "id": "60e0b788",
   "metadata": {},
   "outputs": [],
   "source": [
    "colors = {\n",
    "    (0, 0): ('0', '#f8f8f8'),\n",
    "    (0, 1): ('< 1', '#b2e2e2'),\n",
    "    (1, 5): ('1–5', '#66c2a4'),\n",
    "    (5, 25): ('5–25', '#2ca25f'),\n",
    "    (25, np.inf): ('≥25', '#006d2c')\n",
    "}\n",
    "\n",
    "def color_for_val (val):\n",
    "    if pd.isnull(val):\n",
    "        return '#ffffff'\n",
    "    \n",
    "    for rnge, spec in colors.items():\n",
    "        if rnge[0] == rnge[1] and val == rnge[0]:\n",
    "            return spec[1]\n",
    "        elif val >= rnge[0] and val < rnge[1]:\n",
    "            return spec[1]\n",
    "    else:\n",
    "        raise ValueError(f'Value {val} not in any range!')\n",
    "\n",
    "def map_const (dev_totals, ax=None, draw_map=True, draw_hqta=False, legend=True, inset=True, _inset=False):\n",
    "    if ax is None:\n",
    "        f, ax = plt.subplots(figsize=(10, 10))\n",
    "        \n",
    "    if draw_map:\n",
    "        tract_development = tracts.copy()\n",
    "        tract_development['marginal_units'] = dev_totals.reindex(tract_development.index, fill_value=0)\n",
    "        tract_development['marginal_units_per_sq_km'] = tract_development.marginal_units / tract_development.aland * 1000**2#.hu_count.replace({0: np.nan}) * 100\n",
    "        tract_development.to_crs(epsg=26911).plot(ax=ax, color=tract_development.marginal_units_per_sq_km.apply(color_for_val))\n",
    "        roads.plot(color='#888888', ax=ax, lw=0.25)\n",
    "        counties.plot(edgecolor='#000',  facecolor='none', ax=ax, lw=1)\n",
    "        \n",
    "        if draw_hqta:\n",
    "            hqta.plot(ax=ax, color='#00a3e0', alpha=0.3, lw=1)\n",
    "        \n",
    "        #water.plot(color='#aaaaaa', ax=ax)\n",
    "        if _inset:\n",
    "            ax.set_ylim(3.73e6, 3.79e6)\n",
    "            ax.set_xlim(3.1e5, 4.2e5)\n",
    "        elif draw_hqta:\n",
    "            ax.set_ylim(3.67e6, 3.83e6)\n",
    "            ax.set_xlim(3.45e5, 5.8e5)\n",
    "        else:\n",
    "            ax.set_ylim(3.59e6, 3.98e6)\n",
    "            ax.set_xlim(2.75e5, 7.7e5)\n",
    "\n",
    "        if inset and not _inset:\n",
    "            inset_ax = ax.inset_axes([0.525, 0.6, 0.5, 0.4])\n",
    "            inset_ax.set_xlabel('Central Los Angeles')\n",
    "            map_const(dev_totals, draw_hqta=draw_hqta, ax=inset_ax, legend=False, _inset=True)\n",
    "            \n",
    "    ax.set_xticks([])\n",
    "    ax.set_yticks([])\n",
    "\n",
    "    ax.set_yticks([])\n",
    "    ax.set_xticks([])\n",
    "\n",
    "    ax.set_aspect('equal')\n",
    "\n",
    "    if legend:\n",
    "        patches = [mpatch.Patch(color=c[1]) for c in colors.values()]\n",
    "        labels = [c[0] for c in colors.values()]\n",
    "        \n",
    "        if draw_hqta:\n",
    "            patches.append(mpatch.Patch(color='#00a3e0', alpha=0.3))\n",
    "            labels.append('High-quality transit area')\n",
    "        \n",
    "        ax.legend(\n",
    "            patches,\n",
    "            labels,\n",
    "            loc='lower left' if draw_map else 'center',\n",
    "            title='Marginal new housing units per sq. km.',\n",
    "            framealpha=1,\n",
    "            fontsize='medium' if draw_map else 'large',\n",
    "            title_fontsize='medium' if draw_map else 'large'\n",
    "        )\n",
    "        \n",
    "        if not draw_map:\n",
    "            ax.set_axis_off()\n",
    "\n",
    "    if draw_map:\n",
    "        return tract_development    "
   ]
  },
  {
   "cell_type": "code",
   "execution_count": null,
   "id": "9fa76b41",
   "metadata": {},
   "outputs": [],
   "source": [
    "base_growth = map_const(tract_totals['Current appreciation'])\n",
    "plt.savefig('../../dissertation/fig/construction/unit_growth_current_app.png', dpi=300, bbox_inches='tight')"
   ]
  },
  {
   "cell_type": "code",
   "execution_count": null,
   "id": "3abadcee",
   "metadata": {},
   "outputs": [],
   "source": [
    "base_growth = map_const(tract_totals['Current appreciation (HQTA)'], draw_hqta=True, inset=False)\n",
    "plt.savefig('../../dissertation/fig/construction/unit_growth_current_app_hqta.png', dpi=300, bbox_inches='tight')"
   ]
  },
  {
   "cell_type": "code",
   "execution_count": null,
   "id": "d7e3cc71",
   "metadata": {},
   "outputs": [],
   "source": [
    "base_growth = map_const(tract_totals['Low appreciation'])\n",
    "plt.savefig('../../dissertation/fig/construction/unit_growth_low_app.png', dpi=300, bbox_inches='tight')"
   ]
  },
  {
   "cell_type": "code",
   "execution_count": null,
   "id": "041d8f4e",
   "metadata": {},
   "outputs": [],
   "source": [
    "base_growth = map_const(tract_totals['Low operating cost (25%)'])\n",
    "plt.savefig('../../dissertation/fig/construction/unit_growth_low_opcost.png', dpi=300, bbox_inches='tight')"
   ]
  },
  {
   "cell_type": "code",
   "execution_count": null,
   "id": "1e89b99f",
   "metadata": {},
   "outputs": [],
   "source": [
    "tract_totals.keys()"
   ]
  },
  {
   "cell_type": "code",
   "execution_count": null,
   "id": "9e3ce1d0",
   "metadata": {},
   "outputs": [],
   "source": [
    "# sensitivity test maps\n",
    "f, axs = plt.subplots(3, 2, figsize=(12, 16))\n",
    "axs = axs.reshape(-1)\n",
    "\n",
    "for scenario, ax in zip(['Current appreciation', *sorted([k for k in tract_totals.keys() if not 'HQTA' in k and not 'Current appreciation' in k])], axs[:-1]):\n",
    "    map_const(tract_totals[scenario], ax=ax, inset=False, legend=False)\n",
    "    ax.set_title(scenario)\n",
    "\n",
    "map_const(None, draw_map=False, legend=True, ax=axs[-1]) # draw legend\n",
    "plt.savefig('../../dissertation/fig/construction/unit_growth_sensitivity.png', bbox_inches='tight', dpi=600)"
   ]
  },
  {
   "cell_type": "code",
   "execution_count": null,
   "id": "67e32272",
   "metadata": {},
   "outputs": [],
   "source": [
    "# sensitivity test maps\n",
    "f, axs = plt.subplots(3, 2, figsize=(12, 16))\n",
    "axs = axs.reshape(-1)\n",
    "\n",
    "for scenario, ax in zip(['Current appreciation (HQTA)', *sorted([k for k in tract_totals.keys() if 'HQTA' in k and not 'Current appreciation' in k])], axs[:-1]):\n",
    "    map_const(tract_totals[scenario], ax=ax, draw_hqta=True, inset=False, legend=False)\n",
    "    ax.set_title(scenario)\n",
    "\n",
    "map_const(None, draw_map=False, legend=True, ax=axs[-1], draw_hqta=True) # draw legend\n",
    "plt.savefig('../../dissertation/fig/construction/unit_growth_sensitivity_hqta.png', bbox_inches='tight', dpi=600)"
   ]
  },
  {
   "cell_type": "markdown",
   "id": "36e942a2",
   "metadata": {},
   "source": [
    "## Maps of the sales scenarios"
   ]
  },
  {
   "cell_type": "code",
   "execution_count": null,
   "id": "2acde60b",
   "metadata": {},
   "outputs": [],
   "source": [
    "sales_scenarios = pd.read_parquet('../data/npv_tract_scenarios.parquet').reset_index()\n",
    "\n",
    "sales_scenarios[['geoid', 'sfmf', 'age', 'tenure']] = sales_scenarios['index'].str.split('_', expand=True)\n",
    "\n",
    "marginal_units = sales_scenarios.drop(columns=['index', 'sfmf', 'age', 'tenure']).groupby('geoid').sum()\n",
    "marginal_units.head()"
   ]
  },
  {
   "cell_type": "code",
   "execution_count": null,
   "id": "9e090126",
   "metadata": {},
   "outputs": [],
   "source": [
    "# sales model maps\n",
    "f, axs = plt.subplots(3, 2, figsize=(12, 16))\n",
    "axs = axs.reshape(-1)\n",
    "\n",
    "map_const(marginal_units.npv_current_appreciation, ax=axs[0], draw_hqta=False, inset=False, legend=False)\n",
    "axs[0].set_title('Current appreciation')\n",
    "\n",
    "map_const(marginal_units.npv_current_appreciation_hqta, ax=axs[1], draw_hqta=False, inset=False, legend=False)\n",
    "axs[1].set_title('Current appreciation (HQTA)')\n",
    "\n",
    "map_const(marginal_units.npv_low_opcost, ax=axs[2], draw_hqta=False, inset=False, legend=False)\n",
    "axs[2].set_title('Low operating cost')\n",
    "\n",
    "map_const(marginal_units.npv_low_opcost_hqta, ax=axs[3], draw_hqta=False, inset=False, legend=False)\n",
    "axs[3].set_title('Low operating cost (HQTA)')\n",
    "\n",
    "map_const(marginal_units.npv_base, ax=axs[4], draw_hqta=False, inset=False, legend=False)\n",
    "axs[4].set_title('Low appreciation')\n",
    "\n",
    "# map_const(marginal_units.npv_base_hqta, ax=axs[4], draw_hqta=False, inset=False, legend=False)\n",
    "# axs[4].set_title('Low appreciation (HQTA)')\n",
    "\n",
    "map_const(None, draw_map=False, legend=True, ax=axs[5], draw_hqta=False) # draw legend\n",
    "plt.savefig('../../dissertation/fig/sales/sales_maps.png', bbox_inches='tight', dpi=600)"
   ]
  },
  {
   "cell_type": "code",
   "execution_count": null,
   "id": "b54dbcf5",
   "metadata": {},
   "outputs": [],
   "source": [
    "base_npvs['profitability'] = base_npvs[['sfh', 'duplex', 'threeplex', 'sixplex']].max(axis=1) / base_npvs.existing\n",
    "tract_pft_mean = np.minimum(base_npvs.loc[base_npvs.profitability > 1].groupby('tract').profitability.median(), 3)"
   ]
  },
  {
   "cell_type": "code",
   "execution_count": null,
   "id": "d656147c",
   "metadata": {},
   "outputs": [],
   "source": [
    "tracts['profitability'] = tract_pft_mean.reindex(tracts.index)"
   ]
  },
  {
   "cell_type": "code",
   "execution_count": null,
   "id": "53d44ec8",
   "metadata": {},
   "outputs": [],
   "source": [
    "tracts.plot(column='profitability', legend=True)"
   ]
  },
  {
   "cell_type": "code",
   "execution_count": null,
   "id": "f34a9023",
   "metadata": {},
   "outputs": [],
   "source": []
  }
 ],
 "metadata": {
  "kernelspec": {
   "display_name": "Python 3",
   "language": "python",
   "name": "python3"
  },
  "language_info": {
   "codemirror_mode": {
    "name": "ipython",
    "version": 3
   },
   "file_extension": ".py",
   "mimetype": "text/x-python",
   "name": "python",
   "nbconvert_exporter": "python",
   "pygments_lexer": "ipython3",
   "version": "3.8.5"
  }
 },
 "nbformat": 4,
 "nbformat_minor": 5
}
