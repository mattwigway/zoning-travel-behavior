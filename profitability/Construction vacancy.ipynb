{
 "cells": [
  {
   "cell_type": "markdown",
   "id": "spanish-century",
   "metadata": {},
   "source": [
    "# Construction vacancy\n",
    "\n",
    "How many of the new properties are happening on vacant lots?"
   ]
  },
  {
   "cell_type": "code",
   "execution_count": null,
   "id": "norman-bermuda",
   "metadata": {},
   "outputs": [],
   "source": [
    "import pandas as pd\n",
    "import numpy as np\n",
    "import matplotlib.pyplot as plt"
   ]
  },
  {
   "cell_type": "code",
   "execution_count": null,
   "id": "cloudy-violation",
   "metadata": {},
   "outputs": [],
   "source": [
    "npvs = pd.read_parquet('../data/Current appreciation_net_present_value.parquet')"
   ]
  },
  {
   "cell_type": "code",
   "execution_count": null,
   "id": "other-halloween",
   "metadata": {},
   "outputs": [],
   "source": [
    "most_profitable = npvs.drop(columns='hqta').idxmax(axis=1)"
   ]
  },
  {
   "cell_type": "code",
   "execution_count": null,
   "id": "peaceful-installation",
   "metadata": {},
   "outputs": [],
   "source": [
    "land_use = pd.read_sql(\"SELECT gid, building_propertylandusestndcode FROM diss.gp16\", \"postgresql://matthewc@localhost/matthewc\")"
   ]
  },
  {
   "cell_type": "code",
   "execution_count": null,
   "id": "liable-friday",
   "metadata": {},
   "outputs": [],
   "source": [
    "most_profitable"
   ]
  },
  {
   "cell_type": "code",
   "execution_count": null,
   "id": "secure-cambridge",
   "metadata": {},
   "outputs": [],
   "source": [
    "data = pd.DataFrame({\n",
    "    'most_profitable': most_profitable,\n",
    "    'land_use': land_use.set_index('gid').building_propertylandusestndcode.reindex(most_profitable.index)\n",
    "})"
   ]
  },
  {
   "cell_type": "code",
   "execution_count": null,
   "id": "first-rochester",
   "metadata": {},
   "outputs": [],
   "source": [
    "data.loc[data.most_profitable != 'existing', 'land_use'].value_counts(normalize=True, dropna=False)"
   ]
  },
  {
   "cell_type": "code",
   "execution_count": null,
   "id": "changed-calgary",
   "metadata": {},
   "outputs": [],
   "source": []
  }
 ],
 "metadata": {
  "kernelspec": {
   "display_name": "Python 3",
   "language": "python",
   "name": "python3"
  },
  "language_info": {
   "codemirror_mode": {
    "name": "ipython",
    "version": 3
   },
   "file_extension": ".py",
   "mimetype": "text/x-python",
   "name": "python",
   "nbconvert_exporter": "python",
   "pygments_lexer": "ipython3",
   "version": "3.8.8"
  }
 },
 "nbformat": 4,
 "nbformat_minor": 5
}
