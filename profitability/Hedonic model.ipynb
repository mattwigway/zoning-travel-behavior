{
 "cells": [
  {
   "cell_type": "markdown",
   "metadata": {},
   "source": [
    "# Hedonic model\n",
    "\n",
    "A hedonic model of rents in Los Angeles."
   ]
  },
  {
   "cell_type": "code",
   "execution_count": null,
   "metadata": {},
   "outputs": [],
   "source": [
    "%matplotlib inline\n",
    "%config InlineBackend.figure_format = 'retina'\n",
    "\n",
    "import shapely\n",
    "import pandas as pd\n",
    "import numpy as np\n",
    "import matplotlib.pyplot as plt\n",
    "import statsmodels.api as sm\n",
    "import geopandas as gp\n",
    "from geoalchemy2 import Geography\n",
    "import sqlalchemy as sq"
   ]
  },
  {
   "cell_type": "code",
   "execution_count": null,
   "metadata": {},
   "outputs": [],
   "source": [
    "data = pd.read_sql('''\n",
    "SELECT\n",
    "    serial,\n",
    "    -- they are all the same within a hh, MIN just selects the value\n",
    "    MIN(rentgrs) AS rentgrs,\n",
    "     MIN(bedrooms) AS bedrooms,\n",
    "     MIN(builtyr2) AS builtyr2,\n",
    "     MIN(unitsstr) AS unitsstr,\n",
    "     MIN(puma) AS puma\n",
    "FROM ipums\n",
    "WHERE numprec >= 1\n",
    "AND ownershp = 'Rented'\n",
    "AND rentgrs > 200\n",
    "AND unitsstr NOT IN ('Mobile home or trailer', 'Boat, tent, van, other')\n",
    "GROUP BY serial\n",
    "''', 'sqlite:////Volumes/Pheasant Ridge/IPUMS/scag_sorting_5yr/scag_sorting_5yr.db')"
   ]
  },
  {
   "cell_type": "code",
   "execution_count": null,
   "metadata": {},
   "outputs": [],
   "source": [
    "data['built_2000_or_later'] = data.builtyr2.isin([ '2000-2004 (1999-2002 in the 2000-2002 ACS)', '2006', '2008',\n",
    "       '2009',\n",
    "       '2005 (2005 or later in datasets containing 2005, 2006, or 2007 ACS/PRCS data)',\n",
    "       '2010', '2007', '2011', '2012', '2013', '2014', '2015', '2016',\n",
    "       '2017'])"
   ]
  },
  {
   "cell_type": "code",
   "execution_count": null,
   "metadata": {},
   "outputs": [],
   "source": [
    "data['bedcat'] = data.bedrooms.map({\n",
    "    '1': '1',\n",
    "    '3': '3+',\n",
    "    '2': '2',\n",
    "    '4 (1970-2000, 2000-2007 ACS/PRCS)': '3+',\n",
    "    'No bedrooms': 'Studio',\n",
    "    '5+ (1970-2000, 2000-2007 ACS/PRCS)': '3+',\n",
    "    '10': '3+',\n",
    "    '9': '3+',\n",
    "    '7': '3+'\n",
    "}).astype('category')\n",
    "assert not data.bedcat.isnull().any()"
   ]
  },
  {
   "cell_type": "code",
   "execution_count": null,
   "metadata": {},
   "outputs": [],
   "source": [
    "data.unitsstr.unique()"
   ]
  },
  {
   "cell_type": "code",
   "execution_count": null,
   "metadata": {},
   "outputs": [],
   "source": [
    "data['sfh'] = data.unitsstr.isin(['1-family house, detached', '1-family house, attached'])"
   ]
  },
  {
   "cell_type": "code",
   "execution_count": null,
   "metadata": {},
   "outputs": [],
   "source": [
    "data['lnrentgrs'] = np.log(data.rentgrs)"
   ]
  },
  {
   "cell_type": "code",
   "execution_count": null,
   "metadata": {},
   "outputs": [],
   "source": [
    "est_data = pd.get_dummies(data[['lnrentgrs', 'built_2000_or_later', 'bedcat', 'puma', 'sfh']], columns=['bedcat', 'puma']).drop(columns='bedcat_Studio')"
   ]
  },
  {
   "cell_type": "code",
   "execution_count": null,
   "metadata": {},
   "outputs": [],
   "source": [
    "mod = sm.OLS(est_data.lnrentgrs, est_data.drop(columns=['lnrentgrs']).astype('float64')) # no intercept - treating each puma as intercept\n",
    "fit = mod.fit(cov_type='HC3')\n",
    "fit.summary()"
   ]
  },
  {
   "cell_type": "code",
   "execution_count": null,
   "metadata": {},
   "outputs": [],
   "source": [
    "# used to derive error in estimates\n",
    "# https://www.r-bloggers.com/2013/08/forecasting-from-log-linear-regressions/\n",
    "varnk = sum(fit.resid ** 2) / (fit.nobs - len(fit.params))\n",
    "varnk"
   ]
  },
  {
   "cell_type": "code",
   "execution_count": null,
   "metadata": {},
   "outputs": [],
   "source": [
    "res = pd.DataFrame({'Coefficient': fit.params, 'Std. Err.': fit.bse, 't': fit.tvalues, 'p': fit.pvalues}).loc[[c for c in fit.params.index if not c.startswith('puma')]].round(2)\n",
    "res['Coefficient'] = res.Coefficient.astype('str') + '***'\n",
    "res = res.rename(index={\n",
    "    'built_2000_or_later': 'Built in 2000 or later',\n",
    "    'sfh': 'Single-family home',\n",
    "    'bedcat_1': '1 bedroom',\n",
    "    'bedcat_2': '2 bedroom',\n",
    "    'bedcat_3+': '3 bedroom'\n",
    "})\n",
    "fes = fit.params[[i for i in fit.params.index if i.startswith('puma_')]]\n",
    "res.loc['PUMA fixed effects', 'Coefficient'] = f'{fes.min().round(2)}–{fes.max().round(2)}'\n",
    "res.loc['R-squared', 'Coefficient'] = fit.rsquared.round(2)\n",
    "res.loc['Adj. R-squared', 'Coefficient'] = fit.rsquared_adj.round(2)\n",
    "res.loc['Sample size', 'Coefficient'] = f'{fit.nobs:,.0f}'\n",
    "res.loc['', 'Coefficient'] = 'Standard errors are heteroskedasticity-robust (HC3) \\\\autocite[300]{angrist_mostly_2009}'\n",
    "res = res.fillna('')"
   ]
  },
  {
   "cell_type": "code",
   "execution_count": null,
   "metadata": {},
   "outputs": [],
   "source": [
    "res"
   ]
  },
  {
   "cell_type": "code",
   "execution_count": null,
   "metadata": {},
   "outputs": [],
   "source": [
    "with pd.option_context('display.max_colwidth', None):\n",
    "    print(res.to_latex(escape=False))"
   ]
  },
  {
   "cell_type": "code",
   "execution_count": null,
   "metadata": {},
   "outputs": [],
   "source": [
    "# throwing error - figure this out later\n",
    "#pumas = gp.read_file('/Volumes/Pheasant Ridge/IPUMS/pumas/socal_pumas_projected.shp')"
   ]
  },
  {
   "cell_type": "code",
   "execution_count": null,
   "metadata": {},
   "outputs": [],
   "source": [
    "fedf = pd.DataFrame({'fixed_effect': fes}).reset_index()\n",
    "fedf['puma'] = fedf['index'].str.slice(5)"
   ]
  },
  {
   "cell_type": "code",
   "execution_count": null,
   "metadata": {},
   "outputs": [],
   "source": [
    "#pumas = pumas.merge(fedf, left_on='PUMA', right_on='puma', validate='m:1', how='inner')"
   ]
  },
  {
   "cell_type": "code",
   "execution_count": null,
   "metadata": {},
   "outputs": [],
   "source": [
    "#pumas.plot(column='fixed_effect', legend=True)"
   ]
  },
  {
   "cell_type": "code",
   "execution_count": null,
   "metadata": {},
   "outputs": [],
   "source": [
    "#pumas.to_file('../data/fixed_effects.shp')"
   ]
  },
  {
   "cell_type": "code",
   "execution_count": null,
   "metadata": {},
   "outputs": [],
   "source": [
    "DB_URI = 'postgresql://matthewc@localhost:5432/matthewc'\n",
    "engine = sq.create_engine(DB_URI)"
   ]
  },
  {
   "cell_type": "markdown",
   "metadata": {},
   "source": [
    "### Prediction"
   ]
  },
  {
   "cell_type": "code",
   "execution_count": null,
   "metadata": {},
   "outputs": [],
   "source": [
    "new_pred_data = pd.read_sql('''\n",
    "SELECT b.gid, prototype, p.puma FROM diss.building_costs b\n",
    "    LEFT JOIN diss.gp16 p\n",
    "    ON (p.gid = b.gid);\n",
    "''', DB_URI)"
   ]
  },
  {
   "cell_type": "code",
   "execution_count": null,
   "metadata": {},
   "outputs": [],
   "source": [
    "specifications = {\n",
    "    'sfh': pd.DataFrame({\n",
    "        'built_2000_or_later': [True],\n",
    "        'sfh': [True],\n",
    "        'bedcat': ['3+']\n",
    "    }),\n",
    "    'duplex': pd.DataFrame({\n",
    "        'built_2000_or_later': [True, True],\n",
    "        'sfh': [False, False],\n",
    "        'bedcat': ['2', '2']\n",
    "    }),\n",
    "    'threeplex': pd.DataFrame({\n",
    "        'built_2000_or_later': [True, True, True],\n",
    "        'sfh': [False, False, False],\n",
    "        'bedcat': ['1', '2', '2']\n",
    "    }),\n",
    "    'sixplex': pd.DataFrame({\n",
    "        'built_2000_or_later': [True, True, True, True, True, True],\n",
    "        'sfh': [False, False, False, False, False, False],\n",
    "        'bedcat': ['3+', '2', '2', '2', '1', '1']\n",
    "    })\n",
    "}"
   ]
  },
  {
   "cell_type": "code",
   "execution_count": null,
   "metadata": {},
   "outputs": [],
   "source": [
    "non_location_rents = {\n",
    "    k: ((d := pd.get_dummies(v, columns=['bedcat'])) * fit.params[d.columns]).apply(np.sum, 1)\n",
    "    for k, v in specifications.items()\n",
    "}\n",
    "non_location_rents = pd.DataFrame(pd.concat(non_location_rents.values(), keys=non_location_rents.keys())).reset_index().rename(columns={'level_0': 'prototype', 'level_1': 'unit', 0: 'non_location_rent'})\n",
    "non_location_rents"
   ]
  },
  {
   "cell_type": "code",
   "execution_count": null,
   "metadata": {},
   "outputs": [],
   "source": [
    "non_location_rents['tr'] = True"
   ]
  },
  {
   "cell_type": "code",
   "execution_count": null,
   "metadata": {},
   "outputs": [],
   "source": [
    "fedf['tr'] = True"
   ]
  },
  {
   "cell_type": "code",
   "execution_count": null,
   "metadata": {},
   "outputs": [],
   "source": [
    "puma_unit_rents = non_location_rents.merge(fedf, on='tr', how='left')"
   ]
  },
  {
   "cell_type": "code",
   "execution_count": null,
   "metadata": {},
   "outputs": [],
   "source": [
    "# varnk/2 is correction factor for lognormally distributed error term\n",
    "# https://www.r-bloggers.com/2013/08/forecasting-from-log-linear-regressions/\n",
    "puma_unit_rents['rent'] = np.exp(puma_unit_rents.non_location_rent + puma_unit_rents.fixed_effect + varnk / 2)\n",
    "puma_prototype_rents = pd.DataFrame(puma_unit_rents.groupby(['prototype', 'puma']).rent.sum().rename('total_rent')).reset_index()\n",
    "puma_prototype_rents"
   ]
  },
  {
   "cell_type": "code",
   "execution_count": null,
   "metadata": {},
   "outputs": [],
   "source": [
    "puma_prototype_rents.to_sql('puma_prototype_rents', DB_URI, schema='diss')"
   ]
  },
  {
   "cell_type": "code",
   "execution_count": null,
   "metadata": {},
   "outputs": [],
   "source": [
    "with engine.connect() as con:\n",
    "    con.execute('''\n",
    "        ALTER TABLE diss.building_costs ADD COLUMN total_rent DOUBLE PRECISION;\n",
    "        UPDATE diss.building_costs b SET total_rent = r.total_rent\n",
    "                FROM diss.puma_prototype_rents r\n",
    "                WHERE b.puma = r.puma AND b.prototype = r.prototype;\n",
    "    ''')"
   ]
  },
  {
   "cell_type": "markdown",
   "metadata": {},
   "source": [
    "## Rents for existing buildings"
   ]
  },
  {
   "cell_type": "code",
   "execution_count": null,
   "metadata": {},
   "outputs": [],
   "source": [
    "fedf[['puma', 'fixed_effect']].to_sql('puma_fixed_effects', DB_URI, schema='diss')"
   ]
  },
  {
   "cell_type": "code",
   "execution_count": null,
   "metadata": {},
   "outputs": [],
   "source": [
    "with engine.connect() as con:\n",
    "    con.execute(sq.text('ALTER TABLE diss.gp16 ADD COLUMN total_rent double precision;'))\n",
    "    con.execute(sq.text('''    \n",
    "    UPDATE diss.gp16 a SET total_rent = EXP(\n",
    "        f.fixed_effect\n",
    "        + CASE WHEN Building_YearBuilt >= 2000 THEN :built_2000_or_later ELSE 0 END\n",
    "        + :sfh\n",
    "        + CASE\n",
    "            WHEN Building_TotalBedrooms = 1 THEN :bedcat_1\n",
    "            WHEN Building_TotalBedrooms = 2 THEN :bedcat_2\n",
    "            WHEN Building_TotalBedrooms >= 3 then :bedcat_3plus\n",
    "            ELSE 0\n",
    "        END\n",
    "        + :correction_factor\n",
    "    )\n",
    "    FROM diss.puma_fixed_effects f\n",
    "    WHERE a.building_propertylandusestndcode = 'RR101'\n",
    "        AND f.PUMA = a.puma;\n",
    "    '''), **fit.params.rename(index={'bedcat_3+': 'bedcat_3plus'}).to_dict(), correction_factor=varnk/2)"
   ]
  },
  {
   "cell_type": "code",
   "execution_count": null,
   "metadata": {},
   "outputs": [],
   "source": []
  }
 ],
 "metadata": {
  "kernelspec": {
   "display_name": "Python 3",
   "language": "python",
   "name": "python3"
  },
  "language_info": {
   "codemirror_mode": {
    "name": "ipython",
    "version": 3
   },
   "file_extension": ".py",
   "mimetype": "text/x-python",
   "name": "python",
   "nbconvert_exporter": "python",
   "pygments_lexer": "ipython3",
   "version": "3.8.8"
  }
 },
 "nbformat": 4,
 "nbformat_minor": 4
}
