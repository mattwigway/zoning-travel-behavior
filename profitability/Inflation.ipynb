{
 "cells": [
  {
   "cell_type": "markdown",
   "id": "french-input",
   "metadata": {},
   "source": [
    "# Year-over-year inflation\n",
    "\n",
    "Compute the inflation rates for each year from the Zillow home value index, and average them to get an expected per-year inflation."
   ]
  },
  {
   "cell_type": "code",
   "execution_count": null,
   "id": "objective-dress",
   "metadata": {},
   "outputs": [],
   "source": [
    "%matplotlib inline\n",
    "%config InlineBackend.figure_format = 'retina'\n",
    "\n",
    "import pandas as pd\n",
    "import numpy as np\n",
    "import matplotlib.pyplot as plt\n",
    "import scipy.stats"
   ]
  },
  {
   "cell_type": "code",
   "execution_count": null,
   "id": "incredible-warning",
   "metadata": {},
   "outputs": [],
   "source": [
    "zhvi = pd.read_csv('../data/Metro_zhvi_uc_sfr_tier_0.33_0.67_sm_sa_mon.csv')\n",
    "zhvi_la = (\n",
    "    zhvi.loc[zhvi.RegionName == 'Los Angeles-Long Beach-Anaheim, CA', [i for i in zhvi.columns if i.startswith('20')]]\n",
    "        .iloc[0]\n",
    "        .transpose()\n",
    "        .rename('zhvi')\n",
    "        .reset_index()\n",
    ")\n",
    "zhvi_la['date'] = pd.to_datetime(zhvi_la['index'])\n",
    "del zhvi_la['index']\n",
    "zhvi_la.head()"
   ]
  },
  {
   "cell_type": "code",
   "execution_count": null,
   "id": "fewer-temple",
   "metadata": {},
   "outputs": [],
   "source": [
    "# get only December records for YoY inflation\n",
    "zhvi_la = zhvi_la[zhvi_la.date.dt.month == 12].copy().sort_values('date')"
   ]
  },
  {
   "cell_type": "code",
   "execution_count": null,
   "id": "laughing-nirvana",
   "metadata": {},
   "outputs": [],
   "source": [
    "zhvi_la"
   ]
  },
  {
   "cell_type": "code",
   "execution_count": null,
   "id": "useful-programmer",
   "metadata": {},
   "outputs": [],
   "source": [
    "zhvi_la['appreciation'] = zhvi_la.zhvi / zhvi_la.shift(1).zhvi"
   ]
  },
  {
   "cell_type": "code",
   "execution_count": null,
   "id": "fluid-subscriber",
   "metadata": {},
   "outputs": [],
   "source": [
    "zhvi_la.appreciation"
   ]
  },
  {
   "cell_type": "code",
   "execution_count": null,
   "id": "patient-allergy",
   "metadata": {},
   "outputs": [],
   "source": [
    "zhvi_la = zhvi_la.dropna(subset=['appreciation'])"
   ]
  },
  {
   "cell_type": "code",
   "execution_count": null,
   "id": "literary-parallel",
   "metadata": {},
   "outputs": [],
   "source": [
    "inflation_rate = zhvi_la.loc[(zhvi_la.date.dt.year >= 2010) & (zhvi_la.date.dt.year <= 2019), 'appreciation'].mean()  # TODO should this be geometric mean?\n",
    "print(f'Prices for single-family homes in Los Angeles have appreciated {inflation_rate} times per year since 2010 in raw dollars')"
   ]
  },
  {
   "cell_type": "code",
   "execution_count": null,
   "id": "turkish-bible",
   "metadata": {},
   "outputs": [],
   "source": [
    "scipy.stats.mstats.gmean(zhvi_la.loc[zhvi_la.date.dt.year >= 2010, 'appreciation'])  # TODO should this be geometric mean?\n"
   ]
  },
  {
   "cell_type": "code",
   "execution_count": null,
   "id": "durable-product",
   "metadata": {},
   "outputs": [],
   "source": [
    "appreciation_net_of_inflation = inflation_rate / 1.014\n",
    "print(f'Prices for single-family homes in Los Angeles have appreciated {appreciation_net_of_inflation} times per year on average since 2010 in constant dollars')"
   ]
  },
  {
   "cell_type": "code",
   "execution_count": null,
   "id": "victorian-state",
   "metadata": {},
   "outputs": [],
   "source": []
  }
 ],
 "metadata": {
  "kernelspec": {
   "display_name": "Python 3",
   "language": "python",
   "name": "python3"
  },
  "language_info": {
   "codemirror_mode": {
    "name": "ipython",
    "version": 3
   },
   "file_extension": ".py",
   "mimetype": "text/x-python",
   "name": "python",
   "nbconvert_exporter": "python",
   "pygments_lexer": "ipython3",
   "version": "3.8.5"
  }
 },
 "nbformat": 4,
 "nbformat_minor": 5
}
