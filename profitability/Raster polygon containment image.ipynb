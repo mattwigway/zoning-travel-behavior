{
 "cells": [
  {
   "cell_type": "markdown",
   "metadata": {},
   "source": [
    "# Raster polygon containment figure"
   ]
  },
  {
   "cell_type": "code",
   "execution_count": null,
   "metadata": {},
   "outputs": [],
   "source": [
    "%matplotlib inline\n",
    "%config InlineBackend.figure_format = 'retina'\n",
    "\n",
    "import pandas as pd\n",
    "import numpy as np\n",
    "import matplotlib.pyplot as plt\n",
    "import matplotlib.transforms\n",
    "import matplotlib.colors\n",
    "import rasterio.features\n",
    "import rasterio.transform\n",
    "import shapely.affinity\n",
    "import math\n",
    "import geopandas as gp\n"
   ]
  },
  {
   "cell_type": "code",
   "execution_count": null,
   "metadata": {},
   "outputs": [],
   "source": [
    "plt.style.use('asu-light')"
   ]
  },
  {
   "cell_type": "code",
   "execution_count": null,
   "metadata": {},
   "outputs": [],
   "source": [
    "parcel = gp.read_postgis('SELECT gid, apn, ST_Transform(geog::geometry, 26911) as geom FROM diss.buildable_areas WHERE apn = \\'433231018\\'', 'postgres://matthewc@localhost:5432/matthewc').geometry.iloc[0]"
   ]
  },
  {
   "cell_type": "code",
   "execution_count": null,
   "metadata": {},
   "outputs": [],
   "source": [
    "parcel"
   ]
  },
  {
   "cell_type": "code",
   "execution_count": null,
   "metadata": {},
   "outputs": [],
   "source": [
    "parcel = shapely.affinity.rotate(parcel, 30) # fit both ways in figure"
   ]
  },
  {
   "cell_type": "code",
   "execution_count": null,
   "metadata": {},
   "outputs": [],
   "source": [
    "def rasterize (geom, scalar = 1):\n",
    "    w, s, e, n = rasterio.features.bounds(geom)\n",
    "    # force width/height to exact meters so pixels are whole meters\n",
    "    e = w + math.ceil(e - w)\n",
    "    n = s + math.ceil(n - s)\n",
    "    width = int(round(e - w)) * scalar\n",
    "    height = int(round(n - s)) * scalar\n",
    "\n",
    "    if width == 0 or height == 0:\n",
    "        return np.array([False for d in dims])\n",
    "\n",
    "    xform = rasterio.transform.from_bounds(w, s, e, n, width, height)\n",
    "    return rasterio.features.geometry_mask(geom, (height, width), xform, invert=True), xform"
   ]
  },
  {
   "cell_type": "code",
   "execution_count": null,
   "metadata": {},
   "outputs": [],
   "source": [
    "def fit_pixel (mask, width, height):\n",
    "    '''\n",
    "    This function checks whether a rectangle of width x height can fit inside the rasterized polygon described by\n",
    "    mask.\n",
    "    '''\n",
    "    for x in range(mask.shape[0]):\n",
    "        for y in range(mask.shape[1]):\n",
    "            if mask[x, y]:\n",
    "                if ((x + width) < mask.shape[0] and (y + height) < mask.shape[1]\n",
    "                        and np.all(mask[x:x + width, y:y + height])):\n",
    "                    return x, y\n",
    "    return -1, -1"
   ]
  },
  {
   "cell_type": "code",
   "execution_count": null,
   "metadata": {},
   "outputs": [],
   "source": [
    "cmap = matplotlib.colors.ListedColormap(np.array([[1, 1, 1], [140 / 255, 29 / 255, 64 / 255]]))\n",
    "graycmap = matplotlib.colors.ListedColormap(np.array([[1, 1, 1], [0.5, 0.5, 0.5]]))\n",
    "overcmap = matplotlib.colors.ListedColormap(np.array([[1, 1, 1, 0], [1, 198 / 255, 39 / 255, 1]]))\n",
    "\n",
    "f, axs = plt.subplots(6, 3, figsize=(10, 10), frameon=False)\n",
    "\n",
    "alpha = 'abcdefghijklmnopqrstuvwxyzαβγδεζηθλμ'\n",
    "\n",
    "for dim, dim_label, col in (\n",
    "        ((12, 10), 'SFH/duplex', 1),\n",
    "        ((16, 11), 'Threeplex', 3),\n",
    "        ((21, 10), 'Sixplex', 5)\n",
    "    ):\n",
    "    for isrot in [False, True]:\n",
    "        if isrot:\n",
    "            col += 1\n",
    "        for row, rot in enumerate(range(0, 90, 15), 1):\n",
    "            ix = (row - 1) * 6 + col\n",
    "            plt.subplot(6, 6, ix, frameon=False)\n",
    "\n",
    "            if row == 1:\n",
    "                plt.title(f'{dim_label}\\nBuilding rotation\\n{90 if isrot else 0} degrees')\n",
    "            if col == 1:\n",
    "                plt.ylabel(f'Parcel rotation\\n{rot} degrees')\n",
    "\n",
    "            plt.xlabel(f'({alpha[ix - 1]})')\n",
    "\n",
    "            g = shapely.affinity.rotate(parcel, rot, use_radians=False)\n",
    "            mask, xform = rasterize(g)\n",
    "\n",
    "            # find a pixel where the building fits\n",
    "            if isrot:\n",
    "                x, y = fit_pixel(mask, *(dim[::-1]))\n",
    "            else:\n",
    "                x, y = fit_pixel(mask, *dim)\n",
    "            overlay = np.zeros_like(mask)\n",
    "            if x != -1:\n",
    "                plt.imshow(mask, cmap=cmap, interpolation='nearest')\n",
    "                if isrot:\n",
    "                    overlay[x:x + dim[1], y:y + dim[0]] = True\n",
    "                else:\n",
    "                    overlay[x:x + dim[0], y:y + dim[1]] = True\n",
    "                fit = True\n",
    "            else:\n",
    "                fit = False\n",
    "                plt.imshow(mask, cmap=graycmap, interpolation='nearest')\n",
    "\n",
    "            plt.imshow(overlay, cmap=overcmap, interpolation='nearest')\n",
    "            plt.xlim(0, 30)\n",
    "            plt.ylim(0, 30)\n",
    "            plt.xticks([])\n",
    "            plt.yticks([])\n",
    "    \n",
    "plt.savefig('../../dissertation/fig/construction/polyinpoly.pdf', bbox_inches='tight')"
   ]
  },
  {
   "cell_type": "code",
   "execution_count": null,
   "metadata": {},
   "outputs": [],
   "source": [
    "rnge = range(0, 360, 15)\n",
    "dim = (100, 120)\n",
    "for ix, rot in enumerate(rnge, 1):\n",
    "    plt.subplot(4, len(rnge) // 4, ix, frameon=False)\n",
    "\n",
    "    g = shapely.affinity.rotate(parcel, rot, use_radians=False)\n",
    "    mask, xform = rasterize(g, scalar=10)\n",
    "    \n",
    "    # to avoid confusion, rotate axes so the building appears to be rotating instead of the parcel\n",
    "    base = plt.gca().transData\n",
    "    affine = matplotlib.transforms.Affine2D().rotate_deg_around(150, 150, rot)\n",
    "\n",
    "    # find a pixel where the building fits\n",
    "    x, y = fit_pixel(mask, *dim)\n",
    "    overlay = np.zeros_like(mask)\n",
    "    if x != -1:\n",
    "        plt.imshow(mask, cmap=cmap, interpolation='nearest', transform=affine + base)\n",
    "        overlay[x:x + dim[0], y:y + dim[1]] = True\n",
    "        fit = True\n",
    "    else:\n",
    "        fit = False\n",
    "        plt.imshow(mask, cmap=graycmap, interpolation='nearest')\n",
    "\n",
    "    plt.imshow(overlay, cmap=overcmap, interpolation='nearest', transform=affine + base)\n",
    "    plt.xlim([-25, 325])\n",
    "    plt.ylim([-25, 325])\n",
    "    plt.xticks([])\n",
    "    plt.yticks([])\n",
    "\n",
    "plt.savefig('../../defense/rotation.pdf', bbox_inches='tight')"
   ]
  },
  {
   "cell_type": "code",
   "execution_count": null,
   "metadata": {},
   "outputs": [],
   "source": [
    "mask.shape"
   ]
  },
  {
   "cell_type": "code",
   "execution_count": null,
   "metadata": {},
   "outputs": [],
   "source": []
  }
 ],
 "metadata": {
  "kernelspec": {
   "display_name": "Python 3",
   "language": "python",
   "name": "python3"
  },
  "language_info": {
   "codemirror_mode": {
    "name": "ipython",
    "version": 3
   },
   "file_extension": ".py",
   "mimetype": "text/x-python",
   "name": "python",
   "nbconvert_exporter": "python",
   "pygments_lexer": "ipython3",
   "version": "3.8.8"
  }
 },
 "nbformat": 4,
 "nbformat_minor": 4
}
