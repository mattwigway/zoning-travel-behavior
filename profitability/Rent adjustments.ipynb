{
 "cells": [
  {
   "cell_type": "code",
   "execution_count": null,
   "metadata": {},
   "outputs": [],
   "source": [
    "%matplotlib inline\n",
    "%config InlineBackend.figure_format = 'retina'\n",
    "\n",
    "import pandas as pd\n",
    "import numpy as np\n",
    "from warnings import warn"
   ]
  },
  {
   "cell_type": "code",
   "execution_count": null,
   "metadata": {},
   "outputs": [],
   "source": [
    "def weighted_percentile (vals, percentiles, weights):\n",
    "    if len(vals) != len(weights):\n",
    "        raise ArgumentError('values and weights arrays are not same length!')\n",
    "\n",
    "    nas = pd.isnull(vals) | pd.isnull(weights)\n",
    "\n",
    "    nnas = np.sum(nas)\n",
    "    if nnas > 0:\n",
    "        warn(f'found {nnas} NAs in data, dropping them')\n",
    "\n",
    "    vals = vals[~nas]\n",
    "    weights = weights[~nas]\n",
    "\n",
    "    weights = weights / np.sum(weights)\n",
    "    sortIdx = np.argsort(vals)\n",
    "    vals = vals.iloc[sortIdx]\n",
    "    weights = weights.iloc[sortIdx]\n",
    "\n",
    "    cumWeights = np.cumsum(weights)\n",
    "    if not isinstance(percentiles, np.ndarray):\n",
    "        percentiles = np.array(percentiles)\n",
    "    percentiles = percentiles / 100\n",
    "\n",
    "    # center weights, i.e. put the point value halfway through the weight\n",
    "    # https://github.com/nudomarinero/wquantiles/blob/master/wquantiles.py\n",
    "    centeredCumWeights = cumWeights - 0.5 * weights\n",
    "    return np.interp(percentiles, centeredCumWeights, vals)"
   ]
  },
  {
   "cell_type": "code",
   "execution_count": null,
   "metadata": {},
   "outputs": [],
   "source": [
    "ipums_rents = pd.read_sql(\"\"\"\n",
    "SELECT serial, MIN(hhwt) AS hhwt, MIN(rentgrs) AS rentgrs FROM ipums\n",
    "WHERE met2013 = 'Los Angeles-Long Beach-Anaheim, CA'\n",
    "AND numprec >= 1\n",
    "AND ownershp = 'Rented'\n",
    "AND rentgrs > 200\n",
    "AND unitsstr NOT IN ('Mobile home or trailer', 'Boat, tent, van, other')\n",
    "GROUP BY serial\n",
    "\"\"\", 'sqlite:////Volumes/Pheasant Ridge/IPUMS/scag_sorting_5yr/scag_sorting_5yr.db')"
   ]
  },
  {
   "cell_type": "code",
   "execution_count": null,
   "metadata": {},
   "outputs": [],
   "source": [
    "# compute rent like in ZORI - mean of middle quintile\n",
    "low = weighted_percentile(ipums_rents.rentgrs, 40, ipums_rents.hhwt)\n",
    "high = weighted_percentile(ipums_rents.rentgrs, 60, ipums_rents.hhwt)\n",
    "mid_quintile = ipums_rents[(ipums_rents.rentgrs >= low) & (ipums_rents.rentgrs <= high)]\n",
    "mean_rent = np.average(mid_quintile.rentgrs, weights=mid_quintile.hhwt)\n",
    "print(f'{low=} {high=} {mean_rent=}')"
   ]
  },
  {
   "cell_type": "code",
   "execution_count": null,
   "metadata": {},
   "outputs": [],
   "source": [
    "# the Zillow-estimated rent in the LA Metro area throughout 2020 is 2545 +/- 1. Figure out a scale factor to make rents comparable to Zillow.\n",
    "scale_factor = 2545 / mean_rent\n",
    "print(f'{scale_factor=}')"
   ]
  },
  {
   "cell_type": "code",
   "execution_count": null,
   "metadata": {},
   "outputs": [],
   "source": [
    "weighted_percentile(ipums_rents.rentgrs, 50, ipums_rents.hhwt)"
   ]
  },
  {
   "cell_type": "code",
   "execution_count": null,
   "metadata": {},
   "outputs": [],
   "source": []
  }
 ],
 "metadata": {
  "kernelspec": {
   "display_name": "Python 3",
   "language": "python",
   "name": "python3"
  },
  "language_info": {
   "codemirror_mode": {
    "name": "ipython",
    "version": 3
   },
   "file_extension": ".py",
   "mimetype": "text/x-python",
   "name": "python",
   "nbconvert_exporter": "python",
   "pygments_lexer": "ipython3",
   "version": "3.8.5"
  }
 },
 "nbformat": 4,
 "nbformat_minor": 4
}
