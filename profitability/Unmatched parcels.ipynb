{
 "cells": [
  {
   "cell_type": "markdown",
   "metadata": {},
   "source": [
    "# Unmatched parcels\n",
    "\n",
    "A significant number of parcels did not match between the ZTRAX and the GP16 data, possibly due to parcel splits. Make a table documenting this, and spot check them to figure out reasons."
   ]
  },
  {
   "cell_type": "code",
   "execution_count": null,
   "metadata": {},
   "outputs": [],
   "source": [
    "%matplotlib inline\n",
    "%config InlineBackend.figure_format = 'retina'\n",
    "\n",
    "import pandas as pd\n",
    "import numpy as np\n",
    "import geopandas as gp\n",
    "import matplotlib.pyplot as plt\n",
    "\n",
    "DB_URI = 'postgresql://matthewc@localhost/matthewc'"
   ]
  },
  {
   "cell_type": "code",
   "execution_count": null,
   "metadata": {},
   "outputs": [],
   "source": [
    "county_counts = pd.read_sql('''\n",
    "SELECT \"Main_County\", count(puma) AS nonnull_puma, count(*) AS total\n",
    "    FROM diss.zasmt\n",
    "    WHERE \"Building_PropertyLandUseStndCode\" IN ('RR101', 'RR999', 'VL101') -- RR are SFH, VL101 is residential vacant\n",
    "    GROUP BY \"Main_County\";\n",
    "''', DB_URI)"
   ]
  },
  {
   "cell_type": "code",
   "execution_count": null,
   "metadata": {},
   "outputs": [],
   "source": [
    "county_counts = county_counts.append({\n",
    "    'Main_County': 'Total',\n",
    "    'nonnull_puma': county_counts.nonnull_puma.sum(),\n",
    "    'total': county_counts.total.sum()\n",
    "}, ignore_index=True)"
   ]
  },
  {
   "cell_type": "code",
   "execution_count": null,
   "metadata": {},
   "outputs": [],
   "source": [
    "county_counts['null_puma'] = county_counts.total - county_counts.nonnull_puma"
   ]
  },
  {
   "cell_type": "code",
   "execution_count": null,
   "metadata": {},
   "outputs": [],
   "source": [
    "county_counts['percent_null'] = (county_counts.null_puma / county_counts.total * 100).round(1).astype('str') + '%'"
   ]
  },
  {
   "cell_type": "code",
   "execution_count": null,
   "metadata": {},
   "outputs": [],
   "source": [
    "county_counts['Main_County'] = county_counts.Main_County.str.title()"
   ]
  },
  {
   "cell_type": "code",
   "execution_count": null,
   "metadata": {},
   "outputs": [],
   "source": [
    "county_counts"
   ]
  },
  {
   "cell_type": "code",
   "execution_count": null,
   "metadata": {},
   "outputs": [],
   "source": [
    "res = county_counts[['Main_County', 'total', 'null_puma', 'percent_null']].copy()\n",
    "res['total'] = res.total.apply(lambda f: f'{f:,d}')\n",
    "res['null_puma'] = res.null_puma.apply(lambda f: f'{f:,d}')\n",
    "res = res.rename(columns={\n",
    "    'Main_County': 'County',\n",
    "    'total': 'Total single-family parcels',\n",
    "    'null_puma': 'Unmatched single-family parcels',\n",
    "    'percent_null': 'Percent unmatched'\n",
    "})\n",
    "\n",
    "res"
   ]
  },
  {
   "cell_type": "code",
   "execution_count": null,
   "metadata": {},
   "outputs": [],
   "source": [
    "print(res.to_latex(index=False))"
   ]
  },
  {
   "cell_type": "code",
   "execution_count": null,
   "metadata": {},
   "outputs": [],
   "source": []
  },
  {
   "cell_type": "code",
   "execution_count": null,
   "metadata": {},
   "outputs": [],
   "source": []
  }
 ],
 "metadata": {
  "kernelspec": {
   "display_name": "Python 3",
   "language": "python",
   "name": "python3"
  },
  "language_info": {
   "codemirror_mode": {
    "name": "ipython",
    "version": 3
   },
   "file_extension": ".py",
   "mimetype": "text/x-python",
   "name": "python",
   "nbconvert_exporter": "python",
   "pygments_lexer": "ipython3",
   "version": "3.8.5"
  }
 },
 "nbformat": 4,
 "nbformat_minor": 4
}
