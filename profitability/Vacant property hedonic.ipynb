{
 "cells": [
  {
   "cell_type": "markdown",
   "metadata": {},
   "source": [
    "# Vacant property hedonic\n",
    "\n",
    "How much is vacant property worth?"
   ]
  },
  {
   "cell_type": "code",
   "execution_count": null,
   "metadata": {},
   "outputs": [],
   "source": [
    "%matplotlib inline\n",
    "%config InlineBackend.figure_format = 'retina'\n",
    "\n",
    "import pandas as pd\n",
    "import numpy as np\n",
    "import statsmodels.api as sm\n",
    "import matplotlib.pyplot as plt\n",
    "import geopandas as gp\n",
    "import libpysal.weights\n",
    "import sqlalchemy as sq\n",
    "from glob import glob"
   ]
  },
  {
   "cell_type": "code",
   "execution_count": null,
   "metadata": {},
   "outputs": [],
   "source": [
    "DB_URI = 'postgresql://matthewc@localhost/matthewc'"
   ]
  },
  {
   "cell_type": "code",
   "execution_count": null,
   "metadata": {},
   "outputs": [],
   "source": [
    "data = pd.read_sql('''\n",
    "SELECT \"Main_ImportParcelID\", \"Main_SalesPriceAmount\", \"Main_RecordingDate\",\n",
    "    \"Main_SalesPriceAmountStndCode\", \"Main_PropertyUseStndCode\", \"Main_IntraFamilyTransferFlag\",\n",
    "    a.\"Main_LotSizeSquareFeet\", p.scag_zn_co, p.puma, ST_Area(p.geog) AS computed_area_sqm\n",
    "FROM diss.ztrans t\n",
    "    INNER JOIN diss.zasmt a ON (a.\"Main_ImportParcelID\" = t.\"PropertyInfo_ImportParcelID\")\n",
    "    INNER JOIN diss.gp16 p ON (lower(p.county) = lower(a.\"Main_County\") AND p.clean_apn = a.clean_apn)\n",
    "    WHERE a.\"Building_PropertyLandUseStndCode\" = 'VL101'  -- TODO should probably use lu16 here\n",
    "        AND \"Main_SalesPriceAmount\" > 0\n",
    "        AND \"Main_IntraFamilyTransferFlag\" IS NULL\n",
    "        AND \"Main_SalesPriceAmountStndCode\" <> 'NA' -- non-arms-length transaction\n",
    "        AND scag_zn_co IN ('1110', '1111', '1112', '1113', '1114', '1115', '1116', '1117', '1118', '1119', -- single-family\n",
    "        '1150'); -- rural residential\n",
    "''', DB_URI)"
   ]
  },
  {
   "cell_type": "code",
   "execution_count": null,
   "metadata": {},
   "outputs": [],
   "source": [
    "len(data)"
   ]
  },
  {
   "cell_type": "code",
   "execution_count": null,
   "metadata": {},
   "outputs": [],
   "source": [
    "data['lot_size_sqm'] = (data.Main_LotSizeSquareFeet / 10.7639).fillna(data.computed_area_sqm)"
   ]
  },
  {
   "cell_type": "code",
   "execution_count": null,
   "metadata": {},
   "outputs": [],
   "source": [
    "data['Main_RecordingDate'] = pd.to_datetime(data.Main_RecordingDate, format='%Y-%m-%d')"
   ]
  },
  {
   "cell_type": "code",
   "execution_count": null,
   "metadata": {},
   "outputs": [],
   "source": [
    "data = data[data.Main_RecordingDate.dt.year >= 2008]"
   ]
  },
  {
   "cell_type": "code",
   "execution_count": null,
   "metadata": {},
   "outputs": [],
   "source": [
    "data.Main_SalesPriceAmount.describe().round()"
   ]
  },
  {
   "cell_type": "markdown",
   "metadata": {},
   "source": [
    "# Merge PUMAs with few observations\n",
    "\n",
    "To avoid large condition numbers."
   ]
  },
  {
   "cell_type": "code",
   "execution_count": null,
   "metadata": {},
   "outputs": [],
   "source": [
    "pumas = gp.read_file('/Volumes/Pheasant Ridge/IPUMS/pumas/socal_pumas_projected.shp').dissolve('PUMA')"
   ]
  },
  {
   "cell_type": "code",
   "execution_count": null,
   "metadata": {},
   "outputs": [],
   "source": [
    "puma_vcs = data.puma.value_counts()"
   ]
  },
  {
   "cell_type": "code",
   "execution_count": null,
   "metadata": {},
   "outputs": [],
   "source": [
    "queen_weights = libpysal.weights.Queen(pumas.geometry, ids=pumas.index.to_list()).to_adjlist().set_index('focal')"
   ]
  },
  {
   "cell_type": "code",
   "execution_count": null,
   "metadata": {},
   "outputs": [],
   "source": [
    "pumas_to_merge = puma_vcs[puma_vcs < 5].index"
   ]
  },
  {
   "cell_type": "code",
   "execution_count": null,
   "metadata": {},
   "outputs": [],
   "source": [
    "pumas_to_merge"
   ]
  },
  {
   "cell_type": "code",
   "execution_count": null,
   "metadata": {},
   "outputs": [],
   "source": [
    "# merge with largest adjacent\n",
    "merges = {}\n",
    "for puma in pumas_to_merge:\n",
    "    candidates = queen_weights.loc[puma].neighbor\n",
    "    neighbor = puma_vcs.loc[[i for i in candidates if i in puma_vcs.index]].idxmax()\n",
    "    merges[puma] = neighbor\n",
    "# manually do this one, I guess it's isolated and ends up merged with another sub-5 PUMA\n",
    "merges['03765'] = '03767'\n",
    "merges"
   ]
  },
  {
   "cell_type": "code",
   "execution_count": null,
   "metadata": {},
   "outputs": [],
   "source": [
    "data['merged_puma'] = data.puma.replace(merges)"
   ]
  },
  {
   "cell_type": "code",
   "execution_count": null,
   "metadata": {},
   "outputs": [],
   "source": [
    "# probably just recorded incorrectly ()\n",
    "data = data[data.Main_SalesPriceAmount >= 1000].copy()"
   ]
  },
  {
   "cell_type": "code",
   "execution_count": null,
   "metadata": {},
   "outputs": [],
   "source": [
    "data['year'] = data.Main_RecordingDate.dt.year"
   ]
  },
  {
   "cell_type": "code",
   "execution_count": null,
   "metadata": {},
   "outputs": [],
   "source": [
    "# now build the model\n",
    "data['logprice'] = np.log(data.Main_SalesPriceAmount)\n",
    "data['logarea_sqm'] = np.log(data.lot_size_sqm)"
   ]
  },
  {
   "cell_type": "code",
   "execution_count": null,
   "metadata": {},
   "outputs": [],
   "source": [
    "# adding dummies for year means we are estimating the appreciation within the model, using the observed data\n",
    "exog = sm.add_constant(\n",
    "    pd.get_dummies(data[['logarea_sqm', 'merged_puma', 'year']], \n",
    "                   columns=['merged_puma', 'year']).drop(columns=['merged_puma_07104', 'year_2017']))\n",
    "mod = sm.OLS(data.logprice, exog)\n",
    "fit = mod.fit()\n",
    "fit.summary()"
   ]
  },
  {
   "cell_type": "code",
   "execution_count": null,
   "metadata": {},
   "outputs": [],
   "source": [
    "fit.resid.std()"
   ]
  },
  {
   "cell_type": "code",
   "execution_count": null,
   "metadata": {},
   "outputs": [],
   "source": [
    "res = pd.DataFrame({\n",
    "    'Coef': fit.params,\n",
    "    'Std. Err.': fit.bse,\n",
    "    't-value': fit.tvalues,\n",
    "    'p-value': fit.pvalues\n",
    "})\n",
    "\n",
    "res = res.loc[filter(lambda x: not 'puma' in x, res.index)]\n",
    "\n",
    "res = res.rename(index={'const': 'Constant', 'logarea_sqm': 'ln(lot area) (square meters)'}).rename(index=lambda x: x.replace('year_', 'Transaction year: '))\n",
    "\n",
    "def _sigstars (pval):\n",
    "    if pval < 0.001:\n",
    "        return '***'\n",
    "    elif pval < 0.01:\n",
    "        return '**'\n",
    "    elif pval < 0.05:\n",
    "        return '*'\n",
    "    elif pval < 0.1:\n",
    "        return '.'\n",
    "    else:\n",
    "        return ''\n",
    "\n",
    "def sigstars (coefs, pvals):\n",
    "    return coefs.astype('str').str.cat(pvals.apply(_sigstars))\n",
    "\n",
    "res['Coef'] = sigstars(res.Coef.round(2), res['p-value'])\n",
    "\n",
    "res[['Std. Err.', 't-value', 'p-value']] = res[['Std. Err.', 't-value', 'p-value']].round(2)\n",
    "\n",
    "res.loc['Transaction year: 2017', 'Coef'] = 'base'\n",
    "res.loc['Sample size', 'Coef'] = '{:,d}'.format(int(fit.nobs))\n",
    "res.loc['R^2', 'Coef'] = fit.rsquared.round(2)\n",
    "res.loc['Adj. R^2', 'Coef'] = fit.rsquared_adj.round(2)\n",
    "res"
   ]
  },
  {
   "cell_type": "code",
   "execution_count": null,
   "metadata": {},
   "outputs": [],
   "source": [
    "print(res.fillna('').to_latex())"
   ]
  },
  {
   "cell_type": "code",
   "execution_count": null,
   "metadata": {},
   "outputs": [],
   "source": [
    "# plot out just the rent new MF\n",
    "land = gp.read_file('../../sorting/data/ne_10m_land.shp').to_crs(epsg=26911)\n",
    "\n",
    "roads = pd.concat([gp.read_file(i).to_crs(epsg=26911) for i in glob('../../sorting/data/tl_roads/*.shp')], ignore_index=True)\n",
    "\n",
    "counties = gp.read_file('../../sorting/data/counties/tl_2019_us_county.shp').to_crs(26911)\n",
    "counties = counties[(counties.STATEFP == '06') & counties.NAME.isin(['Los Angeles', 'Ventura', 'Orange', 'Riverside', 'San Bernardino', 'Imperial'])]"
   ]
  },
  {
   "cell_type": "code",
   "execution_count": null,
   "metadata": {},
   "outputs": [],
   "source": [
    "pumas['merged_puma'] = pumas.GEOID.replace(merges)\n",
    "\n",
    "f, ax = plt.subplots(1, 1, figsize=(9, 5.5))\n",
    "\n",
    "fes = fit.params.loc[[i for i in fit.params.index if 'puma' in i]].rename('fe').reset_index()\n",
    "fes['puma'] = '06' + fes['index'].str.slice(-5)\n",
    "fes = fes.set_index('puma')\n",
    "\n",
    "# add back base effect\n",
    "fes.loc['0607104'] = 0\n",
    "\n",
    "pumas_fes = pumas.merge(fes, left_on='merged_puma', right_index=True, validate='m:1')\n",
    "\n",
    "pumas_fes.to_crs(epsg=26911).plot(ax=ax, column='fe', cmap='Blues', scheme='quantiles', legend=True)\n",
    "roads.plot(color='#888888', ax=ax, lw=0.5)\n",
    "counties.plot(edgecolor='#000',  facecolor='none', ax=ax, lw=1)\n",
    "#water.plot(color='#aaaaaa', ax=ax)\n",
    "ax.set_ylim(3.59e6, 3.95e6)\n",
    "ax.set_xlim(2.74e5, 7.7e5)\n",
    "ax.set_xticks([])\n",
    "ax.set_yticks([])\n",
    "\n",
    "ax.set_yticks([])\n",
    "ax.set_xticks([])\n",
    "#ax.set_axis_off()\n",
    "\n",
    "\n",
    "#     ax.legend(\n",
    "#         [mpatch.Patch(color=c) for c in colors.values()],\n",
    "#         [i.replace('$-', '-$').replace('$', '\\\\$') for i in colors.keys()],\n",
    "#         loc='lower left',\n",
    "#         title='Change in average rent',\n",
    "#         framealpha=1,\n",
    "#         fontsize='medium',\n",
    "#         title_fontsize='medium'\n",
    "#     )\n",
    "plt.savefig('../../dissertation/fig/construction/vacant_fes.png', dpi=300, bbox_inches='tight')\n"
   ]
  },
  {
   "cell_type": "markdown",
   "metadata": {},
   "source": [
    "## now estimate value of all vacant land in gp16"
   ]
  },
  {
   "cell_type": "code",
   "execution_count": null,
   "metadata": {},
   "outputs": [],
   "source": [
    "est_data = pd.read_sql('''\n",
    "    SELECT gid, puma, ST_Area(geog) AS area_sqm FROM diss.gp16 WHERE scag_zn_co IN ('1110', '1111', '1112', '1113', '1114', '1115', '1116', '1117', '1118', '1119', -- single-family\n",
    "        '1150') AND Building_PropertyLandUseStndCode = 'VL101'\n",
    "''', DB_URI)"
   ]
  },
  {
   "cell_type": "code",
   "execution_count": null,
   "metadata": {},
   "outputs": [],
   "source": [
    "est_data['logarea_sqm'] = np.log(est_data.area_sqm)"
   ]
  },
  {
   "cell_type": "code",
   "execution_count": null,
   "metadata": {},
   "outputs": [],
   "source": [
    "est_data['merged_puma'] = est_data.puma.replace(merges)"
   ]
  },
  {
   "cell_type": "code",
   "execution_count": null,
   "metadata": {},
   "outputs": [],
   "source": [
    "for yr in range(2008, 2017):\n",
    "    # set all dummies to 0, 2017 is left out year, to account for inflation\n",
    "    est_data[f'year_{yr}'] = 0"
   ]
  },
  {
   "cell_type": "code",
   "execution_count": null,
   "metadata": {},
   "outputs": [],
   "source": [
    "correction_factor = np.sum(fit.resid ** 2) / (fit.nobs - len(fit.params)) / 2\n",
    "est_data['npv'] = np.exp(fit.predict(sm.add_constant(pd.get_dummies(est_data, columns=['merged_puma']))[exog.columns]) + correction_factor)"
   ]
  },
  {
   "cell_type": "code",
   "execution_count": null,
   "metadata": {},
   "outputs": [],
   "source": [
    "correction_factor"
   ]
  },
  {
   "cell_type": "code",
   "execution_count": null,
   "metadata": {},
   "outputs": [],
   "source": [
    "est_data[['gid', 'npv']].to_sql('vacant_npv', DB_URI, schema='diss')"
   ]
  },
  {
   "cell_type": "code",
   "execution_count": null,
   "metadata": {},
   "outputs": [],
   "source": [
    "eng = sq.create_engine(DB_URI)\n",
    "with eng.connect() as trans:\n",
    "    trans.execute('ALTER TABLE diss.gp16 ADD COLUMN vacant_npv DOUBLE PRECISION')\n",
    "    trans.execute('UPDATE diss.gp16 SET vacant_npv = npv FROM diss.vacant_npv v WHERE gp16.gid = v.gid')\n",
    "    trans.execute('DROP TABLE diss.vacant_npv')"
   ]
  },
  {
   "cell_type": "code",
   "execution_count": null,
   "metadata": {},
   "outputs": [],
   "source": []
  }
 ],
 "metadata": {
  "kernelspec": {
   "display_name": "Python 3",
   "language": "python",
   "name": "python3"
  },
  "language_info": {
   "codemirror_mode": {
    "name": "ipython",
    "version": 3
   },
   "file_extension": ".py",
   "mimetype": "text/x-python",
   "name": "python",
   "nbconvert_exporter": "python",
   "pygments_lexer": "ipython3",
   "version": "3.8.8"
  }
 },
 "nbformat": 4,
 "nbformat_minor": 4
}
