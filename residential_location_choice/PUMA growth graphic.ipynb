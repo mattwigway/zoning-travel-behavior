{
 "cells": [
  {
   "cell_type": "markdown",
   "id": "ultimate-yacht",
   "metadata": {},
   "source": [
    "# PUMA growth graphic\n",
    "\n",
    "For RHNA option."
   ]
  },
  {
   "cell_type": "code",
   "execution_count": null,
   "id": "increasing-welsh",
   "metadata": {},
   "outputs": [],
   "source": [
    "%matplotlib inline\n",
    "%config InlineBackend.figure_format = 'retina'\n",
    "\n",
    "import pandas as pd\n",
    "import numpy as np\n",
    "import matplotlib.pyplot as plt\n",
    "import geopandas as gp\n",
    "from census import Census\n",
    "import os\n",
    "from glob import glob\n",
    "import matplotlib.patches as mpatch"
   ]
  },
  {
   "cell_type": "code",
   "execution_count": null,
   "id": "legendary-noise",
   "metadata": {},
   "outputs": [],
   "source": [
    "plt.style.use('asu-light')"
   ]
  },
  {
   "cell_type": "code",
   "execution_count": null,
   "id": "unlikely-tragedy",
   "metadata": {},
   "outputs": [],
   "source": [
    "capi = Census(os.environ['CENSUS_API_KEY'])"
   ]
  },
  {
   "cell_type": "code",
   "execution_count": null,
   "id": "legislative-investor",
   "metadata": {},
   "outputs": [],
   "source": [
    "pumas = gp.read_file('/Volumes/Pheasant Ridge/IPUMS/pumas/socal_pumas_projected.shp').dissolve('PUMA')"
   ]
  },
  {
   "cell_type": "code",
   "execution_count": null,
   "id": "upset-butler",
   "metadata": {},
   "outputs": [],
   "source": [
    "# plot out just the rent new MF\n",
    "land = gp.read_file('../../sorting/data/ne_10m_land.shp').to_crs(epsg=26911)\n",
    "\n",
    "roads = pd.concat([gp.read_file(i).to_crs(epsg=26911) for i in glob('../../sorting/data/tl_roads/*.shp')], ignore_index=True)\n",
    "\n",
    "counties = gp.read_file('../../sorting/data/counties/tl_2019_us_county.shp').to_crs(26911)\n",
    "counties = counties[(counties.STATEFP == '06') & counties.NAME.isin(['Los Angeles', 'Ventura', 'Orange', 'Riverside', 'San Bernardino', 'Imperial'])]"
   ]
  },
  {
   "cell_type": "code",
   "execution_count": null,
   "id": "optimum-locking",
   "metadata": {},
   "outputs": [],
   "source": [
    "growth_rates = pd.read_csv('../data/puma_growth.csv')"
   ]
  },
  {
   "cell_type": "code",
   "execution_count": null,
   "id": "pressed-segment",
   "metadata": {},
   "outputs": [],
   "source": [
    "growth_rates.head()"
   ]
  },
  {
   "cell_type": "code",
   "execution_count": null,
   "id": "sticky-fellowship",
   "metadata": {},
   "outputs": [],
   "source": [
    "growth_rates[['puma', 'mf']] = growth_rates['Unnamed: 0'].str.split('_', expand=True)"
   ]
  },
  {
   "cell_type": "code",
   "execution_count": null,
   "id": "random-observation",
   "metadata": {},
   "outputs": [],
   "source": [
    "pumas"
   ]
  },
  {
   "cell_type": "code",
   "execution_count": null,
   "id": "miniature-ocean",
   "metadata": {},
   "outputs": [],
   "source": [
    "colors = {\n",
    "    (0, 0): ('0%', '#f8f8f8'),\n",
    "    (0, 1): ('< 1%', '#b2e2e2'),\n",
    "    (1, 5): ('1–5%', '#66c2a4'),\n",
    "    (5, 25): ('5–25%', '#2ca25f'),\n",
    "    (25, np.inf): ('≥25%', '#006d2c')\n",
    "}\n",
    "\n",
    "def color_for_val (val):\n",
    "    if pd.isnull(val):\n",
    "        return '#ffffff'\n",
    "    \n",
    "    for rnge, spec in colors.items():\n",
    "        if rnge[0] == rnge[1] and val == rnge[0]:\n",
    "            return spec[1]\n",
    "        elif val >= rnge[0] and val < rnge[1]:\n",
    "            return spec[1]\n",
    "    else:\n",
    "        raise ValueError(f'Value {val} not in any range!')\n",
    "\n",
    "def map_const (rates, ax=None, draw_map=True, draw_hqta=False, legend=True, inset=True, _inset=False):\n",
    "    if ax is None:\n",
    "        f, ax = plt.subplots(figsize=(10, 10))\n",
    "        \n",
    "    if draw_map:\n",
    "        puma_development = pumas.merge(rates, left_index=True, right_on='puma', validate='m:1')\n",
    "        puma_development.to_crs(epsg=26911).plot(ax=ax, color=(puma_development.total_growth  * 100).apply(color_for_val))\n",
    "        roads.plot(color='#888888', ax=ax, lw=0.25)\n",
    "        counties.plot(edgecolor='#000',  facecolor='none', ax=ax, lw=1)\n",
    "        \n",
    "#         if draw_hqta:\n",
    "#             hqta.plot(ax=ax, color='#00a3e0', alpha=0.3, lw=1)\n",
    "        \n",
    "        #water.plot(color='#aaaaaa', ax=ax)\n",
    "        if _inset:\n",
    "            ax.set_ylim(3.73e6, 3.79e6)\n",
    "            ax.set_xlim(3.1e5, 4.2e5)\n",
    "        elif draw_hqta:\n",
    "            ax.set_ylim(3.67e6, 3.83e6)\n",
    "            ax.set_xlim(3.45e5, 5.8e5)\n",
    "        else:\n",
    "            ax.set_ylim(3.59e6, 3.98e6)\n",
    "            ax.set_xlim(2.75e5, 7.7e5)\n",
    "\n",
    "        if inset and not _inset:\n",
    "            inset_ax = ax.inset_axes([0.5, 0.61, 0.5, 0.4])\n",
    "            inset_ax.set_xlabel('Central Los Angeles')\n",
    "            map_const(rates, draw_hqta=draw_hqta, ax=inset_ax, legend=False, _inset=True)\n",
    "            \n",
    "    ax.set_xticks([])\n",
    "    ax.set_yticks([])\n",
    "\n",
    "    ax.set_yticks([])\n",
    "    ax.set_xticks([])\n",
    "\n",
    "    ax.set_aspect('equal')\n",
    "\n",
    "    if legend:\n",
    "        patches = [mpatch.Patch(color=c[1]) for c in colors.values()]\n",
    "        labels = [c[0] for c in colors.values()]\n",
    "        \n",
    "#         if draw_hqta:\n",
    "#             patches.append(mpatch.Patch(color='#00a3e0', alpha=0.3))\n",
    "#             labels.append('High-quality transit area')\n",
    "        \n",
    "        ax.legend(\n",
    "            patches,\n",
    "            labels,\n",
    "            loc='lower left' if draw_map else 'center',\n",
    "            title='Housing unit growth',\n",
    "            framealpha=1,\n",
    "            fontsize='medium' if draw_map else 'large',\n",
    "            title_fontsize='medium' if draw_map else 'large'\n",
    "        )\n",
    "        \n",
    "        if not draw_map:\n",
    "            ax.set_axis_off()\n",
    " "
   ]
  },
  {
   "cell_type": "code",
   "execution_count": null,
   "id": "cloudy-sarah",
   "metadata": {},
   "outputs": [],
   "source": [
    "f, axs = plt.subplots(2, 1, figsize=(6, 10))\n",
    "\n",
    "for lbl, sfmf, ax in zip(('Single-family', 'Multi-family'), ('sf', 'mf'), axs):\n",
    "    map_const(growth_rates[growth_rates.mf == sfmf], ax=ax, legend=sfmf=='sf')\n",
    "    ax.set_title(lbl)\n",
    "\n",
    "plt.savefig('../../dissertation/fig/sorting/rhna_growth.png', dpi=300, bbox_inches='tight')"
   ]
  },
  {
   "cell_type": "code",
   "execution_count": null,
   "id": "refined-warehouse",
   "metadata": {},
   "outputs": [],
   "source": []
  }
 ],
 "metadata": {
  "kernelspec": {
   "display_name": "Python 3",
   "language": "python",
   "name": "python3"
  },
  "language_info": {
   "codemirror_mode": {
    "name": "ipython",
    "version": 3
   },
   "file_extension": ".py",
   "mimetype": "text/x-python",
   "name": "python",
   "nbconvert_exporter": "python",
   "pygments_lexer": "ipython3",
   "version": "3.8.5"
  }
 },
 "nbformat": 4,
 "nbformat_minor": 5
}
